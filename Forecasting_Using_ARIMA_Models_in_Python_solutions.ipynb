{
  "nbformat": 4,
  "nbformat_minor": 0,
  "metadata": {
    "kernelspec": {
      "name": "python3",
      "display_name": "Python 3"
    },
    "colab": {
      "name": "Forecasting Using ARIMA Models in Python - solutions.ipynb",
      "provenance": [],
      "collapsed_sections": [],
      "toc_visible": true
    }
  },
  "cells": [
    {
      "cell_type": "code",
      "metadata": {
        "id": "itPG-op5BklO",
        "colab_type": "code",
        "colab": {}
      },
      "source": [
        "import warnings\n",
        "warnings.filterwarnings(\"ignore\")"
      ],
      "execution_count": 0,
      "outputs": []
    },
    {
      "cell_type": "code",
      "metadata": {
        "id": "r3-2bRMQ6njS",
        "colab_type": "code",
        "colab": {}
      },
      "source": [
        "import numpy as np\n",
        "import pandas as pd\n",
        "import matplotlib.pyplot as plt"
      ],
      "execution_count": 0,
      "outputs": []
    },
    {
      "cell_type": "markdown",
      "metadata": {
        "id": "aiMRGVpV6pIj",
        "colab_type": "text"
      },
      "source": [
        "[Datacamp Link](https://www.datacamp.com/courses/forecasting-using-arima-models-in-python)"
      ]
    },
    {
      "cell_type": "code",
      "metadata": {
        "id": "I3rpNg5KWJl0",
        "colab_type": "code",
        "colab": {}
      },
      "source": [
        "! pip3 install pmdarima"
      ],
      "execution_count": 0,
      "outputs": []
    },
    {
      "cell_type": "markdown",
      "metadata": {
        "id": "VukTlSS45qUt",
        "colab_type": "text"
      },
      "source": [
        "#  Chapter 1 - ARMA Models\n",
        "\n",
        "Dive straight in and learn about the most important properties of time series. You'll learn about stationarity and how this is important for ARMA models. You'll learn how to test for stationarity by eye and with a standard statistical test. Finally, you'll learn the basic structure of ARMA models and use this to generate some ARMA data and fit an ARMA model. "
      ]
    },
    {
      "cell_type": "markdown",
      "metadata": {
        "id": "waK3wcZ96KY4",
        "colab_type": "text"
      },
      "source": [
        "### Intro to time series and stationarity\n"
      ]
    },
    {
      "cell_type": "code",
      "metadata": {
        "trusted": true,
        "id": "QjpmfNLh5qUu",
        "colab_type": "code",
        "colab": {}
      },
      "source": [
        "# Import modules\n",
        "import pandas as pd\n",
        "import matplotlib.pyplot as plt\n",
        "\n",
        "# Load in the time series\n",
        "candy = pd.read_csv('candy_production.csv', \n",
        "                 index_col='date', \n",
        "                 parse_dates=True)"
      ],
      "execution_count": 0,
      "outputs": []
    },
    {
      "cell_type": "code",
      "metadata": {
        "id": "sjIxpV25601-",
        "colab_type": "code",
        "colab": {
          "base_uri": "https://localhost:8080/",
          "height": 235
        },
        "outputId": "2c1f7d67-ee96-477f-8969-3327851956ef"
      },
      "source": [
        "candy.head()"
      ],
      "execution_count": 3,
      "outputs": [
        {
          "output_type": "execute_result",
          "data": {
            "text/html": [
              "<div>\n",
              "<style scoped>\n",
              "    .dataframe tbody tr th:only-of-type {\n",
              "        vertical-align: middle;\n",
              "    }\n",
              "\n",
              "    .dataframe tbody tr th {\n",
              "        vertical-align: top;\n",
              "    }\n",
              "\n",
              "    .dataframe thead th {\n",
              "        text-align: right;\n",
              "    }\n",
              "</style>\n",
              "<table border=\"1\" class=\"dataframe\">\n",
              "  <thead>\n",
              "    <tr style=\"text-align: right;\">\n",
              "      <th></th>\n",
              "      <th>IPG3113N</th>\n",
              "    </tr>\n",
              "    <tr>\n",
              "      <th>date</th>\n",
              "      <th></th>\n",
              "    </tr>\n",
              "  </thead>\n",
              "  <tbody>\n",
              "    <tr>\n",
              "      <th>1972-01-01</th>\n",
              "      <td>85.598809</td>\n",
              "    </tr>\n",
              "    <tr>\n",
              "      <th>1972-02-01</th>\n",
              "      <td>71.741404</td>\n",
              "    </tr>\n",
              "    <tr>\n",
              "      <th>1972-03-01</th>\n",
              "      <td>65.948809</td>\n",
              "    </tr>\n",
              "    <tr>\n",
              "      <th>1972-04-01</th>\n",
              "      <td>64.490724</td>\n",
              "    </tr>\n",
              "    <tr>\n",
              "      <th>1972-05-01</th>\n",
              "      <td>64.933842</td>\n",
              "    </tr>\n",
              "  </tbody>\n",
              "</table>\n",
              "</div>"
            ],
            "text/plain": [
              "             IPG3113N\n",
              "date                 \n",
              "1972-01-01  85.598809\n",
              "1972-02-01  71.741404\n",
              "1972-03-01  65.948809\n",
              "1972-04-01  64.490724\n",
              "1972-05-01  64.933842"
            ]
          },
          "metadata": {
            "tags": []
          },
          "execution_count": 3
        }
      ]
    },
    {
      "cell_type": "code",
      "metadata": {
        "id": "z370h91X60gs",
        "colab_type": "code",
        "colab": {
          "base_uri": "https://localhost:8080/",
          "height": 279
        },
        "outputId": "4f6f2b5a-700e-4b2f-f03b-d513bcf6911c"
      },
      "source": [
        "# Plot and show the time series on axis ax\n",
        "fig, ax = plt.subplots()\n",
        "candy.plot(ax=ax)\n",
        "plt.show()"
      ],
      "execution_count": 4,
      "outputs": [
        {
          "output_type": "display_data",
          "data": {
            "image/png": "[encoded data removed]",
            "text/plain": [
              "<Figure size 432x288 with 1 Axes>"
            ]
          },
          "metadata": {
            "tags": []
          }
        }
      ]
    },
    {
      "cell_type": "markdown",
      "metadata": {
        "id": "mR-2yh2l9-pt",
        "colab_type": "text"
      },
      "source": [
        "####Train-test splits"
      ]
    },
    {
      "cell_type": "code",
      "metadata": {
        "id": "I0VSJu5A9Uol",
        "colab_type": "code",
        "colab": {
          "base_uri": "https://localhost:8080/",
          "height": 279
        },
        "outputId": "f1f052b2-78eb-4e28-c9ba-ea6911297a0c"
      },
      "source": [
        "# Split the data into a train and test set\n",
        "candy_train = candy.loc[:'2006']\n",
        "candy_test = candy.loc['2007':]\n",
        "\n",
        "# Create an axis\n",
        "fig, ax = plt.subplots()\n",
        "\n",
        "# Plot the train and test sets on the axis ax\n",
        "candy_train.plot(ax=ax)\n",
        "candy_test.plot(ax=ax)\n",
        "plt.show()"
      ],
      "execution_count": 5,
      "outputs": [
        {
          "output_type": "display_data",
          "data": {
            "image/png": "[encoded data removed]",
            "text/plain": [
              "<Figure size 432x288 with 1 Axes>"
            ]
          },
          "metadata": {
            "tags": []
          }
        }
      ]
    },
    {
      "cell_type": "markdown",
      "metadata": {
        "id": "bE2XeAfQ-B_9",
        "colab_type": "text"
      },
      "source": [
        "####Is it stationary"
      ]
    },
    {
      "cell_type": "markdown",
      "metadata": {
        "id": "ysC6_--b-m4a",
        "colab_type": "text"
      },
      "source": [
        "The DataFrame, `df1` is a time series of Amazon stock close price."
      ]
    },
    {
      "cell_type": "code",
      "metadata": {
        "id": "LANkEyAE-DCV",
        "colab_type": "code",
        "colab": {}
      },
      "source": [
        "df1 = pd.read_csv('amazon_close.csv', index_col='date', parse_dates=True)"
      ],
      "execution_count": 0,
      "outputs": []
    },
    {
      "cell_type": "code",
      "metadata": {
        "id": "GGEVi2wt-bDR",
        "colab_type": "code",
        "colab": {
          "base_uri": "https://localhost:8080/",
          "height": 235
        },
        "outputId": "7ec6fa2d-1ab6-481a-fad3-869131d3f80f"
      },
      "source": [
        "df1.head()"
      ],
      "execution_count": 7,
      "outputs": [
        {
          "output_type": "execute_result",
          "data": {
            "text/html": [
              "<div>\n",
              "<style scoped>\n",
              "    .dataframe tbody tr th:only-of-type {\n",
              "        vertical-align: middle;\n",
              "    }\n",
              "\n",
              "    .dataframe tbody tr th {\n",
              "        vertical-align: top;\n",
              "    }\n",
              "\n",
              "    .dataframe thead th {\n",
              "        text-align: right;\n",
              "    }\n",
              "</style>\n",
              "<table border=\"1\" class=\"dataframe\">\n",
              "  <thead>\n",
              "    <tr style=\"text-align: right;\">\n",
              "      <th></th>\n",
              "      <th>close</th>\n",
              "    </tr>\n",
              "    <tr>\n",
              "      <th>date</th>\n",
              "      <th></th>\n",
              "    </tr>\n",
              "  </thead>\n",
              "  <tbody>\n",
              "    <tr>\n",
              "      <th>2019-02-08</th>\n",
              "      <td>1588.22</td>\n",
              "    </tr>\n",
              "    <tr>\n",
              "      <th>2019-02-07</th>\n",
              "      <td>1614.37</td>\n",
              "    </tr>\n",
              "    <tr>\n",
              "      <th>2019-02-06</th>\n",
              "      <td>1640.26</td>\n",
              "    </tr>\n",
              "    <tr>\n",
              "      <th>2019-02-05</th>\n",
              "      <td>1658.81</td>\n",
              "    </tr>\n",
              "    <tr>\n",
              "      <th>2019-02-04</th>\n",
              "      <td>1633.31</td>\n",
              "    </tr>\n",
              "  </tbody>\n",
              "</table>\n",
              "</div>"
            ],
            "text/plain": [
              "              close\n",
              "date               \n",
              "2019-02-08  1588.22\n",
              "2019-02-07  1614.37\n",
              "2019-02-06  1640.26\n",
              "2019-02-05  1658.81\n",
              "2019-02-04  1633.31"
            ]
          },
          "metadata": {
            "tags": []
          },
          "execution_count": 7
        }
      ]
    },
    {
      "cell_type": "code",
      "metadata": {
        "id": "FsuFEPDx-dvY",
        "colab_type": "code",
        "colab": {
          "base_uri": "https://localhost:8080/",
          "height": 277
        },
        "outputId": "32e4a4a2-3a99-4ecb-8c29-779335b9961d"
      },
      "source": [
        "df1.plot()\n",
        "plt.show()"
      ],
      "execution_count": 8,
      "outputs": [
        {
          "output_type": "display_data",
          "data": {
            "image/png": "[encoded data removed]",
            "text/plain": [
              "<Figure size 432x288 with 1 Axes>"
            ]
          },
          "metadata": {
            "tags": []
          }
        }
      ]
    },
    {
      "cell_type": "markdown",
      "metadata": {
        "id": "6grsxDvA-pSj",
        "colab_type": "text"
      },
      "source": [
        "The DataFrame, `df3` is a time series showing the number of major earthquakes per year (earthquakes of magnitude 7.0 or greater)."
      ]
    },
    {
      "cell_type": "code",
      "metadata": {
        "id": "fSmkScFMAT7A",
        "colab_type": "code",
        "colab": {
          "base_uri": "https://localhost:8080/",
          "height": 235
        },
        "outputId": "29f7d8d9-f63e-46fa-fcdb-53b84442a33a"
      },
      "source": [
        "df3 = pd.read_csv('earthquakes.csv', index_col='date', parse_dates=True)\n",
        "df3 = df3.drop('Year', axis=1)\n",
        "df3.head()"
      ],
      "execution_count": 83,
      "outputs": [
        {
          "output_type": "execute_result",
          "data": {
            "text/html": [
              "<div>\n",
              "<style scoped>\n",
              "    .dataframe tbody tr th:only-of-type {\n",
              "        vertical-align: middle;\n",
              "    }\n",
              "\n",
              "    .dataframe tbody tr th {\n",
              "        vertical-align: top;\n",
              "    }\n",
              "\n",
              "    .dataframe thead th {\n",
              "        text-align: right;\n",
              "    }\n",
              "</style>\n",
              "<table border=\"1\" class=\"dataframe\">\n",
              "  <thead>\n",
              "    <tr style=\"text-align: right;\">\n",
              "      <th></th>\n",
              "      <th>earthquakes_per_year</th>\n",
              "    </tr>\n",
              "    <tr>\n",
              "      <th>date</th>\n",
              "      <th></th>\n",
              "    </tr>\n",
              "  </thead>\n",
              "  <tbody>\n",
              "    <tr>\n",
              "      <th>1900-01-01</th>\n",
              "      <td>13.0</td>\n",
              "    </tr>\n",
              "    <tr>\n",
              "      <th>1901-01-01</th>\n",
              "      <td>14.0</td>\n",
              "    </tr>\n",
              "    <tr>\n",
              "      <th>1902-01-01</th>\n",
              "      <td>8.0</td>\n",
              "    </tr>\n",
              "    <tr>\n",
              "      <th>1903-01-01</th>\n",
              "      <td>10.0</td>\n",
              "    </tr>\n",
              "    <tr>\n",
              "      <th>1904-01-01</th>\n",
              "      <td>16.0</td>\n",
              "    </tr>\n",
              "  </tbody>\n",
              "</table>\n",
              "</div>"
            ],
            "text/plain": [
              "            earthquakes_per_year\n",
              "date                            \n",
              "1900-01-01                  13.0\n",
              "1901-01-01                  14.0\n",
              "1902-01-01                   8.0\n",
              "1903-01-01                  10.0\n",
              "1904-01-01                  16.0"
            ]
          },
          "metadata": {
            "tags": []
          },
          "execution_count": 83
        }
      ]
    },
    {
      "cell_type": "code",
      "metadata": {
        "id": "n9uDxVww_X9h",
        "colab_type": "code",
        "colab": {
          "base_uri": "https://localhost:8080/",
          "height": 279
        },
        "outputId": "bb8cf194-465a-4f12-aeab-be49849b657f"
      },
      "source": [
        "df3.plot()\n",
        "plt.show()"
      ],
      "execution_count": 32,
      "outputs": [
        {
          "output_type": "display_data",
          "data": {
            "image/png": "[encoded data removed]",
            "text/plain": [
              "<Figure size 432x288 with 1 Axes>"
            ]
          },
          "metadata": {
            "tags": []
          }
        }
      ]
    },
    {
      "cell_type": "markdown",
      "metadata": {
        "id": "L14UvO__AvKj",
        "colab_type": "text"
      },
      "source": [
        "###Making time series stationary\n"
      ]
    },
    {
      "cell_type": "markdown",
      "metadata": {
        "id": "bN0PKy8jAz1b",
        "colab_type": "text"
      },
      "source": [
        "####Augmented Dicky-Fuller\n"
      ]
    },
    {
      "cell_type": "code",
      "metadata": {
        "id": "UqBtffkvKdDV",
        "colab_type": "code",
        "colab": {}
      },
      "source": [
        "earthquake = df3"
      ],
      "execution_count": 0,
      "outputs": []
    },
    {
      "cell_type": "markdown",
      "metadata": {
        "id": "KGlUamMbKkQl",
        "colab_type": "text"
      },
      "source": [
        "In this exercise you will run the augmented Dicky-Fuller test on the earthquakes time series to test for stationarity.\n",
        "\n",
        "Remember that if it were not stationary this would mean that the number of earthquakes per year has a trend and is changing. This would be terrible news if it is trending upwards, as it means more damage. It would also be terrible news if it were trending downwards, it might suggest the core of our planet is changing and this could have lots of knock on effects for us!"
      ]
    },
    {
      "cell_type": "code",
      "metadata": {
        "id": "sdRNDZZGA0wB",
        "colab_type": "code",
        "colab": {}
      },
      "source": [
        "# Import augmented dicky-fuller test function\n",
        "from statsmodels.tsa.stattools import adfuller\n",
        "\n",
        "# Run test\n",
        "result = adfuller(earthquake['earthquakes_per_year'])"
      ],
      "execution_count": 0,
      "outputs": []
    },
    {
      "cell_type": "code",
      "metadata": {
        "id": "EOoxyRlZKyVW",
        "colab_type": "code",
        "colab": {
          "base_uri": "https://localhost:8080/",
          "height": 153
        },
        "outputId": "4ad6f52a-981f-4384-f16a-e619707d22d3"
      },
      "source": [
        "result"
      ],
      "execution_count": 38,
      "outputs": [
        {
          "output_type": "execute_result",
          "data": {
            "text/plain": [
              "(-3.183192251191782,\n",
              " 0.02097842525600371,\n",
              " 2,\n",
              " 96,\n",
              " {'1%': -3.5003788874873405,\n",
              "  '10%': -2.5830997960069446,\n",
              "  '5%': -2.8921519665075235},\n",
              " 549.0681467660734)"
            ]
          },
          "metadata": {
            "tags": []
          },
          "execution_count": 38
        }
      ]
    },
    {
      "cell_type": "code",
      "metadata": {
        "id": "g3XOE2VuKu--",
        "colab_type": "code",
        "colab": {
          "base_uri": "https://localhost:8080/",
          "height": 34
        },
        "outputId": "5689c027-9f88-49c9-d8ca-5ab390850e46"
      },
      "source": [
        "# Print test statistic\n",
        "print(result[0])"
      ],
      "execution_count": 39,
      "outputs": [
        {
          "output_type": "stream",
          "text": [
            "-3.183192251191782\n"
          ],
          "name": "stdout"
        }
      ]
    },
    {
      "cell_type": "code",
      "metadata": {
        "id": "RR-bS2A2KsQG",
        "colab_type": "code",
        "colab": {
          "base_uri": "https://localhost:8080/",
          "height": 34
        },
        "outputId": "fcb4169e-ade0-40bc-d859-b62f300de218"
      },
      "source": [
        "# Print p-value\n",
        "print(result[1])"
      ],
      "execution_count": 40,
      "outputs": [
        {
          "output_type": "stream",
          "text": [
            "0.02097842525600371\n"
          ],
          "name": "stdout"
        }
      ]
    },
    {
      "cell_type": "code",
      "metadata": {
        "id": "PgSNRZTjKsJO",
        "colab_type": "code",
        "colab": {
          "base_uri": "https://localhost:8080/",
          "height": 34
        },
        "outputId": "77940b19-4f38-4cd1-bd4e-638f50c31819"
      },
      "source": [
        "# Print critical values\n",
        "print(result[4]) "
      ],
      "execution_count": 41,
      "outputs": [
        {
          "output_type": "stream",
          "text": [
            "{'1%': -3.5003788874873405, '5%': -2.8921519665075235, '10%': -2.5830997960069446}\n"
          ],
          "name": "stdout"
        }
      ]
    },
    {
      "cell_type": "markdown",
      "metadata": {
        "id": "GtUsFvDNK69l",
        "colab_type": "text"
      },
      "source": [
        "####Taking the difference"
      ]
    },
    {
      "cell_type": "markdown",
      "metadata": {
        "id": "Bj8cYSLhLG_L",
        "colab_type": "text"
      },
      "source": [
        "In this exercise, you will to prepare a time series of the population of a city for modeling. If you could predict the growth rate of a city then it would be possible to plan and build the infrastructure that the city will need later, thus future-proofing public spending. "
      ]
    },
    {
      "cell_type": "code",
      "metadata": {
        "id": "0kw3wOPwLPKa",
        "colab_type": "code",
        "colab": {}
      },
      "source": [
        "# dataset not available"
      ],
      "execution_count": 0,
      "outputs": []
    },
    {
      "cell_type": "code",
      "metadata": {
        "id": "aqnfi_85K8wJ",
        "colab_type": "code",
        "colab": {}
      },
      "source": [
        "# Run the ADF test on the time series\n",
        "result = adfuller(city['city_population'])\n",
        "\n",
        "# Plot the time series\n",
        "fig, ax = plt.subplots()\n",
        "city.plot(ax=ax)\n",
        "plt.show()\n",
        "\n",
        "# Print the test statistic and the p-value\n",
        "print('ADF Statistic:', result[0])\n",
        "print('p-value:', result[1])"
      ],
      "execution_count": 0,
      "outputs": []
    },
    {
      "cell_type": "markdown",
      "metadata": {
        "id": "gbFpXkywMsF9",
        "colab_type": "text"
      },
      "source": [
        "\n",
        "\n",
        "```\n",
        "<script.py> output:\n",
        "    ADF Statistic: 5.297698878151182\n",
        "    p-value: 1.0\n",
        "```\n",
        "\n"
      ]
    },
    {
      "cell_type": "markdown",
      "metadata": {
        "id": "DJfr3kzALYSz",
        "colab_type": "text"
      },
      "source": [
        "- Take the first difference of `city` dropping the `NaN` values. Assign this to `city_stationary` and run the test again."
      ]
    },
    {
      "cell_type": "code",
      "metadata": {
        "id": "r5Cwf1ITLcsM",
        "colab_type": "code",
        "colab": {}
      },
      "source": [
        "# Calculate the first difference of the time series\n",
        "city_stationary = city.diff().dropna()\n",
        "\n",
        "# Run ADF test on the differenced time series\n",
        "result = adfuller(city_stationary['city_population'])\n",
        "\n",
        "# Plot the differenced time series\n",
        "fig, ax = plt.subplots()\n",
        "city_stationary.plot(ax=ax)\n",
        "plt.show()\n",
        "\n",
        "# Print the test statistic and the p-value\n",
        "print('ADF Statistic:', result[0])\n",
        "print('p-value:', result[1])"
      ],
      "execution_count": 0,
      "outputs": []
    },
    {
      "cell_type": "markdown",
      "metadata": {
        "id": "woueuP24Myue",
        "colab_type": "text"
      },
      "source": [
        "\n",
        "\n",
        "```\n",
        "<script.py> output:\n",
        "    ADF Statistic: -0.8146211646181589\n",
        "    p-value: 0.8147894381484937\n",
        "```\n",
        "\n"
      ]
    },
    {
      "cell_type": "markdown",
      "metadata": {
        "id": "glwPWsocLg0c",
        "colab_type": "text"
      },
      "source": [
        "- Take the second difference of `city`, by applying the `.diff()` method twice and drop the `NaN` values."
      ]
    },
    {
      "cell_type": "code",
      "metadata": {
        "id": "HF7ftz09Llk9",
        "colab_type": "code",
        "colab": {}
      },
      "source": [
        "# Calculate the second difference of the time series\n",
        "city_stationary = city.diff().diff().dropna()\n",
        "\n",
        "# Run ADF test on the differenced time series\n",
        "result = adfuller(city_stationary['city_population'])\n",
        "\n",
        "# Plot the differenced time series\n",
        "fig, ax = plt.subplots()\n",
        "city_stationary.plot(ax=ax)\n",
        "plt.show()\n",
        "\n",
        "# Print the test statistic and the p-value\n",
        "print('ADF Statistic:', result[0])\n",
        "print('p-value:', result[1])"
      ],
      "execution_count": 0,
      "outputs": []
    },
    {
      "cell_type": "markdown",
      "metadata": {
        "id": "D-RFW0uIM3OB",
        "colab_type": "text"
      },
      "source": [
        "\n",
        "\n",
        "```\n",
        "<script.py> output:\n",
        "    ADF Statistic: -6.43364603291874\n",
        "    p-value: 1.673449851040049e-08\n",
        "```\n",
        "\n",
        "**Comment:**\n",
        "\n",
        "A p-value of 0.000000016 is very significant! This time series is now stationary and ready for modeling!\n"
      ]
    },
    {
      "cell_type": "markdown",
      "metadata": {
        "id": "Rc6-7AHQNC5p",
        "colab_type": "text"
      },
      "source": [
        "####Other tranforms\n",
        "\n",
        "A classic way of transforming stock time series is the log-return of the series. "
      ]
    },
    {
      "cell_type": "code",
      "metadata": {
        "id": "pr386Q_kNfe6",
        "colab_type": "code",
        "colab": {
          "base_uri": "https://localhost:8080/",
          "height": 173
        },
        "outputId": "c6ee4a9e-f0dd-4906-b5c2-f557d2d78a14"
      },
      "source": [
        "amazon = df1\n",
        "amazon[:3]"
      ],
      "execution_count": 47,
      "outputs": [
        {
          "output_type": "execute_result",
          "data": {
            "text/html": [
              "<div>\n",
              "<style scoped>\n",
              "    .dataframe tbody tr th:only-of-type {\n",
              "        vertical-align: middle;\n",
              "    }\n",
              "\n",
              "    .dataframe tbody tr th {\n",
              "        vertical-align: top;\n",
              "    }\n",
              "\n",
              "    .dataframe thead th {\n",
              "        text-align: right;\n",
              "    }\n",
              "</style>\n",
              "<table border=\"1\" class=\"dataframe\">\n",
              "  <thead>\n",
              "    <tr style=\"text-align: right;\">\n",
              "      <th></th>\n",
              "      <th>close</th>\n",
              "    </tr>\n",
              "    <tr>\n",
              "      <th>date</th>\n",
              "      <th></th>\n",
              "    </tr>\n",
              "  </thead>\n",
              "  <tbody>\n",
              "    <tr>\n",
              "      <th>2019-02-08</th>\n",
              "      <td>1588.22</td>\n",
              "    </tr>\n",
              "    <tr>\n",
              "      <th>2019-02-07</th>\n",
              "      <td>1614.37</td>\n",
              "    </tr>\n",
              "    <tr>\n",
              "      <th>2019-02-06</th>\n",
              "      <td>1640.26</td>\n",
              "    </tr>\n",
              "  </tbody>\n",
              "</table>\n",
              "</div>"
            ],
            "text/plain": [
              "              close\n",
              "date               \n",
              "2019-02-08  1588.22\n",
              "2019-02-07  1614.37\n",
              "2019-02-06  1640.26"
            ]
          },
          "metadata": {
            "tags": []
          },
          "execution_count": 47
        }
      ]
    },
    {
      "cell_type": "markdown",
      "metadata": {
        "id": "ctf2jt8aNRds",
        "colab_type": "text"
      },
      "source": [
        "The Amazon stock time series has already been loaded for you as `amazon`. You can calculate the log-return of this DataFrame by substituting:\n",
        "\n",
        "- $y_{t}$→ `amazon`\n",
        "- $y_{t−1}$→ `amazon.shift(1)`\n",
        "- $log()$→ `np.log()`\n",
        "\n",
        "In this exercise you will compare the log-return transform and the first order difference of the Amazon stock time series to find which is better for making the time series stationary."
      ]
    },
    {
      "cell_type": "code",
      "metadata": {
        "id": "qcU2uPwLLci0",
        "colab_type": "code",
        "colab": {
          "base_uri": "https://localhost:8080/",
          "height": 173
        },
        "outputId": "9fe335f6-6954-44ba-badb-0835b57266b0"
      },
      "source": [
        "# Calculate the first difference and drop the nans\n",
        "amazon_diff = amazon.diff().dropna()\n",
        "amazon_diff[:3]"
      ],
      "execution_count": 46,
      "outputs": [
        {
          "output_type": "execute_result",
          "data": {
            "text/html": [
              "<div>\n",
              "<style scoped>\n",
              "    .dataframe tbody tr th:only-of-type {\n",
              "        vertical-align: middle;\n",
              "    }\n",
              "\n",
              "    .dataframe tbody tr th {\n",
              "        vertical-align: top;\n",
              "    }\n",
              "\n",
              "    .dataframe thead th {\n",
              "        text-align: right;\n",
              "    }\n",
              "</style>\n",
              "<table border=\"1\" class=\"dataframe\">\n",
              "  <thead>\n",
              "    <tr style=\"text-align: right;\">\n",
              "      <th></th>\n",
              "      <th>close</th>\n",
              "    </tr>\n",
              "    <tr>\n",
              "      <th>date</th>\n",
              "      <th></th>\n",
              "    </tr>\n",
              "  </thead>\n",
              "  <tbody>\n",
              "    <tr>\n",
              "      <th>2019-02-07</th>\n",
              "      <td>26.15</td>\n",
              "    </tr>\n",
              "    <tr>\n",
              "      <th>2019-02-06</th>\n",
              "      <td>25.89</td>\n",
              "    </tr>\n",
              "    <tr>\n",
              "      <th>2019-02-05</th>\n",
              "      <td>18.55</td>\n",
              "    </tr>\n",
              "  </tbody>\n",
              "</table>\n",
              "</div>"
            ],
            "text/plain": [
              "            close\n",
              "date             \n",
              "2019-02-07  26.15\n",
              "2019-02-06  25.89\n",
              "2019-02-05  18.55"
            ]
          },
          "metadata": {
            "tags": []
          },
          "execution_count": 46
        }
      ]
    },
    {
      "cell_type": "code",
      "metadata": {
        "id": "fRv-hUB2K8-I",
        "colab_type": "code",
        "colab": {
          "base_uri": "https://localhost:8080/",
          "height": 54
        },
        "outputId": "2b59542c-8255-4eea-895b-545cb92ef92a"
      },
      "source": [
        "# Run test and print\n",
        "result_diff = adfuller(amazon_diff['close'])\n",
        "print(result_diff)"
      ],
      "execution_count": 48,
      "outputs": [
        {
          "output_type": "stream",
          "text": [
            "(-7.203579488811258, 2.331271725487009e-10, 23, 1234, {'1%': -3.435660336370594, '5%': -2.863885022214541, '10%': -2.568018522153254}, 10764.626718933836)\n"
          ],
          "name": "stdout"
        }
      ]
    },
    {
      "cell_type": "code",
      "metadata": {
        "id": "hNaNMgyaA04j",
        "colab_type": "code",
        "colab": {
          "base_uri": "https://localhost:8080/",
          "height": 173
        },
        "outputId": "08b9e4fb-d35c-45f9-df24-99de778a6797"
      },
      "source": [
        "# Calculate log-return and drop nans\n",
        "amazon_log = np.log((amazon/amazon.shift(1)).dropna())\n",
        "amazon_log[:3]"
      ],
      "execution_count": 52,
      "outputs": [
        {
          "output_type": "execute_result",
          "data": {
            "text/html": [
              "<div>\n",
              "<style scoped>\n",
              "    .dataframe tbody tr th:only-of-type {\n",
              "        vertical-align: middle;\n",
              "    }\n",
              "\n",
              "    .dataframe tbody tr th {\n",
              "        vertical-align: top;\n",
              "    }\n",
              "\n",
              "    .dataframe thead th {\n",
              "        text-align: right;\n",
              "    }\n",
              "</style>\n",
              "<table border=\"1\" class=\"dataframe\">\n",
              "  <thead>\n",
              "    <tr style=\"text-align: right;\">\n",
              "      <th></th>\n",
              "      <th>close</th>\n",
              "    </tr>\n",
              "    <tr>\n",
              "      <th>date</th>\n",
              "      <th></th>\n",
              "    </tr>\n",
              "  </thead>\n",
              "  <tbody>\n",
              "    <tr>\n",
              "      <th>2019-02-07</th>\n",
              "      <td>0.016331</td>\n",
              "    </tr>\n",
              "    <tr>\n",
              "      <th>2019-02-06</th>\n",
              "      <td>0.015910</td>\n",
              "    </tr>\n",
              "    <tr>\n",
              "      <th>2019-02-05</th>\n",
              "      <td>0.011246</td>\n",
              "    </tr>\n",
              "  </tbody>\n",
              "</table>\n",
              "</div>"
            ],
            "text/plain": [
              "               close\n",
              "date                \n",
              "2019-02-07  0.016331\n",
              "2019-02-06  0.015910\n",
              "2019-02-05  0.011246"
            ]
          },
          "metadata": {
            "tags": []
          },
          "execution_count": 52
        }
      ]
    },
    {
      "cell_type": "code",
      "metadata": {
        "id": "fwDTFXEwN6Er",
        "colab_type": "code",
        "colab": {
          "base_uri": "https://localhost:8080/",
          "height": 54
        },
        "outputId": "47b1ffaf-c335-4fef-c204-54978677d52e"
      },
      "source": [
        "# Run test and print\n",
        "result_log = adfuller(amazon_log['close'])\n",
        "print(result_log)"
      ],
      "execution_count": 53,
      "outputs": [
        {
          "output_type": "stream",
          "text": [
            "(-34.91574853605969, 0.0, 0, 1257, {'1%': -3.4355629707955395, '5%': -2.863842063387667, '10%': -2.567995644141416}, -6245.723147672197)\n"
          ],
          "name": "stdout"
        }
      ]
    },
    {
      "cell_type": "markdown",
      "metadata": {
        "id": "YsLy0ARxOElQ",
        "colab_type": "text"
      },
      "source": [
        "**Comments:**\n",
        "\n",
        "Notice that both the differenced and the log-return transformed time series have a small p-value, but the log transformed time series has a much more negative test statistic. This means the log-return tranformation is better."
      ]
    },
    {
      "cell_type": "markdown",
      "metadata": {
        "id": "lwv5EbbXOKAx",
        "colab_type": "text"
      },
      "source": [
        "###Intro to AR, MA and ARMA models\n"
      ]
    },
    {
      "cell_type": "markdown",
      "metadata": {
        "id": "6SPVt5P6OLkh",
        "colab_type": "text"
      },
      "source": [
        "####Generating ARMA data\n",
        "\n",
        "In this exercise you will generate 100 days worth of AR/MA/ARMA data. \n",
        "\n",
        "Remember:\n",
        "\n",
        "- The first value of each list of AR and MA coefficients must be 1 for the lag-0 term.\n",
        "- For any model ARMA(p,q), the list `ar_coefs` will have p+1 values and the `ma_coefs` will have q+1 values."
      ]
    },
    {
      "cell_type": "markdown",
      "metadata": {
        "id": "2LjOy01nO_B2",
        "colab_type": "text"
      },
      "source": [
        "1. Set `ar_coefs` and `ma_coefs` for an MA(1) model with MA lag-1 coefficient of -0.7. Generate a time series of 100 values."
      ]
    },
    {
      "cell_type": "code",
      "metadata": {
        "id": "DB3xxfqQN59w",
        "colab_type": "code",
        "colab": {}
      },
      "source": [
        "from statsmodels.tsa.arima_process import arma_generate_sample\n",
        "np.random.seed(1)"
      ],
      "execution_count": 0,
      "outputs": []
    },
    {
      "cell_type": "code",
      "metadata": {
        "id": "kVpq1ZIcPGmh",
        "colab_type": "code",
        "colab": {}
      },
      "source": [
        "# Import data generation function and set random seed# Set coefficients\n",
        "ar_coefs = [1]\n",
        "ma_coefs = [1, -0.7]\n",
        "\n",
        "# Generate data\n",
        "y = arma_generate_sample(ar_coefs, ma_coefs, nsample=100, sigma=0.5, )"
      ],
      "execution_count": 0,
      "outputs": []
    },
    {
      "cell_type": "code",
      "metadata": {
        "id": "dQQrpCy_PPhr",
        "colab_type": "code",
        "colab": {
          "base_uri": "https://localhost:8080/",
          "height": 34
        },
        "outputId": "b5d29d48-790b-47cc-c093-4ebd9242cca8"
      },
      "source": [
        "y[:3]"
      ],
      "execution_count": 58,
      "outputs": [
        {
          "output_type": "execute_result",
          "data": {
            "text/plain": [
              "array([ 0.81217268, -0.87439908, -0.04997113])"
            ]
          },
          "metadata": {
            "tags": []
          },
          "execution_count": 58
        }
      ]
    },
    {
      "cell_type": "code",
      "metadata": {
        "id": "-T4I0ueTPGi1",
        "colab_type": "code",
        "colab": {
          "base_uri": "https://localhost:8080/",
          "height": 281
        },
        "outputId": "19759781-c62e-4b5b-a4ab-8e75303d6e2d"
      },
      "source": [
        "plt.plot(y)\n",
        "plt.ylabel(r'$y_t$')\n",
        "plt.xlabel(r'$t$')\n",
        "plt.show()"
      ],
      "execution_count": 57,
      "outputs": [
        {
          "output_type": "display_data",
          "data": {
            "image/png": "[encoded data removed]",
            "text/plain": [
              "<Figure size 432x288 with 1 Axes>"
            ]
          },
          "metadata": {
            "tags": []
          }
        }
      ]
    },
    {
      "cell_type": "markdown",
      "metadata": {
        "id": "EN1qlqvkPVm3",
        "colab_type": "text"
      },
      "source": [
        "2. Set the coefficients for an AR(2) model with AR lag-1 and lag-2 coefficients of 0.3 and 0.2 respectively."
      ]
    },
    {
      "cell_type": "code",
      "metadata": {
        "id": "GZciG5YcPXQh",
        "colab_type": "code",
        "colab": {
          "base_uri": "https://localhost:8080/",
          "height": 281
        },
        "outputId": "590d516d-9692-43c4-fe7c-5a818524b18e"
      },
      "source": [
        "# Import data generation function and set random seed\n",
        "from statsmodels.tsa.arima_process import arma_generate_sample\n",
        "np.random.seed(2)\n",
        "\n",
        "# Set coefficients\n",
        "ar_coefs = [1, -0.3, -0.2]\n",
        "ma_coefs = [1]\n",
        "\n",
        "# Generate data\n",
        "y = arma_generate_sample(ar_coefs, ma_coefs, nsample=100, sigma=0.5, )\n",
        "\n",
        "plt.plot(y)\n",
        "plt.ylabel(r'$y_t$')\n",
        "plt.xlabel(r'$t$')\n",
        "plt.show()"
      ],
      "execution_count": 59,
      "outputs": [
        {
          "output_type": "display_data",
          "data": {
            "image/png": "[encoded data removed]",
            "text/plain": [
              "<Figure size 432x288 with 1 Axes>"
            ]
          },
          "metadata": {
            "tags": []
          }
        }
      ]
    },
    {
      "cell_type": "markdown",
      "metadata": {
        "id": "jc1Za7L-PgnK",
        "colab_type": "text"
      },
      "source": [
        "3.Set the coefficients for a model with form\n",
        "\n",
        "$yt=−0.2y_{t−1}+0.3ϵ_{t−1}+0.4ϵ_{t−2}+ϵ_{t}$ ."
      ]
    },
    {
      "cell_type": "code",
      "metadata": {
        "id": "jAGpcob9PXyJ",
        "colab_type": "code",
        "colab": {
          "base_uri": "https://localhost:8080/",
          "height": 281
        },
        "outputId": "5d158f7e-8b8a-448d-c1ba-ba856423932b"
      },
      "source": [
        "# Import data generation function and set random seed\n",
        "from statsmodels.tsa.arima_process import arma_generate_sample\n",
        "np.random.seed(3)\n",
        "\n",
        "# Set coefficients\n",
        "ar_coefs = [1, 0.2]\n",
        "ma_coefs = [1, 0.3, 0.4]\n",
        "\n",
        "# Generate data\n",
        "y = arma_generate_sample(ar_coefs, ma_coefs, nsample=100, sigma=0.5, )\n",
        "\n",
        "plt.plot(y)\n",
        "plt.ylabel(r'$y_t$')\n",
        "plt.xlabel(r'$t$')\n",
        "plt.show()"
      ],
      "execution_count": 60,
      "outputs": [
        {
          "output_type": "display_data",
          "data": {
            "image/png": "[encoded data removed]",
            "text/plain": [
              "<Figure size 432x288 with 1 Axes>"
            ]
          },
          "metadata": {
            "tags": []
          }
        }
      ]
    },
    {
      "cell_type": "markdown",
      "metadata": {
        "id": "rb5X2QLjPzWe",
        "colab_type": "text"
      },
      "source": [
        "####Fitting Prelude\n",
        "\n",
        "Understanding the order is important when it comes to fitting models. You will always need to select the order of model you fit to your data, no matter what that data is."
      ]
    },
    {
      "cell_type": "code",
      "metadata": {
        "id": "ujLltkQQP4Nj",
        "colab_type": "code",
        "colab": {}
      },
      "source": [
        "# Import the ARMA model\n",
        "from statsmodels.tsa.arima_model import ARMA\n",
        "\n",
        "# Instantiate the model\n",
        "model = ARMA(y, order=(1,1))\n",
        "\n",
        "# Fit the model\n",
        "results = model.fit()"
      ],
      "execution_count": 0,
      "outputs": []
    },
    {
      "cell_type": "code",
      "metadata": {
        "id": "bzGW207FP5z2",
        "colab_type": "code",
        "colab": {
          "base_uri": "https://localhost:8080/",
          "height": 34
        },
        "outputId": "0921c0d2-7053-4ccb-f9c6-b2ac22060da2"
      },
      "source": [
        "results"
      ],
      "execution_count": 63,
      "outputs": [
        {
          "output_type": "execute_result",
          "data": {
            "text/plain": [
              "<statsmodels.tsa.arima_model.ARMAResultsWrapper at 0x7f2b538a9a58>"
            ]
          },
          "metadata": {
            "tags": []
          },
          "execution_count": 63
        }
      ]
    },
    {
      "cell_type": "markdown",
      "metadata": {
        "id": "Myi0RptF5qUw",
        "colab_type": "text"
      },
      "source": [
        "# Chapter 2 - Fitting the Future\n",
        "\n",
        "What lies ahead in this chapter is you predicting what lies ahead in your data. You'll learn how to use the elegant statsmodels package to fit ARMA, ARIMA and ARMAX models. Then you'll use your models to predict the uncertain future of stock prices! "
      ]
    },
    {
      "cell_type": "markdown",
      "metadata": {
        "id": "xQ9gJ-_IQBQn",
        "colab_type": "text"
      },
      "source": [
        "###Fitting time series models\n"
      ]
    },
    {
      "cell_type": "markdown",
      "metadata": {
        "id": "SopiXTlVQDEn",
        "colab_type": "text"
      },
      "source": [
        "####Fitting AR and MA models"
      ]
    },
    {
      "cell_type": "code",
      "metadata": {
        "id": "S_P1_6WZcHcE",
        "colab_type": "code",
        "colab": {
          "base_uri": "https://localhost:8080/",
          "height": 204
        },
        "outputId": "960e9c3e-cba3-4919-fea2-c85ea3ac0092"
      },
      "source": [
        "sample.head()"
      ],
      "execution_count": 80,
      "outputs": [
        {
          "output_type": "execute_result",
          "data": {
            "text/html": [
              "<div>\n",
              "<style scoped>\n",
              "    .dataframe tbody tr th:only-of-type {\n",
              "        vertical-align: middle;\n",
              "    }\n",
              "\n",
              "    .dataframe tbody tr th {\n",
              "        vertical-align: top;\n",
              "    }\n",
              "\n",
              "    .dataframe thead th {\n",
              "        text-align: right;\n",
              "    }\n",
              "</style>\n",
              "<table border=\"1\" class=\"dataframe\">\n",
              "  <thead>\n",
              "    <tr style=\"text-align: right;\">\n",
              "      <th></th>\n",
              "      <th>timeseries_1</th>\n",
              "      <th>timeseries_2</th>\n",
              "    </tr>\n",
              "  </thead>\n",
              "  <tbody>\n",
              "    <tr>\n",
              "      <th>0</th>\n",
              "      <td>-0.183108</td>\n",
              "      <td>-0.183108</td>\n",
              "    </tr>\n",
              "    <tr>\n",
              "      <th>1</th>\n",
              "      <td>-0.245540</td>\n",
              "      <td>-0.117365</td>\n",
              "    </tr>\n",
              "    <tr>\n",
              "      <th>2</th>\n",
              "      <td>-0.258830</td>\n",
              "      <td>-0.218789</td>\n",
              "    </tr>\n",
              "    <tr>\n",
              "      <th>3</th>\n",
              "      <td>-0.279635</td>\n",
              "      <td>-0.169041</td>\n",
              "    </tr>\n",
              "    <tr>\n",
              "      <th>4</th>\n",
              "      <td>-0.384736</td>\n",
              "      <td>-0.282374</td>\n",
              "    </tr>\n",
              "  </tbody>\n",
              "</table>\n",
              "</div>"
            ],
            "text/plain": [
              "   timeseries_1  timeseries_2\n",
              "0     -0.183108     -0.183108\n",
              "1     -0.245540     -0.117365\n",
              "2     -0.258830     -0.218789\n",
              "3     -0.279635     -0.169041\n",
              "4     -0.384736     -0.282374"
            ]
          },
          "metadata": {
            "tags": []
          },
          "execution_count": 80
        }
      ]
    },
    {
      "cell_type": "markdown",
      "metadata": {
        "id": "CjkF2iZ9cdON",
        "colab_type": "text"
      },
      "source": [
        "- Fit an AR(2) model to the `'timeseries_1'` column of `sample`.\n",
        "- Print a summary of the fitted model."
      ]
    },
    {
      "cell_type": "code",
      "metadata": {
        "id": "13AL3SYKca5P",
        "colab_type": "code",
        "colab": {
          "base_uri": "https://localhost:8080/",
          "height": 391
        },
        "outputId": "a03bba6d-73b0-48a2-cfaa-2c046988e9cc"
      },
      "source": [
        "# Instantiate the model\n",
        "model = ARMA(sample['timeseries_1'], order=(2,0))\n",
        "\n",
        "# Fit the model\n",
        "results = model.fit()\n",
        "\n",
        "# Print summary\n",
        "print(results.summary())"
      ],
      "execution_count": 81,
      "outputs": [
        {
          "output_type": "stream",
          "text": [
            "                              ARMA Model Results                              \n",
            "==============================================================================\n",
            "Dep. Variable:           timeseries_1   No. Observations:                 1000\n",
            "Model:                     ARMA(2, 0)   Log Likelihood                 148.855\n",
            "Method:                       css-mle   S.D. of innovations              0.208\n",
            "Date:                Sat, 18 Jan 2020   AIC                           -289.709\n",
            "Time:                        06:58:25   BIC                           -270.078\n",
            "Sample:                             0   HQIC                          -282.248\n",
            "                                                                              \n",
            "======================================================================================\n",
            "                         coef    std err          z      P>|z|      [0.025      0.975]\n",
            "--------------------------------------------------------------------------------------\n",
            "const                 -0.0027      0.018     -0.151      0.880      -0.037       0.032\n",
            "ar.L1.timeseries_1     0.8980      0.030     29.510      0.000       0.838       0.958\n",
            "ar.L2.timeseries_1    -0.2704      0.030     -8.884      0.000      -0.330      -0.211\n",
            "                                    Roots                                    \n",
            "=============================================================================\n",
            "                  Real          Imaginary           Modulus         Frequency\n",
            "-----------------------------------------------------------------------------\n",
            "AR.1            1.6603           -0.9702j            1.9230           -0.0842\n",
            "AR.2            1.6603           +0.9702j            1.9230            0.0842\n",
            "-----------------------------------------------------------------------------\n"
          ],
          "name": "stdout"
        }
      ]
    },
    {
      "cell_type": "markdown",
      "metadata": {
        "id": "c_dnZuyQcpBx",
        "colab_type": "text"
      },
      "source": [
        "- Fit an MA(3) model to the `'timeseries_2'` column of `sample`."
      ]
    },
    {
      "cell_type": "code",
      "metadata": {
        "id": "3GIwvT9ocaxQ",
        "colab_type": "code",
        "colab": {
          "base_uri": "https://localhost:8080/",
          "height": 425
        },
        "outputId": "b6682a08-9c50-4f98-98a4-8b5c307ba1b8"
      },
      "source": [
        "# Instantiate the model\n",
        "model = ARMA(sample['timeseries_2'], order=(0,3))\n",
        "\n",
        "# Fit the model\n",
        "results = model.fit()\n",
        "\n",
        "# Print summary\n",
        "print(results.summary())"
      ],
      "execution_count": 82,
      "outputs": [
        {
          "output_type": "stream",
          "text": [
            "                              ARMA Model Results                              \n",
            "==============================================================================\n",
            "Dep. Variable:           timeseries_2   No. Observations:                 1000\n",
            "Model:                     ARMA(0, 3)   Log Likelihood                 149.007\n",
            "Method:                       css-mle   S.D. of innovations              0.208\n",
            "Date:                Sat, 18 Jan 2020   AIC                           -288.014\n",
            "Time:                        06:59:13   BIC                           -263.475\n",
            "Sample:                             0   HQIC                          -278.687\n",
            "                                                                              \n",
            "======================================================================================\n",
            "                         coef    std err          z      P>|z|      [0.025      0.975]\n",
            "--------------------------------------------------------------------------------------\n",
            "const                 -0.0018      0.012     -0.159      0.874      -0.024       0.021\n",
            "ma.L1.timeseries_2     0.1995      0.031      6.352      0.000       0.138       0.261\n",
            "ma.L2.timeseries_2     0.6359      0.028     22.718      0.000       0.581       0.691\n",
            "ma.L3.timeseries_2    -0.0833      0.029     -2.872      0.004      -0.140      -0.026\n",
            "                                    Roots                                    \n",
            "=============================================================================\n",
            "                  Real          Imaginary           Modulus         Frequency\n",
            "-----------------------------------------------------------------------------\n",
            "MA.1           -0.2389           -1.1928j            1.2165           -0.2815\n",
            "MA.2           -0.2389           +1.1928j            1.2165            0.2815\n",
            "MA.3            8.1089           -0.0000j            8.1089           -0.0000\n",
            "-----------------------------------------------------------------------------\n"
          ],
          "name": "stdout"
        }
      ]
    },
    {
      "cell_type": "markdown",
      "metadata": {
        "id": "VXWtudIwcxFj",
        "colab_type": "text"
      },
      "source": [
        "####Fitting an ARMA model\n"
      ]
    },
    {
      "cell_type": "code",
      "metadata": {
        "id": "TllIwiiwcuGK",
        "colab_type": "code",
        "colab": {
          "base_uri": "https://localhost:8080/",
          "height": 235
        },
        "outputId": "1527003b-c060-42ba-964a-291d65439461"
      },
      "source": [
        "earthquake.head()"
      ],
      "execution_count": 85,
      "outputs": [
        {
          "output_type": "execute_result",
          "data": {
            "text/html": [
              "<div>\n",
              "<style scoped>\n",
              "    .dataframe tbody tr th:only-of-type {\n",
              "        vertical-align: middle;\n",
              "    }\n",
              "\n",
              "    .dataframe tbody tr th {\n",
              "        vertical-align: top;\n",
              "    }\n",
              "\n",
              "    .dataframe thead th {\n",
              "        text-align: right;\n",
              "    }\n",
              "</style>\n",
              "<table border=\"1\" class=\"dataframe\">\n",
              "  <thead>\n",
              "    <tr style=\"text-align: right;\">\n",
              "      <th></th>\n",
              "      <th>earthquakes_per_year</th>\n",
              "    </tr>\n",
              "    <tr>\n",
              "      <th>date</th>\n",
              "      <th></th>\n",
              "    </tr>\n",
              "  </thead>\n",
              "  <tbody>\n",
              "    <tr>\n",
              "      <th>1900-01-01</th>\n",
              "      <td>13.0</td>\n",
              "    </tr>\n",
              "    <tr>\n",
              "      <th>1901-01-01</th>\n",
              "      <td>14.0</td>\n",
              "    </tr>\n",
              "    <tr>\n",
              "      <th>1902-01-01</th>\n",
              "      <td>8.0</td>\n",
              "    </tr>\n",
              "    <tr>\n",
              "      <th>1903-01-01</th>\n",
              "      <td>10.0</td>\n",
              "    </tr>\n",
              "    <tr>\n",
              "      <th>1904-01-01</th>\n",
              "      <td>16.0</td>\n",
              "    </tr>\n",
              "  </tbody>\n",
              "</table>\n",
              "</div>"
            ],
            "text/plain": [
              "            earthquakes_per_year\n",
              "date                            \n",
              "1900-01-01                  13.0\n",
              "1901-01-01                  14.0\n",
              "1902-01-01                   8.0\n",
              "1903-01-01                  10.0\n",
              "1904-01-01                  16.0"
            ]
          },
          "metadata": {
            "tags": []
          },
          "execution_count": 85
        }
      ]
    },
    {
      "cell_type": "code",
      "metadata": {
        "id": "AgKTwI-ec-WM",
        "colab_type": "code",
        "colab": {
          "base_uri": "https://localhost:8080/",
          "height": 513
        },
        "outputId": "b1caef71-9506-4663-e1d7-e234cdad2e86"
      },
      "source": [
        "# Instantiate the model\n",
        "model = ARMA(earthquake, order=(3,1))\n",
        "\n",
        "# Fit the model\n",
        "results = model.fit()\n",
        "\n",
        "# Print model fit summary\n",
        "print(results.summary())"
      ],
      "execution_count": 86,
      "outputs": [
        {
          "output_type": "stream",
          "text": [
            "                               ARMA Model Results                               \n",
            "================================================================================\n",
            "Dep. Variable:     earthquakes_per_year   No. Observations:                   99\n",
            "Model:                       ARMA(3, 1)   Log Likelihood                -315.673\n",
            "Method:                         css-mle   S.D. of innovations              5.853\n",
            "Date:                  Sat, 18 Jan 2020   AIC                            643.345\n",
            "Time:                          07:00:25   BIC                            658.916\n",
            "Sample:                      01-01-1900   HQIC                           649.645\n",
            "                           - 01-01-1998                                         \n",
            "==============================================================================================\n",
            "                                 coef    std err          z      P>|z|      [0.025      0.975]\n",
            "----------------------------------------------------------------------------------------------\n",
            "const                         19.6452      1.929     10.183      0.000      15.864      23.426\n",
            "ar.L1.earthquakes_per_year     0.5794      0.416      1.393      0.167      -0.236       1.394\n",
            "ar.L2.earthquakes_per_year     0.0251      0.208      0.121      0.904      -0.382       0.433\n",
            "ar.L3.earthquakes_per_year     0.1519      0.131      1.162      0.248      -0.104       0.408\n",
            "ma.L1.earthquakes_per_year    -0.1720      0.416     -0.413      0.680      -0.988       0.644\n",
            "                                    Roots                                    \n",
            "=============================================================================\n",
            "                  Real          Imaginary           Modulus         Frequency\n",
            "-----------------------------------------------------------------------------\n",
            "AR.1            1.2047           -0.0000j            1.2047           -0.0000\n",
            "AR.2           -0.6850           -2.2352j            2.3378           -0.2973\n",
            "AR.3           -0.6850           +2.2352j            2.3378            0.2973\n",
            "MA.1            5.8138           +0.0000j            5.8138            0.0000\n",
            "-----------------------------------------------------------------------------\n"
          ],
          "name": "stdout"
        },
        {
          "output_type": "stream",
          "text": [
            "/usr/local/lib/python3.6/dist-packages/statsmodels/tsa/base/tsa_model.py:165: ValueWarning: No frequency information was provided, so inferred frequency AS-JAN will be used.\n",
            "  % freq, ValueWarning)\n"
          ],
          "name": "stderr"
        }
      ]
    },
    {
      "cell_type": "markdown",
      "metadata": {
        "id": "kVce9iDPdZbv",
        "colab_type": "text"
      },
      "source": [
        "####Fitting an ARMAX model"
      ]
    },
    {
      "cell_type": "code",
      "metadata": {
        "id": "2whlGVTQe3Nb",
        "colab_type": "code",
        "colab": {
          "base_uri": "https://localhost:8080/",
          "height": 204
        },
        "outputId": "61e6fb2f-ba60-467a-fd96-ccf28f0309c4"
      },
      "source": [
        "hospital.head()"
      ],
      "execution_count": 111,
      "outputs": [
        {
          "output_type": "execute_result",
          "data": {
            "text/html": [
              "<div>\n",
              "<style scoped>\n",
              "    .dataframe tbody tr th:only-of-type {\n",
              "        vertical-align: middle;\n",
              "    }\n",
              "\n",
              "    .dataframe tbody tr th {\n",
              "        vertical-align: top;\n",
              "    }\n",
              "\n",
              "    .dataframe thead th {\n",
              "        text-align: right;\n",
              "    }\n",
              "</style>\n",
              "<table border=\"1\" class=\"dataframe\">\n",
              "  <thead>\n",
              "    <tr style=\"text-align: right;\">\n",
              "      <th></th>\n",
              "      <th>wait_times_hrs</th>\n",
              "      <th>nurse_count</th>\n",
              "    </tr>\n",
              "  </thead>\n",
              "  <tbody>\n",
              "    <tr>\n",
              "      <th>0</th>\n",
              "      <td>1.747261</td>\n",
              "      <td>1.0</td>\n",
              "    </tr>\n",
              "    <tr>\n",
              "      <th>1</th>\n",
              "      <td>1.664634</td>\n",
              "      <td>1.0</td>\n",
              "    </tr>\n",
              "    <tr>\n",
              "      <th>2</th>\n",
              "      <td>1.647047</td>\n",
              "      <td>1.0</td>\n",
              "    </tr>\n",
              "    <tr>\n",
              "      <th>3</th>\n",
              "      <td>1.619512</td>\n",
              "      <td>1.0</td>\n",
              "    </tr>\n",
              "    <tr>\n",
              "      <th>4</th>\n",
              "      <td>1.480415</td>\n",
              "      <td>1.0</td>\n",
              "    </tr>\n",
              "  </tbody>\n",
              "</table>\n",
              "</div>"
            ],
            "text/plain": [
              "   wait_times_hrs  nurse_count\n",
              "0        1.747261          1.0\n",
              "1        1.664634          1.0\n",
              "2        1.647047          1.0\n",
              "3        1.619512          1.0\n",
              "4        1.480415          1.0"
            ]
          },
          "metadata": {
            "tags": []
          },
          "execution_count": 111
        }
      ]
    },
    {
      "cell_type": "code",
      "metadata": {
        "id": "N48ml7Stejyw",
        "colab_type": "code",
        "colab": {
          "base_uri": "https://localhost:8080/",
          "height": 442
        },
        "outputId": "13ced139-18d1-4015-a3e5-422f7353172d"
      },
      "source": [
        "# Instantiate the model\n",
        "model = ARMA(hospital['wait_times_hrs'], order=(2,1), \n",
        "             exog=hospital['nurse_count'])\n",
        "\n",
        "# Fit the model\n",
        "results = model.fit()\n",
        "\n",
        "# Print model fit summary\n",
        "print(results.summary())"
      ],
      "execution_count": 112,
      "outputs": [
        {
          "output_type": "stream",
          "text": [
            "                              ARMA Model Results                              \n",
            "==============================================================================\n",
            "Dep. Variable:         wait_times_hrs   No. Observations:                  168\n",
            "Model:                     ARMA(2, 1)   Log Likelihood                 -11.834\n",
            "Method:                       css-mle   S.D. of innovations              0.259\n",
            "Date:                Sat, 18 Jan 2020   AIC                             35.668\n",
            "Time:                        07:15:00   BIC                             54.411\n",
            "Sample:                             0   HQIC                            43.275\n",
            "                                                                              \n",
            "========================================================================================\n",
            "                           coef    std err          z      P>|z|      [0.025      0.975]\n",
            "----------------------------------------------------------------------------------------\n",
            "const                    2.1000      0.086     24.293      0.000       1.931       2.269\n",
            "nurse_count             -0.1171      0.013     -9.054      0.000      -0.142      -0.092\n",
            "ar.L1.wait_times_hrs     0.5693      0.164      3.468      0.001       0.248       0.891\n",
            "ar.L2.wait_times_hrs    -0.1612      0.131     -1.226      0.222      -0.419       0.096\n",
            "ma.L1.wait_times_hrs     0.3728      0.157      2.375      0.019       0.065       0.680\n",
            "                                    Roots                                    \n",
            "=============================================================================\n",
            "                  Real          Imaginary           Modulus         Frequency\n",
            "-----------------------------------------------------------------------------\n",
            "AR.1            1.7656           -1.7566j            2.4906           -0.1246\n",
            "AR.2            1.7656           +1.7566j            2.4906            0.1246\n",
            "MA.1           -2.6827           +0.0000j            2.6827            0.5000\n",
            "-----------------------------------------------------------------------------\n"
          ],
          "name": "stdout"
        }
      ]
    },
    {
      "cell_type": "markdown",
      "metadata": {
        "id": "5_llD8ptdwax",
        "colab_type": "text"
      },
      "source": [
        "###Forecasting"
      ]
    },
    {
      "cell_type": "markdown",
      "metadata": {
        "id": "jJMHBAE4ga4G",
        "colab_type": "text"
      },
      "source": [
        "####Generating one-step-ahead predictions"
      ]
    },
    {
      "cell_type": "code",
      "metadata": {
        "id": "PPRt409NhOLz",
        "colab_type": "code",
        "colab": {}
      },
      "source": [
        "from statsmodels.tsa.statespace.sarimax import SARIMAX"
      ],
      "execution_count": 0,
      "outputs": []
    },
    {
      "cell_type": "code",
      "metadata": {
        "id": "xDXEf6elh2ap",
        "colab_type": "code",
        "colab": {
          "base_uri": "https://localhost:8080/",
          "height": 173
        },
        "outputId": "fc444582-c30e-4b85-b23f-941dd7583d5f"
      },
      "source": [
        "# Instantiate the model\n",
        "model = SARIMAX(amazon, order=(3, 1, 3), seasonal_order=(1, 0, 1, 7))\n",
        "\n",
        "# Fit the model\n",
        "results = model.fit()"
      ],
      "execution_count": 116,
      "outputs": [
        {
          "output_type": "stream",
          "text": [
            "/usr/local/lib/python3.6/dist-packages/statsmodels/tsa/base/tsa_model.py:219: ValueWarning: A date index has been provided, but it has no associated frequency information and so will be ignored when e.g. forecasting.\n",
            "  ' ignored when e.g. forecasting.', ValueWarning)\n",
            "/usr/local/lib/python3.6/dist-packages/statsmodels/tsa/statespace/sarimax.py:949: UserWarning: Non-stationary starting autoregressive parameters found. Using zeros as starting parameters.\n",
            "  warn('Non-stationary starting autoregressive parameters'\n",
            "/usr/local/lib/python3.6/dist-packages/statsmodels/tsa/statespace/sarimax.py:961: UserWarning: Non-invertible starting MA parameters found. Using zeros as starting parameters.\n",
            "  warn('Non-invertible starting MA parameters found.'\n",
            "/usr/local/lib/python3.6/dist-packages/statsmodels/base/model.py:512: ConvergenceWarning: Maximum Likelihood optimization failed to converge. Check mle_retvals\n",
            "  \"Check mle_retvals\", ConvergenceWarning)\n"
          ],
          "name": "stderr"
        }
      ]
    },
    {
      "cell_type": "code",
      "metadata": {
        "id": "6IG0ROmxhANx",
        "colab_type": "code",
        "colab": {
          "base_uri": "https://localhost:8080/",
          "height": 527
        },
        "outputId": "7a08b62f-67b1-4088-cde6-c9a48df09683"
      },
      "source": [
        "# Print model fit summary\n",
        "print(results.summary())"
      ],
      "execution_count": 117,
      "outputs": [
        {
          "output_type": "stream",
          "text": [
            "                                 Statespace Model Results                                \n",
            "=========================================================================================\n",
            "Dep. Variable:                             close   No. Observations:                 1259\n",
            "Model:             SARIMAX(3, 1, 3)x(1, 0, 1, 7)   Log Likelihood               -5529.218\n",
            "Date:                           Sat, 18 Jan 2020   AIC                          11076.436\n",
            "Time:                                   07:21:56   BIC                          11122.672\n",
            "Sample:                                        0   HQIC                         11093.812\n",
            "                                          - 1259                                         \n",
            "Covariance Type:                             opg                                         \n",
            "==============================================================================\n",
            "                 coef    std err          z      P>|z|      [0.025      0.975]\n",
            "------------------------------------------------------------------------------\n",
            "ar.L1          0.1456      0.040      3.611      0.000       0.067       0.225\n",
            "ar.L2          0.0051      0.043      0.121      0.904      -0.078       0.089\n",
            "ar.L3         -0.9040      0.040    -22.618      0.000      -0.982      -0.826\n",
            "ma.L1         -0.1424      0.038     -3.768      0.000      -0.216      -0.068\n",
            "ma.L2         -0.0523      0.041     -1.274      0.203      -0.133       0.028\n",
            "ma.L3          0.9301      0.037     25.374      0.000       0.858       1.002\n",
            "ar.S.L7        0.9583      0.255      3.765      0.000       0.459       1.457\n",
            "ma.S.L7       -0.9553      0.260     -3.668      0.000      -1.466      -0.445\n",
            "sigma2       372.6728      5.809     64.150      0.000     361.286     384.059\n",
            "===================================================================================\n",
            "Ljung-Box (Q):                       95.49   Jarque-Bera (JB):              7050.20\n",
            "Prob(Q):                              0.00   Prob(JB):                         0.00\n",
            "Heteroskedasticity (H):               0.07   Skew:                             0.11\n",
            "Prob(H) (two-sided):                  0.00   Kurtosis:                        14.60\n",
            "===================================================================================\n",
            "\n",
            "Warnings:\n",
            "[1] Covariance matrix calculated using the outer product of gradients (complex-step).\n"
          ],
          "name": "stdout"
        }
      ]
    },
    {
      "cell_type": "markdown",
      "metadata": {
        "id": "vARYA5H4i02R",
        "colab_type": "text"
      },
      "source": [
        "It is very hard to forecast stock prices. Classic economics actually tells us that this should be impossible because of market clearing.\n",
        "\n",
        "Your task in this exercise is to attempt the impossible and predict the Amazon stock price anyway.\n",
        "\n",
        "A model has already been fitted to the Amazon data for you. "
      ]
    },
    {
      "cell_type": "code",
      "metadata": {
        "id": "0TPJ2JYyi4Bo",
        "colab_type": "code",
        "colab": {}
      },
      "source": [
        "# Generate predictions\n",
        "one_step_forecast = results.get_prediction(start=-30)"
      ],
      "execution_count": 0,
      "outputs": []
    },
    {
      "cell_type": "code",
      "metadata": {
        "id": "wRdDt3AGjEUk",
        "colab_type": "code",
        "colab": {}
      },
      "source": [
        "# Extract prediction mean\n",
        "mean_forecast = one_step_forecast.predicted_mean"
      ],
      "execution_count": 0,
      "outputs": []
    },
    {
      "cell_type": "code",
      "metadata": {
        "id": "MUCj1ClMjGgy",
        "colab_type": "code",
        "colab": {
          "base_uri": "https://localhost:8080/",
          "height": 102
        },
        "outputId": "e85cf558-9619-4898-def1-2b773f9be37b"
      },
      "source": [
        "mean_forecast[:3]"
      ],
      "execution_count": 125,
      "outputs": [
        {
          "output_type": "execute_result",
          "data": {
            "text/plain": [
              "date\n",
              "2014-03-24    352.880157\n",
              "2014-03-21    352.266778\n",
              "2014-03-20    362.562413\n",
              "dtype: float64"
            ]
          },
          "metadata": {
            "tags": []
          },
          "execution_count": 125
        }
      ]
    },
    {
      "cell_type": "code",
      "metadata": {
        "id": "Nq5Of8FgjBrq",
        "colab_type": "code",
        "colab": {}
      },
      "source": [
        "# Get confidence intervals of predictions\n",
        "confidence_intervals = one_step_forecast.conf_int()"
      ],
      "execution_count": 0,
      "outputs": []
    },
    {
      "cell_type": "code",
      "metadata": {
        "id": "POjHkp5XjLt7",
        "colab_type": "code",
        "colab": {
          "base_uri": "https://localhost:8080/",
          "height": 173
        },
        "outputId": "b68f1ad7-839a-4342-d5e6-56e6bc707e63"
      },
      "source": [
        "confidence_intervals[:3]"
      ],
      "execution_count": 127,
      "outputs": [
        {
          "output_type": "execute_result",
          "data": {
            "text/html": [
              "<div>\n",
              "<style scoped>\n",
              "    .dataframe tbody tr th:only-of-type {\n",
              "        vertical-align: middle;\n",
              "    }\n",
              "\n",
              "    .dataframe tbody tr th {\n",
              "        vertical-align: top;\n",
              "    }\n",
              "\n",
              "    .dataframe thead th {\n",
              "        text-align: right;\n",
              "    }\n",
              "</style>\n",
              "<table border=\"1\" class=\"dataframe\">\n",
              "  <thead>\n",
              "    <tr style=\"text-align: right;\">\n",
              "      <th></th>\n",
              "      <th>lower close</th>\n",
              "      <th>upper close</th>\n",
              "    </tr>\n",
              "    <tr>\n",
              "      <th>date</th>\n",
              "      <th></th>\n",
              "      <th></th>\n",
              "    </tr>\n",
              "  </thead>\n",
              "  <tbody>\n",
              "    <tr>\n",
              "      <th>2014-03-24</th>\n",
              "      <td>315.043573</td>\n",
              "      <td>390.716741</td>\n",
              "    </tr>\n",
              "    <tr>\n",
              "      <th>2014-03-21</th>\n",
              "      <td>314.430194</td>\n",
              "      <td>390.103362</td>\n",
              "    </tr>\n",
              "    <tr>\n",
              "      <th>2014-03-20</th>\n",
              "      <td>324.725829</td>\n",
              "      <td>400.398997</td>\n",
              "    </tr>\n",
              "  </tbody>\n",
              "</table>\n",
              "</div>"
            ],
            "text/plain": [
              "            lower close  upper close\n",
              "date                                \n",
              "2014-03-24   315.043573   390.716741\n",
              "2014-03-21   314.430194   390.103362\n",
              "2014-03-20   324.725829   400.398997"
            ]
          },
          "metadata": {
            "tags": []
          },
          "execution_count": 127
        }
      ]
    },
    {
      "cell_type": "code",
      "metadata": {
        "id": "jfuuLK1ZjA8B",
        "colab_type": "code",
        "colab": {}
      },
      "source": [
        "# Select lower and upper confidence limits\n",
        "lower_limits = confidence_intervals.loc[:,'lower close']\n",
        "upper_limits = confidence_intervals.loc[:,'upper close']"
      ],
      "execution_count": 0,
      "outputs": []
    },
    {
      "cell_type": "code",
      "metadata": {
        "id": "d3x8wxVri_g8",
        "colab_type": "code",
        "colab": {
          "base_uri": "https://localhost:8080/",
          "height": 561
        },
        "outputId": "94176f6c-bd70-4c9f-b29b-49964a417a83"
      },
      "source": [
        "# Print best estimate predictions\n",
        "print(mean_forecast)"
      ],
      "execution_count": 129,
      "outputs": [
        {
          "output_type": "stream",
          "text": [
            "date\n",
            "2014-03-24    352.880157\n",
            "2014-03-21    352.266778\n",
            "2014-03-20    362.562413\n",
            "2014-03-19    370.368041\n",
            "2014-03-18    372.959617\n",
            "2014-03-17    377.027718\n",
            "2014-03-14    373.423882\n",
            "2014-03-13    373.781733\n",
            "2014-03-12    373.180950\n",
            "2014-03-11    372.516219\n",
            "2014-03-10    368.979653\n",
            "2014-03-07    369.173447\n",
            "2014-03-06    370.010984\n",
            "2014-03-05    371.734594\n",
            "2014-03-04    373.313130\n",
            "2014-03-03    366.036112\n",
            "2014-02-28    360.974021\n",
            "2014-02-27    361.357977\n",
            "2014-02-26    357.885813\n",
            "2014-02-25    358.482161\n",
            "2014-02-24    358.777740\n",
            "2014-02-21    353.703891\n",
            "2014-02-20    348.674931\n",
            "2014-02-19    349.883513\n",
            "2014-02-18    345.268620\n",
            "2014-02-14    351.783671\n",
            "2014-02-13    356.549672\n",
            "2014-02-12    359.024574\n",
            "2014-02-11    351.077832\n",
            "2014-02-10    363.440386\n",
            "dtype: float64\n"
          ],
          "name": "stdout"
        }
      ]
    },
    {
      "cell_type": "markdown",
      "metadata": {
        "id": "k5lQvlW5iEkS",
        "colab_type": "text"
      },
      "source": [
        "####Plotting one-step-ahead predictions\n"
      ]
    },
    {
      "cell_type": "markdown",
      "metadata": {
        "id": "96PMjrNbiLKT",
        "colab_type": "text"
      },
      "source": [
        "The `lower_limits`, `upper_limits` and `amazon` DataFrames as well as your mean prediction `mean_forecast` that you created in the last exercise are available in your environment."
      ]
    },
    {
      "cell_type": "code",
      "metadata": {
        "id": "J_k8tdh6iKxM",
        "colab_type": "code",
        "colab": {
          "base_uri": "https://localhost:8080/",
          "height": 279
        },
        "outputId": "9aefb8b0-328f-45d4-9a95-9612dd419dea"
      },
      "source": [
        "# plot the amazon data\n",
        "plt.plot(amazon.index, amazon, label='observed')\n",
        "\n",
        "# plot your mean predictions\n",
        "plt.plot(mean_forecast.index, mean_forecast, color='r', label='forecast')\n",
        "\n",
        "# shade the area between your confidence limits\n",
        "plt.fill_between(lower_limits.index, lower_limits, \n",
        "               upper_limits, color='pink')\n",
        "\n",
        "# set labels, legends and show plot\n",
        "plt.xlabel('Date')\n",
        "plt.ylabel('Amazon Stock Price - Close USD')\n",
        "plt.legend()\n",
        "plt.show()"
      ],
      "execution_count": 130,
      "outputs": [
        {
          "output_type": "display_data",
          "data": {
            "image/png": "[encoded data removed]",
            "text/plain": [
              "<Figure size 432x288 with 1 Axes>"
            ]
          },
          "metadata": {
            "tags": []
          }
        }
      ]
    },
    {
      "cell_type": "markdown",
      "metadata": {
        "id": "3VB9zSVojUo6",
        "colab_type": "text"
      },
      "source": [
        "####Generating dynamic forecasts\n",
        "\n",
        "Now lets move a little further into the future, to dynamic predictions. What if you wanted to predict the Amazon stock price, not just for tomorrow, but for next week or next month? This is where dynamical predictions come in."
      ]
    },
    {
      "cell_type": "code",
      "metadata": {
        "id": "10k2bFxEiELC",
        "colab_type": "code",
        "colab": {
          "base_uri": "https://localhost:8080/",
          "height": 561
        },
        "outputId": "5a4202d6-78b5-4ef8-ce8c-e4f8d37f6691"
      },
      "source": [
        "# Generate predictions\n",
        "dynamic_forecast = results.get_prediction(start=-30, dynamic=True)\n",
        "\n",
        "# Extract prediction mean\n",
        "mean_forecast = dynamic_forecast.predicted_mean\n",
        "\n",
        "# Get confidence intervals of predictions\n",
        "confidence_intervals = dynamic_forecast.conf_int()\n",
        "\n",
        "# Select lower and upper confidence limits\n",
        "lower_limits = confidence_intervals.loc[:,'lower close']\n",
        "upper_limits = confidence_intervals.loc[:,'upper close']\n",
        "\n",
        "# Print best estimate predictions\n",
        "print(mean_forecast)"
      ],
      "execution_count": 131,
      "outputs": [
        {
          "output_type": "stream",
          "text": [
            "date\n",
            "2014-03-24    352.880157\n",
            "2014-03-21    353.300242\n",
            "2014-03-20    355.167710\n",
            "2014-03-19    356.955357\n",
            "2014-03-18    356.813376\n",
            "2014-03-17    355.108626\n",
            "2014-03-14    353.352247\n",
            "2014-03-13    353.014255\n",
            "2014-03-12    354.643646\n",
            "2014-03-11    356.515405\n",
            "2014-03-10    356.967083\n",
            "2014-03-07    355.538693\n",
            "2014-03-06    353.636094\n",
            "2014-03-05    353.047514\n",
            "2014-03-04    354.049900\n",
            "2014-03-03    356.053223\n",
            "2014-02-28    356.928582\n",
            "2014-02-27    356.030981\n",
            "2014-02-26    354.064241\n",
            "2014-02-25    352.977288\n",
            "2014-02-24    353.720149\n",
            "2014-02-21    355.415337\n",
            "2014-02-20    356.783168\n",
            "2014-02-19    356.363968\n",
            "2014-02-18    354.653673\n",
            "2014-02-14    353.137672\n",
            "2014-02-13    353.282678\n",
            "2014-02-12    354.937776\n",
            "2014-02-11    356.372371\n",
            "2014-02-10    356.587621\n",
            "dtype: float64\n"
          ],
          "name": "stdout"
        }
      ]
    },
    {
      "cell_type": "markdown",
      "metadata": {
        "id": "wstjEIQNjd9D",
        "colab_type": "text"
      },
      "source": [
        "####Plotting dynamic forecasts\n"
      ]
    },
    {
      "cell_type": "code",
      "metadata": {
        "id": "26y7A6e1jetj",
        "colab_type": "code",
        "colab": {
          "base_uri": "https://localhost:8080/",
          "height": 279
        },
        "outputId": "fb3d08c1-32bf-4cfb-8d38-11f6ce81ef6f"
      },
      "source": [
        "# plot the amazon data\n",
        "plt.plot(amazon.index, amazon, label='observed')\n",
        "\n",
        "# plot your mean predictions\n",
        "plt.plot(mean_forecast.index, mean_forecast, color='r', label='forecast')\n",
        "\n",
        "# shade the area between your confidence limits\n",
        "plt.fill_between(lower_limits.index, lower_limits, \n",
        "               upper_limits, color='pink')\n",
        "\n",
        "# set labels, legends and show plot\n",
        "plt.xlabel('Date')\n",
        "plt.ylabel('Amazon Stock Price - Close USD')\n",
        "plt.legend()\n",
        "plt.show()"
      ],
      "execution_count": 132,
      "outputs": [
        {
          "output_type": "display_data",
          "data": {
            "image/png": "[encoded data removed]",
            "text/plain": [
              "<Figure size 432x288 with 1 Axes>"
            ]
          },
          "metadata": {
            "tags": []
          }
        }
      ]
    },
    {
      "cell_type": "markdown",
      "metadata": {
        "id": "cV7qcviTjh4Y",
        "colab_type": "text"
      },
      "source": [
        "###Intro to ARIMA models\n"
      ]
    },
    {
      "cell_type": "markdown",
      "metadata": {
        "id": "uKpXvPA2jj8e",
        "colab_type": "text"
      },
      "source": [
        "####Differencing and fitting ARMA\n"
      ]
    },
    {
      "cell_type": "code",
      "metadata": {
        "id": "lq4XK-gnjil_",
        "colab_type": "code",
        "colab": {
          "base_uri": "https://localhost:8080/",
          "height": 71
        },
        "outputId": "1d504348-8ee9-43bf-f087-ea2925c52ca2"
      },
      "source": [
        "# Take the first difference of the data\n",
        "amazon_diff = amazon.diff().dropna()\n",
        "\n",
        "# Create ARMA(2,2) model\n",
        "arma = SARIMAX(amazon_diff, order=(2,0,2))\n",
        "\n",
        "# Fit model\n",
        "arma_results = arma.fit()"
      ],
      "execution_count": 134,
      "outputs": [
        {
          "output_type": "stream",
          "text": [
            "/usr/local/lib/python3.6/dist-packages/statsmodels/tsa/base/tsa_model.py:219: ValueWarning: A date index has been provided, but it has no associated frequency information and so will be ignored when e.g. forecasting.\n",
            "  ' ignored when e.g. forecasting.', ValueWarning)\n"
          ],
          "name": "stderr"
        }
      ]
    },
    {
      "cell_type": "code",
      "metadata": {
        "id": "YlP4ajMigcBl",
        "colab_type": "code",
        "colab": {
          "base_uri": "https://localhost:8080/",
          "height": 459
        },
        "outputId": "82d2c093-021d-4bc5-b63a-79ad9f9ce3e1"
      },
      "source": [
        "# Print fit summary\n",
        "print(arma_results.summary())"
      ],
      "execution_count": 135,
      "outputs": [
        {
          "output_type": "stream",
          "text": [
            "                           Statespace Model Results                           \n",
            "==============================================================================\n",
            "Dep. Variable:                  close   No. Observations:                 1258\n",
            "Model:               SARIMAX(2, 0, 2)   Log Likelihood               -5534.654\n",
            "Date:                Sat, 18 Jan 2020   AIC                          11079.308\n",
            "Time:                        07:29:36   BIC                          11104.995\n",
            "Sample:                             0   HQIC                         11088.962\n",
            "                               - 1258                                         \n",
            "Covariance Type:                  opg                                         \n",
            "==============================================================================\n",
            "                 coef    std err          z      P>|z|      [0.025      0.975]\n",
            "------------------------------------------------------------------------------\n",
            "ar.L1         -0.1772      0.103     -1.723      0.085      -0.379       0.024\n",
            "ar.L2          0.7722      0.105      7.352      0.000       0.566       0.978\n",
            "ma.L1          0.1639      0.098      1.669      0.095      -0.029       0.356\n",
            "ma.L2         -0.8184      0.100     -8.210      0.000      -1.014      -0.623\n",
            "sigma2       388.0123      6.039     64.254      0.000     376.177     399.848\n",
            "===================================================================================\n",
            "Ljung-Box (Q):                       99.12   Jarque-Bera (JB):              7241.06\n",
            "Prob(Q):                              0.00   Prob(JB):                         0.00\n",
            "Heteroskedasticity (H):               0.06   Skew:                             0.21\n",
            "Prob(H) (two-sided):                  0.00   Kurtosis:                        14.75\n",
            "===================================================================================\n",
            "\n",
            "Warnings:\n",
            "[1] Covariance matrix calculated using the outer product of gradients (complex-step).\n"
          ],
          "name": "stdout"
        }
      ]
    },
    {
      "cell_type": "markdown",
      "metadata": {
        "id": "h29Ok5Y7jrlf",
        "colab_type": "text"
      },
      "source": [
        "####Unrolling ARMA forecast\n"
      ]
    },
    {
      "cell_type": "code",
      "metadata": {
        "id": "Ir9mbH4HedZd",
        "colab_type": "code",
        "colab": {
          "base_uri": "https://localhost:8080/",
          "height": 71
        },
        "outputId": "6cdb623d-8ede-4a13-aa46-d4da0960fbc8"
      },
      "source": [
        "# Make arma forecast of next 10 differences\n",
        "arma_diff_forecast = arma_results.get_forecast(steps=10).predicted_mean"
      ],
      "execution_count": 136,
      "outputs": [
        {
          "output_type": "stream",
          "text": [
            "/usr/local/lib/python3.6/dist-packages/statsmodels/tsa/base/tsa_model.py:576: ValueWarning: No supported index is available. Prediction results will be given with an integer index beginning at `start`.\n",
            "  ValueWarning)\n"
          ],
          "name": "stderr"
        }
      ]
    },
    {
      "cell_type": "code",
      "metadata": {
        "id": "vNxhLhEzj2mD",
        "colab_type": "code",
        "colab": {
          "base_uri": "https://localhost:8080/",
          "height": 204
        },
        "outputId": "d893f9f4-b585-40be-c457-60849aad6701"
      },
      "source": [
        "arma_diff_forecast"
      ],
      "execution_count": 137,
      "outputs": [
        {
          "output_type": "execute_result",
          "data": {
            "text/plain": [
              "1258   -0.870613\n",
              "1259    0.588451\n",
              "1260   -0.776591\n",
              "1261    0.592053\n",
              "1262   -0.704626\n",
              "1263    0.582079\n",
              "1264   -0.647286\n",
              "1265    0.564213\n",
              "1266   -0.599842\n",
              "1267    0.542008\n",
              "dtype: float64"
            ]
          },
          "metadata": {
            "tags": []
          },
          "execution_count": 137
        }
      ]
    },
    {
      "cell_type": "code",
      "metadata": {
        "id": "yAPa8qgrj0VB",
        "colab_type": "code",
        "colab": {}
      },
      "source": [
        "# Integrate the difference forecast\n",
        "arma_int_forecast = np.cumsum(arma_diff_forecast)"
      ],
      "execution_count": 0,
      "outputs": []
    },
    {
      "cell_type": "code",
      "metadata": {
        "id": "XhkO9t57jxc4",
        "colab_type": "code",
        "colab": {}
      },
      "source": [
        "# Make absolute value forecast\n",
        "arma_value_forecast = arma_int_forecast + amazon.iloc[-1,0]"
      ],
      "execution_count": 0,
      "outputs": []
    },
    {
      "cell_type": "code",
      "metadata": {
        "id": "Y8617dDZjxZs",
        "colab_type": "code",
        "colab": {
          "base_uri": "https://localhost:8080/",
          "height": 204
        },
        "outputId": "729281f3-b67d-4882-a9f8-548eacc52a57"
      },
      "source": [
        "# Print forecast\n",
        "print(arma_value_forecast)"
      ],
      "execution_count": 141,
      "outputs": [
        {
          "output_type": "stream",
          "text": [
            "1258    359.999387\n",
            "1259    360.587838\n",
            "1260    359.811247\n",
            "1261    360.403300\n",
            "1262    359.698675\n",
            "1263    360.280754\n",
            "1264    359.633467\n",
            "1265    360.197681\n",
            "1266    359.597839\n",
            "1267    360.139847\n",
            "dtype: float64\n"
          ],
          "name": "stdout"
        }
      ]
    },
    {
      "cell_type": "markdown",
      "metadata": {
        "id": "0KY6VWUhj9nP",
        "colab_type": "text"
      },
      "source": [
        "####Fitting an ARIMA model\n"
      ]
    },
    {
      "cell_type": "markdown",
      "metadata": {
        "id": "z2mCSrmfkE0i",
        "colab_type": "text"
      },
      "source": [
        "- Create an ARIMA(2,1,2) model, using the `SARIMAX` class, passing it the Amazon stocks data `amazon`.\n",
        "- Fit the model.\n",
        "- Make a forecast of mean values of the Amazon data for the next 10 time steps. Assign the result to `arima_value_forecast`."
      ]
    },
    {
      "cell_type": "code",
      "metadata": {
        "id": "QUFVulNkkKNb",
        "colab_type": "code",
        "colab": {
          "base_uri": "https://localhost:8080/",
          "height": 105
        },
        "outputId": "86b87a6a-06a4-4bc6-9693-ab91fc80c644"
      },
      "source": [
        "# Create ARIMA(2,1,2) model\n",
        "arima = SARIMAX(amazon, order=(2,1,2))\n",
        "\n",
        "# Fit ARIMA model\n",
        "arima_results = arima.fit()\n",
        "\n",
        "# Make ARIMA forecast of next 10 values\n",
        "arima_value_forecast = arima_results.get_forecast(steps=10).predicted_mean"
      ],
      "execution_count": 142,
      "outputs": [
        {
          "output_type": "stream",
          "text": [
            "/usr/local/lib/python3.6/dist-packages/statsmodels/tsa/base/tsa_model.py:219: ValueWarning: A date index has been provided, but it has no associated frequency information and so will be ignored when e.g. forecasting.\n",
            "  ' ignored when e.g. forecasting.', ValueWarning)\n",
            "/usr/local/lib/python3.6/dist-packages/statsmodels/tsa/base/tsa_model.py:576: ValueWarning: No supported index is available. Prediction results will be given with an integer index beginning at `start`.\n",
            "  ValueWarning)\n"
          ],
          "name": "stderr"
        }
      ]
    },
    {
      "cell_type": "code",
      "metadata": {
        "id": "GW7Jj_P7jxV4",
        "colab_type": "code",
        "colab": {
          "base_uri": "https://localhost:8080/",
          "height": 204
        },
        "outputId": "ba9c00a0-8cf5-4e25-959b-6193333707ae"
      },
      "source": [
        "# Print forecast\n",
        "print(arima_value_forecast)"
      ],
      "execution_count": 143,
      "outputs": [
        {
          "output_type": "stream",
          "text": [
            "1259    359.999494\n",
            "1260    360.588016\n",
            "1261    359.811454\n",
            "1262    360.403575\n",
            "1263    359.698924\n",
            "1264    360.281080\n",
            "1265    359.633731\n",
            "1266    360.198036\n",
            "1267    359.598102\n",
            "1268    360.140218\n",
            "dtype: float64\n"
          ],
          "name": "stdout"
        }
      ]
    },
    {
      "cell_type": "markdown",
      "metadata": {
        "id": "jIzrjDTp5qUy",
        "colab_type": "text"
      },
      "source": [
        "# Chapter 3 - The Best of the Best Models\n",
        "\n",
        "In this chapter, you will become a modeler of discerning taste. You'll learn how to identify promising model orders from the data itself, then, once the most promising models have been trained, you'll learn how to choose the best model from this fitted selection. You'll also learn a great framework for structuring your time series projects. "
      ]
    },
    {
      "cell_type": "markdown",
      "metadata": {
        "id": "647tJzqXkSrT",
        "colab_type": "text"
      },
      "source": [
        "###Intro to ACF and PACF\n"
      ]
    },
    {
      "cell_type": "markdown",
      "metadata": {
        "id": "srpPwloBkVSM",
        "colab_type": "text"
      },
      "source": [
        "####AR or MA\n",
        "\n",
        "In this exercise you will use the ACF and PACF to decide whether some data is best suited to an MA model or an AR model. "
      ]
    },
    {
      "cell_type": "code",
      "metadata": {
        "id": "k3Pr5tV9kigh",
        "colab_type": "code",
        "colab": {}
      },
      "source": [
        "date_rng = pd.date_range(start='1/1/2013', end='9/27/2015')"
      ],
      "execution_count": 0,
      "outputs": []
    },
    {
      "cell_type": "code",
      "metadata": {
        "id": "FmYA0v0U8ENk",
        "colab_type": "code",
        "colab": {}
      },
      "source": [
        "# remove nan\n",
        "df = df.fillna('mean')"
      ],
      "execution_count": 0,
      "outputs": []
    },
    {
      "cell_type": "code",
      "metadata": {
        "id": "kT885fZM8jNj",
        "colab_type": "code",
        "colab": {
          "base_uri": "https://localhost:8080/",
          "height": 419
        },
        "outputId": "6bcfe0bb-ca19-4eb3-e961-3dbc8c28fa9d"
      },
      "source": [
        "df"
      ],
      "execution_count": 241,
      "outputs": [
        {
          "output_type": "execute_result",
          "data": {
            "text/html": [
              "<div>\n",
              "<style scoped>\n",
              "    .dataframe tbody tr th:only-of-type {\n",
              "        vertical-align: middle;\n",
              "    }\n",
              "\n",
              "    .dataframe tbody tr th {\n",
              "        vertical-align: top;\n",
              "    }\n",
              "\n",
              "    .dataframe thead th {\n",
              "        text-align: right;\n",
              "    }\n",
              "</style>\n",
              "<table border=\"1\" class=\"dataframe\">\n",
              "  <thead>\n",
              "    <tr style=\"text-align: right;\">\n",
              "      <th></th>\n",
              "      <th>y</th>\n",
              "    </tr>\n",
              "  </thead>\n",
              "  <tbody>\n",
              "    <tr>\n",
              "      <th>2013-01-01</th>\n",
              "      <td>1.624345</td>\n",
              "    </tr>\n",
              "    <tr>\n",
              "      <th>2013-01-02</th>\n",
              "      <td>-0.936625</td>\n",
              "    </tr>\n",
              "    <tr>\n",
              "      <th>2013-01-03</th>\n",
              "      <td>0.081483</td>\n",
              "    </tr>\n",
              "    <tr>\n",
              "      <th>2013-01-04</th>\n",
              "      <td>-0.663558</td>\n",
              "    </tr>\n",
              "    <tr>\n",
              "      <th>2013-01-05</th>\n",
              "      <td>0.738023</td>\n",
              "    </tr>\n",
              "    <tr>\n",
              "      <th>...</th>\n",
              "      <td>...</td>\n",
              "    </tr>\n",
              "    <tr>\n",
              "      <th>2015-09-23</th>\n",
              "      <td>-0.043514</td>\n",
              "    </tr>\n",
              "    <tr>\n",
              "      <th>2015-09-24</th>\n",
              "      <td>-1.651165</td>\n",
              "    </tr>\n",
              "    <tr>\n",
              "      <th>2015-09-25</th>\n",
              "      <td>0.738258</td>\n",
              "    </tr>\n",
              "    <tr>\n",
              "      <th>2015-09-26</th>\n",
              "      <td>-0.350327</td>\n",
              "    </tr>\n",
              "    <tr>\n",
              "      <th>2015-09-27</th>\n",
              "      <td>-0.961806</td>\n",
              "    </tr>\n",
              "  </tbody>\n",
              "</table>\n",
              "<p>1000 rows × 1 columns</p>\n",
              "</div>"
            ],
            "text/plain": [
              "                   y\n",
              "2013-01-01  1.624345\n",
              "2013-01-02 -0.936625\n",
              "2013-01-03  0.081483\n",
              "2013-01-04 -0.663558\n",
              "2013-01-05  0.738023\n",
              "...              ...\n",
              "2015-09-23 -0.043514\n",
              "2015-09-24 -1.651165\n",
              "2015-09-25  0.738258\n",
              "2015-09-26 -0.350327\n",
              "2015-09-27 -0.961806\n",
              "\n",
              "[1000 rows x 1 columns]"
            ]
          },
          "metadata": {
            "tags": []
          },
          "execution_count": 241
        }
      ]
    },
    {
      "cell_type": "code",
      "metadata": {
        "id": "6phv94Jk0MrC",
        "colab_type": "code",
        "colab": {}
      },
      "source": [
        "# Import\n",
        "from statsmodels.graphics.tsaplots import plot_acf, plot_pacf"
      ],
      "execution_count": 0,
      "outputs": []
    },
    {
      "cell_type": "code",
      "metadata": {
        "id": "RXqLiNJ0lU98",
        "colab_type": "code",
        "colab": {
          "base_uri": "https://localhost:8080/",
          "height": 499
        },
        "outputId": "cae7ffb1-c16d-4bd9-ab4c-3ff29ffc3ea4"
      },
      "source": [
        "# Create figure\n",
        "fig, (ax1, ax2) = plt.subplots(2,1, figsize=(12,8))\n",
        " \n",
        "# Plot the ACF of df\n",
        "plot_acf(df, lags=10, zero=False, ax=ax1)\n",
        "\n",
        "# Plot the PACF of df\n",
        "plot_pacf(df, lags=10, zero=False, ax=ax2)\n",
        "\n",
        "plt.show()"
      ],
      "execution_count": 243,
      "outputs": [
        {
          "output_type": "display_data",
          "data": {
            "image/png": "[encoded data removed]",
            "text/plain": [
              "<Figure size 864x576 with 2 Axes>"
            ]
          },
          "metadata": {
            "tags": []
          }
        }
      ]
    },
    {
      "cell_type": "markdown",
      "metadata": {
        "id": "MaiqN3WezfAh",
        "colab_type": "text"
      },
      "source": [
        "####Order of earthquakes\n",
        "\n",
        "In this exercise you will use the ACF and PACF plots to decide on the most appropriate order to forecast the earthquakes time series.\n",
        "\n",
        ".|AR(p)\t|MA(q)\t|ARMA(p,q)\n",
        "---|---|---|---\n",
        "ACF\t|Tails off\t|Cuts off after lag q\t|Tails off\n",
        "PACF\t|Cuts off after lag p\t|Tails off\t|Tails off"
      ]
    },
    {
      "cell_type": "markdown",
      "metadata": {
        "id": "keyvtxHZ0d4w",
        "colab_type": "text"
      },
      "source": [
        "- Plot the ACF and the PACF of the earthquakes time series `earthquake` up to a lag of 15 steps and don't plot the zeroth lag."
      ]
    },
    {
      "cell_type": "code",
      "metadata": {
        "id": "ryFyrgnHzv0G",
        "colab_type": "code",
        "colab": {
          "base_uri": "https://localhost:8080/",
          "height": 499
        },
        "outputId": "336d3005-87c8-4986-b76f-26178689bed6"
      },
      "source": [
        "# Create figure\n",
        "fig, (ax1, ax2) = plt.subplots(2,1, figsize=(12,8))\n",
        "\n",
        "# Plot ACF and PACF\n",
        "plot_acf(earthquake, lags=15, zero=False, ax=ax1)\n",
        "plot_pacf(earthquake, lags=15, zero=False, ax=ax2)\n",
        "\n",
        "# Show plot\n",
        "plt.show()"
      ],
      "execution_count": 175,
      "outputs": [
        {
          "output_type": "display_data",
          "data": {
            "image/png": "[encoded data removed]",
            "text/plain": [
              "<Figure size 864x576 with 2 Axes>"
            ]
          },
          "metadata": {
            "tags": []
          }
        }
      ]
    },
    {
      "cell_type": "markdown",
      "metadata": {
        "id": "hkn780rk0iDz",
        "colab_type": "text"
      },
      "source": [
        "- Create a model object for the earthquakes time series. Select the most appropriate order using the ACF/PACF plots."
      ]
    },
    {
      "cell_type": "code",
      "metadata": {
        "id": "sfCr3fL_kRbz",
        "colab_type": "code",
        "colab": {
          "base_uri": "https://localhost:8080/",
          "height": 71
        },
        "outputId": "a854f862-754a-4c9e-98d4-334e341e6275"
      },
      "source": [
        "# Instantiate model\n",
        "model = SARIMAX(earthquake, order =(1,0,0))\n",
        "\n",
        "# Train model\n",
        "results = model.fit()"
      ],
      "execution_count": 180,
      "outputs": [
        {
          "output_type": "stream",
          "text": [
            "/usr/local/lib/python3.6/dist-packages/statsmodels/tsa/base/tsa_model.py:165: ValueWarning: No frequency information was provided, so inferred frequency AS-JAN will be used.\n",
            "  % freq, ValueWarning)\n"
          ],
          "name": "stderr"
        }
      ]
    },
    {
      "cell_type": "code",
      "metadata": {
        "id": "ntt7DXMgkRSz",
        "colab_type": "code",
        "colab": {
          "base_uri": "https://localhost:8080/",
          "height": 402
        },
        "outputId": "f9810913-ce66-41f6-d83c-0202cd7787a0"
      },
      "source": [
        "results.summary()"
      ],
      "execution_count": 181,
      "outputs": [
        {
          "output_type": "execute_result",
          "data": {
            "text/html": [
              "<table class=\"simpletable\">\n",
              "<caption>Statespace Model Results</caption>\n",
              "<tr>\n",
              "  <th>Dep. Variable:</th>   <td>earthquakes_per_year</td> <th>  No. Observations:  </th>    <td>99</td>   \n",
              "</tr>\n",
              "<tr>\n",
              "  <th>Model:</th>             <td>SARIMAX(1, 0, 0)</td>   <th>  Log Likelihood     </th> <td>-331.323</td>\n",
              "</tr>\n",
              "<tr>\n",
              "  <th>Date:</th>              <td>Sat, 18 Jan 2020</td>   <th>  AIC                </th>  <td>666.646</td>\n",
              "</tr>\n",
              "<tr>\n",
              "  <th>Time:</th>                  <td>08:44:02</td>       <th>  BIC                </th>  <td>671.836</td>\n",
              "</tr>\n",
              "<tr>\n",
              "  <th>Sample:</th>               <td>01-01-1900</td>      <th>  HQIC               </th>  <td>668.746</td>\n",
              "</tr>\n",
              "<tr>\n",
              "  <th></th>                     <td>- 01-01-1998</td>     <th>                     </th>     <td> </td>   \n",
              "</tr>\n",
              "<tr>\n",
              "  <th>Covariance Type:</th>          <td>opg</td>         <th>                     </th>     <td> </td>   \n",
              "</tr>\n",
              "</table>\n",
              "<table class=\"simpletable\">\n",
              "<tr>\n",
              "     <td></td>       <th>coef</th>     <th>std err</th>      <th>z</th>      <th>P>|z|</th>  <th>[0.025</th>    <th>0.975]</th>  \n",
              "</tr>\n",
              "<tr>\n",
              "  <th>ar.L1</th>  <td>    0.9433</td> <td>    0.029</td> <td>   32.767</td> <td> 0.000</td> <td>    0.887</td> <td>    1.000</td>\n",
              "</tr>\n",
              "<tr>\n",
              "  <th>sigma2</th> <td>   46.2114</td> <td>    5.459</td> <td>    8.466</td> <td> 0.000</td> <td>   35.513</td> <td>   56.910</td>\n",
              "</tr>\n",
              "</table>\n",
              "<table class=\"simpletable\">\n",
              "<tr>\n",
              "  <th>Ljung-Box (Q):</th>          <td>51.06</td> <th>  Jarque-Bera (JB):  </th> <td>4.60</td> \n",
              "</tr>\n",
              "<tr>\n",
              "  <th>Prob(Q):</th>                <td>0.11</td>  <th>  Prob(JB):          </th> <td>0.10</td> \n",
              "</tr>\n",
              "<tr>\n",
              "  <th>Heteroskedasticity (H):</th> <td>0.78</td>  <th>  Skew:              </th> <td>-0.09</td>\n",
              "</tr>\n",
              "<tr>\n",
              "  <th>Prob(H) (two-sided):</th>    <td>0.49</td>  <th>  Kurtosis:          </th> <td>4.04</td> \n",
              "</tr>\n",
              "</table><br/><br/>Warnings:<br/>[1] Covariance matrix calculated using the outer product of gradients (complex-step)."
            ],
            "text/plain": [
              "<class 'statsmodels.iolib.summary.Summary'>\n",
              "\"\"\"\n",
              "                            Statespace Model Results                            \n",
              "================================================================================\n",
              "Dep. Variable:     earthquakes_per_year   No. Observations:                   99\n",
              "Model:                 SARIMAX(1, 0, 0)   Log Likelihood                -331.323\n",
              "Date:                  Sat, 18 Jan 2020   AIC                            666.646\n",
              "Time:                          08:44:02   BIC                            671.836\n",
              "Sample:                      01-01-1900   HQIC                           668.746\n",
              "                           - 01-01-1998                                         \n",
              "Covariance Type:                    opg                                         \n",
              "==============================================================================\n",
              "                 coef    std err          z      P>|z|      [0.025      0.975]\n",
              "------------------------------------------------------------------------------\n",
              "ar.L1          0.9433      0.029     32.767      0.000       0.887       1.000\n",
              "sigma2        46.2114      5.459      8.466      0.000      35.513      56.910\n",
              "===================================================================================\n",
              "Ljung-Box (Q):                       51.06   Jarque-Bera (JB):                 4.60\n",
              "Prob(Q):                              0.11   Prob(JB):                         0.10\n",
              "Heteroskedasticity (H):               0.78   Skew:                            -0.09\n",
              "Prob(H) (two-sided):                  0.49   Kurtosis:                         4.04\n",
              "===================================================================================\n",
              "\n",
              "Warnings:\n",
              "[1] Covariance matrix calculated using the outer product of gradients (complex-step).\n",
              "\"\"\""
            ]
          },
          "metadata": {
            "tags": []
          },
          "execution_count": 181
        }
      ]
    },
    {
      "cell_type": "markdown",
      "metadata": {
        "id": "jnG56l340ujn",
        "colab_type": "text"
      },
      "source": [
        "###Intro to AIC and BIC\n"
      ]
    },
    {
      "cell_type": "markdown",
      "metadata": {
        "id": "H_F0kiml0wKt",
        "colab_type": "text"
      },
      "source": [
        "####Searching over model order\n",
        "\n",
        "In this exercise you are faced with a dataset which appears to be an ARMA model. You can see the ACF and PACF in the plot below. In order to choose the best order for this model you are going to have to do a search over lots of potential model orders to find the best set."
      ]
    },
    {
      "cell_type": "code",
      "metadata": {
        "id": "eWdpE411caqY",
        "colab_type": "code",
        "colab": {
          "base_uri": "https://localhost:8080/",
          "height": 411
        },
        "outputId": "0dcc8b4e-6854-4132-bb3c-42369ffd97fa"
      },
      "source": [
        "# Create empty list to store search results\n",
        "order_aic_bic=[]\n",
        "\n",
        "# Loop over p values from 0-2\n",
        "for p in range(3):\n",
        "  # Loop over q values from 0-2\n",
        "    for q in range(3):\n",
        "      \t# create and fit ARMA(p,q) model\n",
        "        model = SARIMAX(df, order=(p,0,q))\n",
        "        results = model.fit()\n",
        "        \n",
        "        # Append order and results tuple\n",
        "        order_aic_bic.append((p,q,results.aic, results.bic))"
      ],
      "execution_count": 244,
      "outputs": [
        {
          "output_type": "stream",
          "text": [
            "/usr/local/lib/python3.6/dist-packages/statsmodels/tsa/base/tsa_model.py:165: ValueWarning: No frequency information was provided, so inferred frequency D will be used.\n",
            "  % freq, ValueWarning)\n",
            "/usr/local/lib/python3.6/dist-packages/statsmodels/tsa/base/tsa_model.py:165: ValueWarning: No frequency information was provided, so inferred frequency D will be used.\n",
            "  % freq, ValueWarning)\n",
            "/usr/local/lib/python3.6/dist-packages/statsmodels/tsa/base/tsa_model.py:165: ValueWarning: No frequency information was provided, so inferred frequency D will be used.\n",
            "  % freq, ValueWarning)\n",
            "/usr/local/lib/python3.6/dist-packages/statsmodels/tsa/base/tsa_model.py:165: ValueWarning: No frequency information was provided, so inferred frequency D will be used.\n",
            "  % freq, ValueWarning)\n",
            "/usr/local/lib/python3.6/dist-packages/statsmodels/tsa/base/tsa_model.py:165: ValueWarning: No frequency information was provided, so inferred frequency D will be used.\n",
            "  % freq, ValueWarning)\n",
            "/usr/local/lib/python3.6/dist-packages/statsmodels/tsa/base/tsa_model.py:165: ValueWarning: No frequency information was provided, so inferred frequency D will be used.\n",
            "  % freq, ValueWarning)\n",
            "/usr/local/lib/python3.6/dist-packages/statsmodels/tsa/base/tsa_model.py:165: ValueWarning: No frequency information was provided, so inferred frequency D will be used.\n",
            "  % freq, ValueWarning)\n",
            "/usr/local/lib/python3.6/dist-packages/statsmodels/tsa/base/tsa_model.py:165: ValueWarning: No frequency information was provided, so inferred frequency D will be used.\n",
            "  % freq, ValueWarning)\n",
            "/usr/local/lib/python3.6/dist-packages/statsmodels/tsa/statespace/sarimax.py:949: UserWarning: Non-stationary starting autoregressive parameters found. Using zeros as starting parameters.\n",
            "  warn('Non-stationary starting autoregressive parameters'\n",
            "/usr/local/lib/python3.6/dist-packages/statsmodels/tsa/statespace/sarimax.py:961: UserWarning: Non-invertible starting MA parameters found. Using zeros as starting parameters.\n",
            "  warn('Non-invertible starting MA parameters found.'\n",
            "/usr/local/lib/python3.6/dist-packages/statsmodels/tsa/base/tsa_model.py:165: ValueWarning: No frequency information was provided, so inferred frequency D will be used.\n",
            "  % freq, ValueWarning)\n"
          ],
          "name": "stderr"
        }
      ]
    },
    {
      "cell_type": "markdown",
      "metadata": {
        "id": "-ItBeF8Y1jyo",
        "colab_type": "text"
      },
      "source": [
        "####Choosing order with AIC and BIC\n"
      ]
    },
    {
      "cell_type": "code",
      "metadata": {
        "trusted": true,
        "id": "oxxROmU45qUz",
        "colab_type": "code",
        "colab": {
          "base_uri": "https://localhost:8080/",
          "height": 187
        },
        "outputId": "6a60967b-6f17-4893-ef24-33cf873a5505"
      },
      "source": [
        "# Construct DataFrame from order_aic_bic\n",
        "order_df = pd.DataFrame(order_aic_bic, \n",
        "                        columns=['p', 'q', 'AIC', 'BIC'])\n",
        "\n",
        "# Print order_df in order of increasing AIC\n",
        "print(order_df.sort_values('AIC'))"
      ],
      "execution_count": 246,
      "outputs": [
        {
          "output_type": "stream",
          "text": [
            "   p  q          AIC          BIC\n",
            "8  2  2  2808.309189  2832.847965\n",
            "5  1  2  2817.292441  2836.923462\n",
            "2  0  2  2872.205748  2886.929014\n",
            "7  2  1  2889.542335  2909.173356\n",
            "6  2  0  2930.299481  2945.022747\n",
            "4  1  1  2960.351104  2975.074370\n",
            "3  1  0  2969.236400  2979.051910\n",
            "1  0  1  2978.726909  2988.542420\n",
            "0  0  0  2996.526734  3001.434489\n"
          ],
          "name": "stdout"
        }
      ]
    },
    {
      "cell_type": "code",
      "metadata": {
        "id": "SUGf52Rz8-Oe",
        "colab_type": "code",
        "colab": {
          "base_uri": "https://localhost:8080/",
          "height": 187
        },
        "outputId": "3ce79ec5-5582-458f-d223-65c77ac24bb3"
      },
      "source": [
        "# Print order_df in order of increasing BIC\n",
        "print(order_df.sort_values('BIC'))"
      ],
      "execution_count": 247,
      "outputs": [
        {
          "output_type": "stream",
          "text": [
            "   p  q          AIC          BIC\n",
            "8  2  2  2808.309189  2832.847965\n",
            "5  1  2  2817.292441  2836.923462\n",
            "2  0  2  2872.205748  2886.929014\n",
            "7  2  1  2889.542335  2909.173356\n",
            "6  2  0  2930.299481  2945.022747\n",
            "4  1  1  2960.351104  2975.074370\n",
            "3  1  0  2969.236400  2979.051910\n",
            "1  0  1  2978.726909  2988.542420\n",
            "0  0  0  2996.526734  3001.434489\n"
          ],
          "name": "stdout"
        }
      ]
    },
    {
      "cell_type": "markdown",
      "metadata": {
        "id": "tJUpA9ql1u6Q",
        "colab_type": "text"
      },
      "source": [
        "####AIC and BIC vs ACF and PACF\n",
        "\n",
        "In this exercise you will apply an AIC-BIC order search for the earthquakes time series. In the last lesson you decided that this dataset looked like an AR(1) process. You will do a grid search over parameters to see if you get the same results. "
      ]
    },
    {
      "cell_type": "code",
      "metadata": {
        "id": "QJg_zszy1zpH",
        "colab_type": "code",
        "colab": {
          "base_uri": "https://localhost:8080/",
          "height": 530
        },
        "outputId": "c471e2d1-8418-4b0d-da2d-fed567870561"
      },
      "source": [
        "# Loop over p values from 0-2\n",
        "for p in range(3):\n",
        "    # Loop over q values from 0-2\n",
        "    for q in range(3):\n",
        "      \n",
        "        try:\n",
        "            # create and fit ARMA(p,q) model\n",
        "            model = SARIMAX(earthquake, order=(p,0,q))\n",
        "            results = model.fit()\n",
        "            \n",
        "            # Print order and results\n",
        "            print(p, q, results.aic, results.bic)\n",
        "            \n",
        "        except:\n",
        "            print(p, q, None, None)     "
      ],
      "execution_count": 191,
      "outputs": [
        {
          "output_type": "stream",
          "text": [
            "/usr/local/lib/python3.6/dist-packages/statsmodels/tsa/base/tsa_model.py:165: ValueWarning: No frequency information was provided, so inferred frequency AS-JAN will be used.\n",
            "  % freq, ValueWarning)\n",
            "/usr/local/lib/python3.6/dist-packages/statsmodels/tsa/base/tsa_model.py:165: ValueWarning: No frequency information was provided, so inferred frequency AS-JAN will be used.\n",
            "  % freq, ValueWarning)\n",
            "/usr/local/lib/python3.6/dist-packages/statsmodels/tsa/base/tsa_model.py:165: ValueWarning: No frequency information was provided, so inferred frequency AS-JAN will be used.\n",
            "  % freq, ValueWarning)\n",
            "/usr/local/lib/python3.6/dist-packages/statsmodels/tsa/base/tsa_model.py:165: ValueWarning: No frequency information was provided, so inferred frequency AS-JAN will be used.\n",
            "  % freq, ValueWarning)\n",
            "/usr/local/lib/python3.6/dist-packages/statsmodels/tsa/base/tsa_model.py:165: ValueWarning: No frequency information was provided, so inferred frequency AS-JAN will be used.\n",
            "  % freq, ValueWarning)\n",
            "/usr/local/lib/python3.6/dist-packages/statsmodels/tsa/base/tsa_model.py:165: ValueWarning: No frequency information was provided, so inferred frequency AS-JAN will be used.\n",
            "  % freq, ValueWarning)\n"
          ],
          "name": "stderr"
        },
        {
          "output_type": "stream",
          "text": [
            "0 0 888.4297722924081 891.0248921425426\n",
            "0 1 799.6741727812073 804.8644124814765\n",
            "0 2 761.0674787503889 768.8528383007927\n",
            "1 0 666.6455255041611 671.8357652044303\n",
            "1 1 647.1322999673815 654.9176595177853\n",
            "1 2 648.7385664620634 659.1190458626018\n",
            "2 0 656.0283744146391 663.8137339650428\n",
            "2 1 648.8428399959242 659.2233193964626\n"
          ],
          "name": "stdout"
        },
        {
          "output_type": "stream",
          "text": [
            "/usr/local/lib/python3.6/dist-packages/statsmodels/tsa/base/tsa_model.py:165: ValueWarning: No frequency information was provided, so inferred frequency AS-JAN will be used.\n",
            "  % freq, ValueWarning)\n",
            "/usr/local/lib/python3.6/dist-packages/statsmodels/tsa/base/tsa_model.py:165: ValueWarning: No frequency information was provided, so inferred frequency AS-JAN will be used.\n",
            "  % freq, ValueWarning)\n",
            "/usr/local/lib/python3.6/dist-packages/statsmodels/tsa/statespace/sarimax.py:949: UserWarning: Non-stationary starting autoregressive parameters found. Using zeros as starting parameters.\n",
            "  warn('Non-stationary starting autoregressive parameters'\n",
            "/usr/local/lib/python3.6/dist-packages/statsmodels/tsa/base/tsa_model.py:165: ValueWarning: No frequency information was provided, so inferred frequency AS-JAN will be used.\n",
            "  % freq, ValueWarning)\n"
          ],
          "name": "stderr"
        },
        {
          "output_type": "stream",
          "text": [
            "2 2 648.8506443429098 661.8262435935828\n"
          ],
          "name": "stdout"
        }
      ]
    },
    {
      "cell_type": "markdown",
      "metadata": {
        "id": "LJKvRedO16Wi",
        "colab_type": "text"
      },
      "source": [
        "###Model diagnostics\n"
      ]
    },
    {
      "cell_type": "markdown",
      "metadata": {
        "id": "Z4YtxK6i17Wm",
        "colab_type": "text"
      },
      "source": [
        "####Mean absolute error\n",
        "\n",
        "In this exercise you will calculate the MAE for an ARMA(1,1) model fit to the earthquakes time series"
      ]
    },
    {
      "cell_type": "code",
      "metadata": {
        "id": "ZgiGr7wT2EVi",
        "colab_type": "code",
        "colab": {
          "base_uri": "https://localhost:8080/",
          "height": 350
        },
        "outputId": "1fee64ba-02be-485a-fb51-9b9a781b52e3"
      },
      "source": [
        "# Fit model\n",
        "model = SARIMAX(earthquake, order=(1,0,1))\n",
        "results = model.fit()\n",
        "\n",
        "# Calculate the mean absolute error from residuals\n",
        "mae = np.mean(np.abs(results.resid))"
      ],
      "execution_count": 192,
      "outputs": [
        {
          "output_type": "stream",
          "text": [
            "/usr/local/lib/python3.6/dist-packages/statsmodels/tsa/base/tsa_model.py:165: ValueWarning: No frequency information was provided, so inferred frequency AS-JAN will be used.\n",
            "  % freq, ValueWarning)\n"
          ],
          "name": "stderr"
        },
        {
          "output_type": "stream",
          "text": [
            "4.755625669545705\n"
          ],
          "name": "stdout"
        },
        {
          "output_type": "display_data",
          "data": {
            "image/png": "[encoded data removed]",
            "text/plain": [
              "<Figure size 432x288 with 1 Axes>"
            ]
          },
          "metadata": {
            "tags": []
          }
        }
      ]
    },
    {
      "cell_type": "code",
      "metadata": {
        "id": "ArU-qjF72IfI",
        "colab_type": "code",
        "colab": {
          "base_uri": "https://localhost:8080/",
          "height": 34
        },
        "outputId": "b6e86b8c-8d9f-4ade-d526-f6eeb171fe08"
      },
      "source": [
        "# Print mean absolute error\n",
        "print(mae)"
      ],
      "execution_count": 193,
      "outputs": [
        {
          "output_type": "stream",
          "text": [
            "4.755625669545705\n"
          ],
          "name": "stdout"
        }
      ]
    },
    {
      "cell_type": "code",
      "metadata": {
        "id": "0UwZ20UY1zkd",
        "colab_type": "code",
        "colab": {
          "base_uri": "https://localhost:8080/",
          "height": 279
        },
        "outputId": "2a01feba-2d08-4122-c145-70f17fc57c36"
      },
      "source": [
        "# Make plot of time series for comparison\n",
        "earthquake.plot()\n",
        "plt.show()"
      ],
      "execution_count": 194,
      "outputs": [
        {
          "output_type": "display_data",
          "data": {
            "image/png": "[encoded data removed]",
            "text/plain": [
              "<Figure size 432x288 with 1 Axes>"
            ]
          },
          "metadata": {
            "tags": []
          }
        }
      ]
    },
    {
      "cell_type": "markdown",
      "metadata": {
        "id": "4JWJBPVh2M9R",
        "colab_type": "text"
      },
      "source": [
        "####Diagnostic summary statistics\n",
        "\n",
        "It is important to know when you need to go back to the drawing board in model design. In this exercise you will use the residual test statistics in the results summary to decide whether a model is a good fit to a time series."
      ]
    },
    {
      "cell_type": "markdown",
      "metadata": {
        "id": "gnZpMi4S2Vmz",
        "colab_type": "text"
      },
      "source": [
        "Test|\tNull hypothesis\t|P-value name\n",
        "---|---|---\n",
        "Ljung-Box\t|There are no correlations in the residual|Prob(Q)\n",
        "Jarque-Bera\t|The residuals are normally distributed\t|Prob(JB)"
      ]
    },
    {
      "cell_type": "code",
      "metadata": {
        "id": "Edix4UbL2Ou5",
        "colab_type": "code",
        "colab": {
          "base_uri": "https://localhost:8080/",
          "height": 513
        },
        "outputId": "fd7f46df-92e4-4662-ab86-0775c859ed5b"
      },
      "source": [
        "# Create and fit model\n",
        "model1 = SARIMAX(df, order=(3,0,1))\n",
        "results1 = model1.fit()\n",
        "\n",
        "# Print summary\n",
        "print(results1.summary())"
      ],
      "execution_count": 248,
      "outputs": [
        {
          "output_type": "stream",
          "text": [
            "                           Statespace Model Results                           \n",
            "==============================================================================\n",
            "Dep. Variable:                      y   No. Observations:                 1000\n",
            "Model:               SARIMAX(3, 0, 1)   Log Likelihood               -1421.678\n",
            "Date:                Sat, 18 Jan 2020   AIC                           2853.356\n",
            "Time:                        09:20:28   BIC                           2877.895\n",
            "Sample:                    01-01-2013   HQIC                          2862.682\n",
            "                         - 09-27-2015                                         \n",
            "Covariance Type:                  opg                                         \n",
            "==============================================================================\n",
            "                 coef    std err          z      P>|z|      [0.025      0.975]\n",
            "------------------------------------------------------------------------------\n",
            "ar.L1         -0.0719      0.110     -0.653      0.514      -0.288       0.144\n",
            "ar.L2          0.2542      0.034      7.573      0.000       0.188       0.320\n",
            "ar.L3          0.2528      0.039      6.557      0.000       0.177       0.328\n",
            "ma.L1         -0.1302      0.112     -1.158      0.247      -0.351       0.090\n",
            "sigma2         1.0051      0.042     23.701      0.000       0.922       1.088\n",
            "===================================================================================\n",
            "Ljung-Box (Q):                       65.16   Jarque-Bera (JB):                 6.29\n",
            "Prob(Q):                              0.01   Prob(JB):                         0.04\n",
            "Heteroskedasticity (H):               1.01   Skew:                            -0.09\n",
            "Prob(H) (two-sided):                  0.94   Kurtosis:                         3.34\n",
            "===================================================================================\n",
            "\n",
            "Warnings:\n",
            "[1] Covariance matrix calculated using the outer product of gradients (complex-step).\n"
          ],
          "name": "stdout"
        },
        {
          "output_type": "stream",
          "text": [
            "/usr/local/lib/python3.6/dist-packages/statsmodels/tsa/base/tsa_model.py:165: ValueWarning: No frequency information was provided, so inferred frequency D will be used.\n",
            "  % freq, ValueWarning)\n"
          ],
          "name": "stderr"
        }
      ]
    },
    {
      "cell_type": "code",
      "metadata": {
        "id": "iWfIkc3D2jLz",
        "colab_type": "code",
        "colab": {
          "base_uri": "https://localhost:8080/",
          "height": 479
        },
        "outputId": "097edcd4-a340-45eb-bb0f-6710931bfe1f"
      },
      "source": [
        "# Create and fit model\n",
        "model2 = SARIMAX(df, order=(2,0,0))\n",
        "results2 = model2.fit()\n",
        "\n",
        "# Print summary\n",
        "print(results2.summary())"
      ],
      "execution_count": 249,
      "outputs": [
        {
          "output_type": "stream",
          "text": [
            "                           Statespace Model Results                           \n",
            "==============================================================================\n",
            "Dep. Variable:                      y   No. Observations:                 1000\n",
            "Model:               SARIMAX(2, 0, 0)   Log Likelihood               -1462.150\n",
            "Date:                Sat, 18 Jan 2020   AIC                           2930.299\n",
            "Time:                        09:20:31   BIC                           2945.023\n",
            "Sample:                    01-01-2013   HQIC                          2935.895\n",
            "                         - 09-27-2015                                         \n",
            "Covariance Type:                  opg                                         \n",
            "==============================================================================\n",
            "                 coef    std err          z      P>|z|      [0.025      0.975]\n",
            "------------------------------------------------------------------------------\n",
            "ar.L1         -0.1361      0.031     -4.400      0.000      -0.197      -0.075\n",
            "ar.L2          0.2005      0.032      6.355      0.000       0.139       0.262\n",
            "sigma2         1.0901      0.043     25.360      0.000       1.006       1.174\n",
            "===================================================================================\n",
            "Ljung-Box (Q):                      126.14   Jarque-Bera (JB):                15.52\n",
            "Prob(Q):                              0.00   Prob(JB):                         0.00\n",
            "Heteroskedasticity (H):               1.02   Skew:                            -0.07\n",
            "Prob(H) (two-sided):                  0.85   Kurtosis:                         3.59\n",
            "===================================================================================\n",
            "\n",
            "Warnings:\n",
            "[1] Covariance matrix calculated using the outer product of gradients (complex-step).\n"
          ],
          "name": "stdout"
        },
        {
          "output_type": "stream",
          "text": [
            "/usr/local/lib/python3.6/dist-packages/statsmodels/tsa/base/tsa_model.py:165: ValueWarning: No frequency information was provided, so inferred frequency D will be used.\n",
            "  % freq, ValueWarning)\n"
          ],
          "name": "stderr"
        }
      ]
    },
    {
      "cell_type": "markdown",
      "metadata": {
        "id": "pDMJY3Rj2xNl",
        "colab_type": "text"
      },
      "source": [
        "####Plot diagnostics\n",
        "\n",
        "Here is a reminder of what you would like to see in each of the plots for a model that fits well:\n"
      ]
    },
    {
      "cell_type": "markdown",
      "metadata": {
        "id": "zfhBmSGL21RG",
        "colab_type": "text"
      },
      "source": [
        "Test\t|Good fit\n",
        "---|---\n",
        "Standardized residual\t|There are no obvious patterns in the residuals\n",
        "Histogram plus kde estimate\t|The KDE curve should be very similar to the normal distribution\n",
        "Normal Q-Q\t|Most of the data points should lie on the straight line\n",
        "Correlogram\t|95% of correlations for lag greater than one should not be significant"
      ]
    },
    {
      "cell_type": "code",
      "metadata": {
        "id": "wurAsEcI6QdU",
        "colab_type": "code",
        "colab": {}
      },
      "source": [
        "df = df[:300]"
      ],
      "execution_count": 0,
      "outputs": []
    },
    {
      "cell_type": "code",
      "metadata": {
        "id": "wsM4pwm-6mT3",
        "colab_type": "code",
        "colab": {
          "base_uri": "https://localhost:8080/",
          "height": 419
        },
        "outputId": "7fc4daea-b4e5-439d-cf1c-6088f6c59e98"
      },
      "source": [
        "df "
      ],
      "execution_count": 223,
      "outputs": [
        {
          "output_type": "execute_result",
          "data": {
            "text/html": [
              "<div>\n",
              "<style scoped>\n",
              "    .dataframe tbody tr th:only-of-type {\n",
              "        vertical-align: middle;\n",
              "    }\n",
              "\n",
              "    .dataframe tbody tr th {\n",
              "        vertical-align: top;\n",
              "    }\n",
              "\n",
              "    .dataframe thead th {\n",
              "        text-align: right;\n",
              "    }\n",
              "</style>\n",
              "<table border=\"1\" class=\"dataframe\">\n",
              "  <thead>\n",
              "    <tr style=\"text-align: right;\">\n",
              "      <th></th>\n",
              "      <th>1</th>\n",
              "    </tr>\n",
              "  </thead>\n",
              "  <tbody>\n",
              "    <tr>\n",
              "      <th>2013-01-01</th>\n",
              "      <td>1.62435</td>\n",
              "    </tr>\n",
              "    <tr>\n",
              "      <th>2013-01-02</th>\n",
              "      <td>1.33746</td>\n",
              "    </tr>\n",
              "    <tr>\n",
              "      <th>2013-01-03</th>\n",
              "      <td>0.784396</td>\n",
              "    </tr>\n",
              "    <tr>\n",
              "      <th>2013-01-04</th>\n",
              "      <td>-0.401674</td>\n",
              "    </tr>\n",
              "    <tr>\n",
              "      <th>2013-01-05</th>\n",
              "      <td>0.215209</td>\n",
              "    </tr>\n",
              "    <tr>\n",
              "      <th>...</th>\n",
              "      <td>...</td>\n",
              "    </tr>\n",
              "    <tr>\n",
              "      <th>2013-10-23</th>\n",
              "      <td>27.7329</td>\n",
              "    </tr>\n",
              "    <tr>\n",
              "      <th>2013-10-24</th>\n",
              "      <td>28.0758</td>\n",
              "    </tr>\n",
              "    <tr>\n",
              "      <th>2013-10-25</th>\n",
              "      <td>28.9217</td>\n",
              "    </tr>\n",
              "    <tr>\n",
              "      <th>2013-10-26</th>\n",
              "      <td>28.1416</td>\n",
              "    </tr>\n",
              "    <tr>\n",
              "      <th>2013-10-27</th>\n",
              "      <td>28.589</td>\n",
              "    </tr>\n",
              "  </tbody>\n",
              "</table>\n",
              "<p>300 rows × 1 columns</p>\n",
              "</div>"
            ],
            "text/plain": [
              "                   1\n",
              "2013-01-01   1.62435\n",
              "2013-01-02   1.33746\n",
              "2013-01-03  0.784396\n",
              "2013-01-04 -0.401674\n",
              "2013-01-05  0.215209\n",
              "...              ...\n",
              "2013-10-23   27.7329\n",
              "2013-10-24   28.0758\n",
              "2013-10-25   28.9217\n",
              "2013-10-26   28.1416\n",
              "2013-10-27    28.589\n",
              "\n",
              "[300 rows x 1 columns]"
            ]
          },
          "metadata": {
            "tags": []
          },
          "execution_count": 223
        }
      ]
    },
    {
      "cell_type": "code",
      "metadata": {
        "id": "MhVIn3wE2OE5",
        "colab_type": "code",
        "colab": {
          "base_uri": "https://localhost:8080/",
          "height": 349
        },
        "outputId": "e3440a65-a6a1-4646-ea06-6968cbab848d"
      },
      "source": [
        "# Create and fit model\n",
        "model = SARIMAX(df, order=(1,1,1))\n",
        "results = model.fit()\n",
        "\n",
        "# Create the 4 diagostics plots\n",
        "results.plot_diagnostics()\n",
        "plt.show()"
      ],
      "execution_count": 227,
      "outputs": [
        {
          "output_type": "stream",
          "text": [
            "/usr/local/lib/python3.6/dist-packages/statsmodels/tsa/base/tsa_model.py:165: ValueWarning: No frequency information was provided, so inferred frequency D will be used.\n",
            "  % freq, ValueWarning)\n"
          ],
          "name": "stderr"
        },
        {
          "output_type": "display_data",
          "data": {
            "image/png": "[encoded data removed]",
            "text/plain": [
              "<Figure size 432x288 with 4 Axes>"
            ]
          },
          "metadata": {
            "tags": []
          }
        }
      ]
    },
    {
      "cell_type": "markdown",
      "metadata": {
        "id": "PblwTgt69YO1",
        "colab_type": "text"
      },
      "source": [
        "###Box-Jenkins method\n"
      ]
    },
    {
      "cell_type": "markdown",
      "metadata": {
        "id": "Z6GE-VNB9aTN",
        "colab_type": "text"
      },
      "source": [
        "####Identification\n",
        "\n",
        "In the following exercises you will apply to the Box-Jenkins methodology to go from an unknown dataset to a model which is ready to make forecasts."
      ]
    },
    {
      "cell_type": "code",
      "metadata": {
        "id": "7MV_6lb91zel",
        "colab_type": "code",
        "colab": {
          "base_uri": "https://localhost:8080/",
          "height": 450
        },
        "outputId": "8c246690-69c1-4f9a-a0a6-96313495909a"
      },
      "source": [
        "savings"
      ],
      "execution_count": 278,
      "outputs": [
        {
          "output_type": "execute_result",
          "data": {
            "text/html": [
              "<div>\n",
              "<style scoped>\n",
              "    .dataframe tbody tr th:only-of-type {\n",
              "        vertical-align: middle;\n",
              "    }\n",
              "\n",
              "    .dataframe tbody tr th {\n",
              "        vertical-align: top;\n",
              "    }\n",
              "\n",
              "    .dataframe thead th {\n",
              "        text-align: right;\n",
              "    }\n",
              "</style>\n",
              "<table border=\"1\" class=\"dataframe\">\n",
              "  <thead>\n",
              "    <tr style=\"text-align: right;\">\n",
              "      <th></th>\n",
              "      <th>savings</th>\n",
              "    </tr>\n",
              "    <tr>\n",
              "      <th>date</th>\n",
              "      <th></th>\n",
              "    </tr>\n",
              "  </thead>\n",
              "  <tbody>\n",
              "    <tr>\n",
              "      <th>1955-01-01</th>\n",
              "      <td>4.9</td>\n",
              "    </tr>\n",
              "    <tr>\n",
              "      <th>1955-04-01</th>\n",
              "      <td>5.2</td>\n",
              "    </tr>\n",
              "    <tr>\n",
              "      <th>1955-07-01</th>\n",
              "      <td>5.7</td>\n",
              "    </tr>\n",
              "    <tr>\n",
              "      <th>1955-10-01</th>\n",
              "      <td>5.7</td>\n",
              "    </tr>\n",
              "    <tr>\n",
              "      <th>1956-01-01</th>\n",
              "      <td>6.2</td>\n",
              "    </tr>\n",
              "    <tr>\n",
              "      <th>...</th>\n",
              "      <td>...</td>\n",
              "    </tr>\n",
              "    <tr>\n",
              "      <th>1979-04-01</th>\n",
              "      <td>5</td>\n",
              "    </tr>\n",
              "    <tr>\n",
              "      <th>1979-07-01</th>\n",
              "      <td>4.8</td>\n",
              "    </tr>\n",
              "    <tr>\n",
              "      <th>1979-10-01</th>\n",
              "      <td>4.7</td>\n",
              "    </tr>\n",
              "    <tr>\n",
              "      <th>1980-01-01</th>\n",
              "      <td>5</td>\n",
              "    </tr>\n",
              "    <tr>\n",
              "      <th>1980-04-01</th>\n",
              "      <td>5.4</td>\n",
              "    </tr>\n",
              "  </tbody>\n",
              "</table>\n",
              "<p>102 rows × 1 columns</p>\n",
              "</div>"
            ],
            "text/plain": [
              "           savings\n",
              "date              \n",
              "1955-01-01     4.9\n",
              "1955-04-01     5.2\n",
              "1955-07-01     5.7\n",
              "1955-10-01     5.7\n",
              "1956-01-01     6.2\n",
              "...            ...\n",
              "1979-04-01       5\n",
              "1979-07-01     4.8\n",
              "1979-10-01     4.7\n",
              "1980-01-01       5\n",
              "1980-04-01     5.4\n",
              "\n",
              "[102 rows x 1 columns]"
            ]
          },
          "metadata": {
            "tags": []
          },
          "execution_count": 278
        }
      ]
    },
    {
      "cell_type": "markdown",
      "metadata": {
        "id": "h8l7x6uSAwde",
        "colab_type": "text"
      },
      "source": [
        "The time series has been loaded in as a DataFrame `savings` and the `adfuller()` function has been imported."
      ]
    },
    {
      "cell_type": "code",
      "metadata": {
        "id": "gvs4m3ARAwFX",
        "colab_type": "code",
        "colab": {
          "base_uri": "https://localhost:8080/",
          "height": 279
        },
        "outputId": "7127afa1-2307-4ab8-9b40-bba7f6931f1f"
      },
      "source": [
        "# Plot time series\n",
        "savings.plot()\n",
        "plt.show()\n",
        "\n",
        "# Run Dicky-Fuller test\n",
        "result = adfuller(savings['savings'])"
      ],
      "execution_count": 279,
      "outputs": [
        {
          "output_type": "display_data",
          "data": {
            "image/png": "[encoded data removed]",
            "text/plain": [
              "<Figure size 432x288 with 1 Axes>"
            ]
          },
          "metadata": {
            "tags": []
          }
        }
      ]
    },
    {
      "cell_type": "code",
      "metadata": {
        "id": "BTkb37gqA2hv",
        "colab_type": "code",
        "colab": {
          "base_uri": "https://localhost:8080/",
          "height": 153
        },
        "outputId": "b231fd40-fb7e-4143-c57b-ad9e7d411f6e"
      },
      "source": [
        "result"
      ],
      "execution_count": 281,
      "outputs": [
        {
          "output_type": "execute_result",
          "data": {
            "text/plain": [
              "(-3.18589909624214,\n",
              " 0.020815541644114133,\n",
              " 2,\n",
              " 99,\n",
              " {'1%': -3.498198082189098,\n",
              "  '10%': -2.5825959973472097,\n",
              "  '5%': -2.891208211860468},\n",
              " 188.16866622396873)"
            ]
          },
          "metadata": {
            "tags": []
          },
          "execution_count": 281
        }
      ]
    },
    {
      "cell_type": "code",
      "metadata": {
        "id": "kdwBChAqA1nn",
        "colab_type": "code",
        "colab": {
          "base_uri": "https://localhost:8080/",
          "height": 51
        },
        "outputId": "9276a7e3-a31f-4b90-d12b-5be48a34b15e"
      },
      "source": [
        "# Print test statistic\n",
        "print(result[0])\n",
        "\n",
        "# Print p-value\n",
        "print(result[1])"
      ],
      "execution_count": 282,
      "outputs": [
        {
          "output_type": "stream",
          "text": [
            "-3.18589909624214\n",
            "0.020815541644114133\n"
          ],
          "name": "stdout"
        }
      ]
    },
    {
      "cell_type": "markdown",
      "metadata": {
        "id": "hSumuTo8BDCR",
        "colab_type": "text"
      },
      "source": [
        "####Identification II\n",
        "\n",
        "You learned that the savings time series is stationary without differencing. Now that you have this information you can try and identify what order of model will be the best fit."
      ]
    },
    {
      "cell_type": "code",
      "metadata": {
        "id": "cI5n-jAwBKjV",
        "colab_type": "code",
        "colab": {}
      },
      "source": [
        "savings = savings.fillna('mean')"
      ],
      "execution_count": 0,
      "outputs": []
    },
    {
      "cell_type": "code",
      "metadata": {
        "id": "ElQzPBmsBFND",
        "colab_type": "code",
        "colab": {
          "base_uri": "https://localhost:8080/",
          "height": 499
        },
        "outputId": "6855b318-04e8-49c2-f4f2-ba45ec5c0191"
      },
      "source": [
        "# Create figure\n",
        "fig, (ax1, ax2) = plt.subplots(2,1, figsize=(12,8))\n",
        " \n",
        "# Plot the ACF of savings on ax1\n",
        "plot_acf(savings, lags=10, zero=False, ax=ax1)\n",
        "\n",
        "# Plot the PACF of savings on ax2\n",
        "plot_pacf(savings, lags=10, zero=False, ax=ax2)\n",
        "\n",
        "plt.show()"
      ],
      "execution_count": 286,
      "outputs": [
        {
          "output_type": "display_data",
          "data": {
            "image/png": "[encoded data removed]",
            "text/plain": [
              "<Figure size 864x576 with 2 Axes>"
            ]
          },
          "metadata": {
            "tags": []
          }
        }
      ]
    },
    {
      "cell_type": "markdown",
      "metadata": {
        "id": "MEdx26ixBUp3",
        "colab_type": "text"
      },
      "source": [
        "####Estimation\n",
        "\n",
        "In the last exercise, the ACF and PACF were a little inconclusive. The results suggest your data could be an ARMA(p,q) model or could be an imperfect AR(3) model. In this exercise you will search over models over some model orders to find the best one according to AIC."
      ]
    },
    {
      "cell_type": "code",
      "metadata": {
        "id": "OcfYq3dDBWmV",
        "colab_type": "code",
        "colab": {
          "base_uri": "https://localhost:8080/",
          "height": 289
        },
        "outputId": "649e8dc5-272f-438e-8a57-97d562bcdc95"
      },
      "source": [
        "# Loop over p values from 0-3\n",
        "for p in range(4):\n",
        "  \n",
        "  # Loop over q values from 0-3\n",
        "    for q in range(4):\n",
        "      try:\n",
        "        # Create and fit ARMA(p,q) model\n",
        "        model = SARIMAX(savings, order=(p,0,q), trend='c')\n",
        "        results = model.fit()\n",
        "        \n",
        "        # Print p, q, AIC, BIC\n",
        "        print(p, q, results.aic, results.bic)\n",
        "        \n",
        "      except:\n",
        "        print(p, q, None, None)"
      ],
      "execution_count": 289,
      "outputs": [
        {
          "output_type": "stream",
          "text": [
            "0 0 313.6028657326894 318.85281135925794\n",
            "0 1 267.0697097688692 274.944628208722\n",
            "0 2 232.16782676455583 242.66771801769292\n",
            "0 3 217.59720511188743 230.7220691783088\n",
            "1 0 216.20348062499878 224.0783990648516\n",
            "1 1 215.70038963866142 226.2002808917985\n",
            "1 2 207.65298608432607 220.77785015074744\n",
            "1 3 209.57498691600568 225.32482379571132\n",
            "2 0 213.97232327543216 224.47221452856925\n",
            "2 1 213.43035679042714 226.5552208568485\n",
            "2 2 209.5790343679234 225.32887124762902\n",
            "2 3 211.57503208838145 229.94984178137133\n",
            "3 0 209.54493107912012 222.66979514554146\n",
            "3 1 210.82147634943578 226.57131322914142\n",
            "3 2 211.45759881821468 229.83240851120456\n",
            "3 3 213.54389188801392 234.54367439428808\n"
          ],
          "name": "stdout"
        }
      ]
    },
    {
      "cell_type": "markdown",
      "metadata": {
        "id": "dPIcAno4B5jF",
        "colab_type": "text"
      },
      "source": [
        "####Diagnostics\n",
        "\n",
        "You found that the ARMA(1,2) model was the best fit to our data and now you want to check over the predictions it makes before you would move it into production."
      ]
    },
    {
      "cell_type": "markdown",
      "metadata": {
        "id": "gZ84hYgFCArY",
        "colab_type": "text"
      },
      "source": [
        "- Retrain the ARMA(1,2) model on the time series, setting the trend to constant.\n",
        "- Create the 4 standard diagnostics plots.\n",
        "- Print the model residual summary statistics."
      ]
    },
    {
      "cell_type": "code",
      "metadata": {
        "id": "D-F1MhvPCDR_",
        "colab_type": "code",
        "colab": {
          "base_uri": "https://localhost:8080/",
          "height": 295
        },
        "outputId": "dbfb3f0b-ec64-4113-880e-f0960e9b4d6a"
      },
      "source": [
        "# Create and fit model\n",
        "model = SARIMAX(savings, order=(1,0,2), trend='c')\n",
        "results = model.fit()\n",
        "\n",
        "# Create the 4 diagostics plots\n",
        "results.plot_diagnostics()\n",
        "plt.show()"
      ],
      "execution_count": 290,
      "outputs": [
        {
          "output_type": "display_data",
          "data": {
            "image/png": "[encoded data removed]",
            "text/plain": [
              "<Figure size 432x288 with 4 Axes>"
            ]
          },
          "metadata": {
            "tags": []
          }
        }
      ]
    },
    {
      "cell_type": "code",
      "metadata": {
        "id": "rA6wd7XmBEul",
        "colab_type": "code",
        "colab": {
          "base_uri": "https://localhost:8080/",
          "height": 459
        },
        "outputId": "5248afeb-5953-4fde-e219-937edd6a89d6"
      },
      "source": [
        "# Print summary\n",
        "print(results.summary())"
      ],
      "execution_count": 291,
      "outputs": [
        {
          "output_type": "stream",
          "text": [
            "                           Statespace Model Results                           \n",
            "==============================================================================\n",
            "Dep. Variable:                savings   No. Observations:                  102\n",
            "Model:               SARIMAX(1, 0, 2)   Log Likelihood                 -98.826\n",
            "Date:                Sat, 18 Jan 2020   AIC                            207.653\n",
            "Time:                        09:42:45   BIC                            220.778\n",
            "Sample:                    01-01-1955   HQIC                           212.968\n",
            "                         - 04-01-1980                                         \n",
            "Covariance Type:                  opg                                         \n",
            "==============================================================================\n",
            "                 coef    std err          z      P>|z|      [0.025      0.975]\n",
            "------------------------------------------------------------------------------\n",
            "intercept      1.6813      0.714      2.356      0.018       0.283       3.080\n",
            "ar.L1          0.7286      0.111      6.538      0.000       0.510       0.947\n",
            "ma.L1         -0.0539      0.145     -0.372      0.710      -0.338       0.230\n",
            "ma.L2          0.3680      0.097      3.812      0.000       0.179       0.557\n",
            "sigma2         0.4012      0.043      9.265      0.000       0.316       0.486\n",
            "===================================================================================\n",
            "Ljung-Box (Q):                       33.59   Jarque-Bera (JB):                55.13\n",
            "Prob(Q):                              0.75   Prob(JB):                         0.00\n",
            "Heteroskedasticity (H):               2.61   Skew:                             0.82\n",
            "Prob(H) (two-sided):                  0.01   Kurtosis:                         6.20\n",
            "===================================================================================\n",
            "\n",
            "Warnings:\n",
            "[1] Covariance matrix calculated using the outer product of gradients (complex-step).\n"
          ],
          "name": "stdout"
        }
      ]
    },
    {
      "cell_type": "markdown",
      "metadata": {
        "id": "IddSPBRd5qU0",
        "colab_type": "text"
      },
      "source": [
        "# Chapter 4 - Seasonal ARIMA Models\n",
        "\n",
        "In this final chapter, you'll learn how to use seasonal ARIMA models to fit more complex data. You'll learn how to decompose this data into seasonal and non-seasonal parts and then you'll get the chance to utilize all your ARIMA tools on one last global forecast challenge. "
      ]
    },
    {
      "cell_type": "markdown",
      "metadata": {
        "id": "xjpH7rzoCPXy",
        "colab_type": "text"
      },
      "source": [
        "###Seasonal time series\n"
      ]
    },
    {
      "cell_type": "markdown",
      "metadata": {
        "id": "VPBINkELCRIK",
        "colab_type": "text"
      },
      "source": [
        "####Seasonal decompose\n"
      ]
    },
    {
      "cell_type": "markdown",
      "metadata": {
        "id": "sGZor8GgCVYz",
        "colab_type": "text"
      },
      "source": [
        "In this exercise you will decompose a time series showing the monthly milk production per cow in the USA. This will give you a clearer picture of the trend and the seasonal cycle. Since the data is monthly you will guess that the seasonality might be 12 time periods, however this won't always be the case."
      ]
    },
    {
      "cell_type": "code",
      "metadata": {
        "id": "WgT4GyLKBFFy",
        "colab_type": "code",
        "colab": {}
      },
      "source": [
        "milk_production = pd.read_csv('milk_production.csv', index_col='date', parse_dates=True)"
      ],
      "execution_count": 0,
      "outputs": []
    },
    {
      "cell_type": "code",
      "metadata": {
        "id": "FEW_yUw8Chxc",
        "colab_type": "code",
        "colab": {
          "base_uri": "https://localhost:8080/",
          "height": 450
        },
        "outputId": "f9006882-e70d-4ceb-f3b6-4dcf619f121d"
      },
      "source": [
        "milk_production"
      ],
      "execution_count": 293,
      "outputs": [
        {
          "output_type": "execute_result",
          "data": {
            "text/html": [
              "<div>\n",
              "<style scoped>\n",
              "    .dataframe tbody tr th:only-of-type {\n",
              "        vertical-align: middle;\n",
              "    }\n",
              "\n",
              "    .dataframe tbody tr th {\n",
              "        vertical-align: top;\n",
              "    }\n",
              "\n",
              "    .dataframe thead th {\n",
              "        text-align: right;\n",
              "    }\n",
              "</style>\n",
              "<table border=\"1\" class=\"dataframe\">\n",
              "  <thead>\n",
              "    <tr style=\"text-align: right;\">\n",
              "      <th></th>\n",
              "      <th>pounds_per_cow</th>\n",
              "    </tr>\n",
              "    <tr>\n",
              "      <th>date</th>\n",
              "      <th></th>\n",
              "    </tr>\n",
              "  </thead>\n",
              "  <tbody>\n",
              "    <tr>\n",
              "      <th>1962-01-01</th>\n",
              "      <td>589.0</td>\n",
              "    </tr>\n",
              "    <tr>\n",
              "      <th>1962-02-01</th>\n",
              "      <td>561.0</td>\n",
              "    </tr>\n",
              "    <tr>\n",
              "      <th>1962-03-01</th>\n",
              "      <td>640.0</td>\n",
              "    </tr>\n",
              "    <tr>\n",
              "      <th>1962-04-01</th>\n",
              "      <td>656.0</td>\n",
              "    </tr>\n",
              "    <tr>\n",
              "      <th>1962-05-01</th>\n",
              "      <td>727.0</td>\n",
              "    </tr>\n",
              "    <tr>\n",
              "      <th>...</th>\n",
              "      <td>...</td>\n",
              "    </tr>\n",
              "    <tr>\n",
              "      <th>1975-08-01</th>\n",
              "      <td>858.0</td>\n",
              "    </tr>\n",
              "    <tr>\n",
              "      <th>1975-09-01</th>\n",
              "      <td>817.0</td>\n",
              "    </tr>\n",
              "    <tr>\n",
              "      <th>1975-10-01</th>\n",
              "      <td>827.0</td>\n",
              "    </tr>\n",
              "    <tr>\n",
              "      <th>1975-11-01</th>\n",
              "      <td>797.0</td>\n",
              "    </tr>\n",
              "    <tr>\n",
              "      <th>1975-12-01</th>\n",
              "      <td>843.0</td>\n",
              "    </tr>\n",
              "  </tbody>\n",
              "</table>\n",
              "<p>168 rows × 1 columns</p>\n",
              "</div>"
            ],
            "text/plain": [
              "            pounds_per_cow\n",
              "date                      \n",
              "1962-01-01           589.0\n",
              "1962-02-01           561.0\n",
              "1962-03-01           640.0\n",
              "1962-04-01           656.0\n",
              "1962-05-01           727.0\n",
              "...                    ...\n",
              "1975-08-01           858.0\n",
              "1975-09-01           817.0\n",
              "1975-10-01           827.0\n",
              "1975-11-01           797.0\n",
              "1975-12-01           843.0\n",
              "\n",
              "[168 rows x 1 columns]"
            ]
          },
          "metadata": {
            "tags": []
          },
          "execution_count": 293
        }
      ]
    },
    {
      "cell_type": "code",
      "metadata": {
        "trusted": true,
        "id": "7pGxiE3J5qU1",
        "colab_type": "code",
        "colab": {
          "base_uri": "https://localhost:8080/",
          "height": 297
        },
        "outputId": "c2687780-47b6-469e-b45a-43329daced44"
      },
      "source": [
        "# Import seasonal decompose\n",
        "from statsmodels.tsa.seasonal import seasonal_decompose\n",
        "\n",
        "# Perform additive decomposition\n",
        "decomp = seasonal_decompose(milk_production['pounds_per_cow'], \n",
        "                            freq=12)\n",
        "\n",
        "# Plot decomposition\n",
        "decomp.plot()\n",
        "plt.show()"
      ],
      "execution_count": 296,
      "outputs": [
        {
          "output_type": "display_data",
          "data": {
            "image/png": "[encoded data removed]",
            "text/plain": [
              "<Figure size 432x288 with 4 Axes>"
            ]
          },
          "metadata": {
            "tags": []
          }
        }
      ]
    },
    {
      "cell_type": "markdown",
      "metadata": {
        "id": "Khugt6R2CrMj",
        "colab_type": "text"
      },
      "source": [
        "####Seasonal ACF and PACF\n",
        "\n",
        "In this exercise you will use the ACF and PACF to test this data for seasonality."
      ]
    },
    {
      "cell_type": "code",
      "metadata": {
        "id": "T5-sYfhbFaYS",
        "colab_type": "code",
        "colab": {
          "base_uri": "https://localhost:8080/",
          "height": 450
        },
        "outputId": "795cfca0-6dcc-4bc6-b56e-b33d31b1c7d7"
      },
      "source": [
        "water = pd.DataFrame([date, water_consumers]).T\n",
        "water = water.rename({0:'date', 1:'water_consumers'}, axis=1)\n",
        "water = water.set_index('date')\n",
        "water"
      ],
      "execution_count": 299,
      "outputs": [
        {
          "output_type": "execute_result",
          "data": {
            "text/html": [
              "<div>\n",
              "<style scoped>\n",
              "    .dataframe tbody tr th:only-of-type {\n",
              "        vertical-align: middle;\n",
              "    }\n",
              "\n",
              "    .dataframe tbody tr th {\n",
              "        vertical-align: top;\n",
              "    }\n",
              "\n",
              "    .dataframe thead th {\n",
              "        text-align: right;\n",
              "    }\n",
              "</style>\n",
              "<table border=\"1\" class=\"dataframe\">\n",
              "  <thead>\n",
              "    <tr style=\"text-align: right;\">\n",
              "      <th></th>\n",
              "      <th>water_consumers</th>\n",
              "    </tr>\n",
              "    <tr>\n",
              "      <th>date</th>\n",
              "      <th></th>\n",
              "    </tr>\n",
              "  </thead>\n",
              "  <tbody>\n",
              "    <tr>\n",
              "      <th>1983-01-01</th>\n",
              "      <td>24963</td>\n",
              "    </tr>\n",
              "    <tr>\n",
              "      <th>1983-02-01</th>\n",
              "      <td>27380</td>\n",
              "    </tr>\n",
              "    <tr>\n",
              "      <th>1983-03-01</th>\n",
              "      <td>32588</td>\n",
              "    </tr>\n",
              "    <tr>\n",
              "      <th>1983-04-01</th>\n",
              "      <td>25511</td>\n",
              "    </tr>\n",
              "    <tr>\n",
              "      <th>1983-05-01</th>\n",
              "      <td>32313</td>\n",
              "    </tr>\n",
              "    <tr>\n",
              "      <th>...</th>\n",
              "      <td>...</td>\n",
              "    </tr>\n",
              "    <tr>\n",
              "      <th>1993-12-01</th>\n",
              "      <td>32256</td>\n",
              "    </tr>\n",
              "    <tr>\n",
              "      <th>1994-01-01</th>\n",
              "      <td>27517</td>\n",
              "    </tr>\n",
              "    <tr>\n",
              "      <th>1994-02-01</th>\n",
              "      <td>33454</td>\n",
              "    </tr>\n",
              "    <tr>\n",
              "      <th>1994-03-01</th>\n",
              "      <td>38539</td>\n",
              "    </tr>\n",
              "    <tr>\n",
              "      <th>1994-04-01</th>\n",
              "      <td>31775</td>\n",
              "    </tr>\n",
              "  </tbody>\n",
              "</table>\n",
              "<p>136 rows × 1 columns</p>\n",
              "</div>"
            ],
            "text/plain": [
              "           water_consumers\n",
              "date                      \n",
              "1983-01-01           24963\n",
              "1983-02-01           27380\n",
              "1983-03-01           32588\n",
              "1983-04-01           25511\n",
              "1983-05-01           32313\n",
              "...                    ...\n",
              "1993-12-01           32256\n",
              "1994-01-01           27517\n",
              "1994-02-01           33454\n",
              "1994-03-01           38539\n",
              "1994-04-01           31775\n",
              "\n",
              "[136 rows x 1 columns]"
            ]
          },
          "metadata": {
            "tags": []
          },
          "execution_count": 299
        }
      ]
    },
    {
      "cell_type": "markdown",
      "metadata": {
        "id": "kpH4IYfxF0SV",
        "colab_type": "text"
      },
      "source": [
        "- Plot the ACF of the `'water_consumers'` column of the time series up to 25 lags."
      ]
    },
    {
      "cell_type": "code",
      "metadata": {
        "id": "jpeu5L03F5n2",
        "colab_type": "code",
        "colab": {}
      },
      "source": [
        "water = water.fillna('mean')"
      ],
      "execution_count": 0,
      "outputs": []
    },
    {
      "cell_type": "code",
      "metadata": {
        "trusted": true,
        "id": "7-wLxDEu5qU6",
        "colab_type": "code",
        "colab": {
          "base_uri": "https://localhost:8080/",
          "height": 281
        },
        "outputId": "3035637e-0c56-455a-b384-f18916dd1b46"
      },
      "source": [
        "# Create figure and subplot\n",
        "fig, ax1 = plt.subplots()\n",
        "\n",
        "# Plot the ACF on ax1\n",
        "plot_acf(water['water_consumers'], lags=25, zero=False,  ax=ax1)\n",
        "\n",
        "# Show figure\n",
        "plt.show()"
      ],
      "execution_count": 303,
      "outputs": [
        {
          "output_type": "display_data",
          "data": {
            "image/png": "[encoded data removed]",
            "text/plain": [
              "<Figure size 432x288 with 1 Axes>"
            ]
          },
          "metadata": {
            "tags": []
          }
        }
      ]
    },
    {
      "cell_type": "markdown",
      "metadata": {
        "id": "YxFf1X3PGAnA",
        "colab_type": "text"
      },
      "source": [
        "- Subtract a 15 step rolling mean from the original time series and assign this to `water_2`\n",
        "- Drop the `NaN` values from `water_2`"
      ]
    },
    {
      "cell_type": "code",
      "metadata": {
        "id": "BIDKIfmQGEZn",
        "colab_type": "code",
        "colab": {
          "base_uri": "https://localhost:8080/",
          "height": 281
        },
        "outputId": "72058614-83cc-4c91-865e-2374f0d2dd0b"
      },
      "source": [
        "# Subtract the rolling mean\n",
        "water_2 = water - water.rolling(15).mean()\n",
        "\n",
        "# Drop the NaN values\n",
        "water_2 = water_2.dropna()\n",
        "\n",
        "# Create figure and subplots\n",
        "fig, ax1 = plt.subplots()\n",
        "\n",
        "# Plot the ACF\n",
        "plot_acf(water_2['water_consumers'], lags=25, zero=False, ax=ax1)\n",
        "\n",
        "# Show figure\n",
        "plt.show()"
      ],
      "execution_count": 304,
      "outputs": [
        {
          "output_type": "display_data",
          "data": {
            "image/png": "[encoded data removed]",
            "text/plain": [
              "<Figure size 432x288 with 1 Axes>"
            ]
          },
          "metadata": {
            "tags": []
          }
        }
      ]
    },
    {
      "cell_type": "markdown",
      "metadata": {
        "id": "Dccdsu2HGL4Q",
        "colab_type": "text"
      },
      "source": [
        "###SARIMA models\n"
      ]
    },
    {
      "cell_type": "markdown",
      "metadata": {
        "id": "bPwX4zZbGNvY",
        "colab_type": "text"
      },
      "source": [
        "####Fitting SARIMA models\n"
      ]
    },
    {
      "cell_type": "code",
      "metadata": {
        "id": "MC5gJlZkGTbh",
        "colab_type": "code",
        "colab": {}
      },
      "source": [
        "# Create a SARIMAX model\n",
        "model = SARIMAX(df1, order=(1,0,0), seasonal_order=(1,1,0,7))\n",
        "\n",
        "# Fit the model\n",
        "results = model.fit()\n",
        "\n",
        "# Print the results summary\n",
        "print(results.summary())"
      ],
      "execution_count": 0,
      "outputs": []
    },
    {
      "cell_type": "code",
      "metadata": {
        "id": "V6pEVuXzGWPK",
        "colab_type": "code",
        "colab": {}
      },
      "source": [
        "# Create a SARIMAX model\n",
        "model = SARIMAX(df2, order=(2,1,1), seasonal_order=(1,0,0,4))\n",
        "\n",
        "# Fit the model\n",
        "results = model.fit()\n",
        "\n",
        "# Print the results summary\n",
        "print(results.summary())"
      ],
      "execution_count": 0,
      "outputs": []
    },
    {
      "cell_type": "code",
      "metadata": {
        "id": "No_K3xzVGYWq",
        "colab_type": "code",
        "colab": {}
      },
      "source": [
        "# Create a SARIMAX model\n",
        "model = SARIMAX(df3, order=(1,1,0), seasonal_order=(0,1,1,12))\n",
        "\n",
        "# Fit the model\n",
        "results = model.fit()\n",
        "\n",
        "# Print the results summary\n",
        "print(results.summary())"
      ],
      "execution_count": 0,
      "outputs": []
    },
    {
      "cell_type": "markdown",
      "metadata": {
        "id": "_do5HLiBGatT",
        "colab_type": "text"
      },
      "source": [
        "####Choosing SARIMA order\n",
        "\n",
        "You will create non-seasonal and seasonal ACF and PACF plots and use the table below to choose the appropriate model orders."
      ]
    },
    {
      "cell_type": "markdown",
      "metadata": {
        "id": "dInd1tyMGgRz",
        "colab_type": "text"
      },
      "source": [
        ".|AR(p)\t|MA(q)|\tARMA(p,q)\n",
        "---|---|---|---\n",
        "ACF\t|Tails off|\tCuts off after lag q|\tTails off\n",
        "PACF|\tCuts off after lag p|\tTails off|\tTails off"
      ]
    },
    {
      "cell_type": "code",
      "metadata": {
        "id": "Y3yfhozaGvPt",
        "colab_type": "code",
        "colab": {
          "base_uri": "https://localhost:8080/",
          "height": 450
        },
        "outputId": "29fd9bf3-e6f1-4e90-c10d-e52db4795f16"
      },
      "source": [
        "aus_employment = pd.DataFrame([date, people_employed]).T\n",
        "aus_employment = aus_employment.rename({0:'date', 1:'people_employed'}, axis=1)\n",
        "aus_employment = aus_employment.set_index('date')\n",
        "aus_employment"
      ],
      "execution_count": 314,
      "outputs": [
        {
          "output_type": "execute_result",
          "data": {
            "text/html": [
              "<div>\n",
              "<style scoped>\n",
              "    .dataframe tbody tr th:only-of-type {\n",
              "        vertical-align: middle;\n",
              "    }\n",
              "\n",
              "    .dataframe tbody tr th {\n",
              "        vertical-align: top;\n",
              "    }\n",
              "\n",
              "    .dataframe thead th {\n",
              "        text-align: right;\n",
              "    }\n",
              "</style>\n",
              "<table border=\"1\" class=\"dataframe\">\n",
              "  <thead>\n",
              "    <tr style=\"text-align: right;\">\n",
              "      <th></th>\n",
              "      <th>people_employed</th>\n",
              "    </tr>\n",
              "    <tr>\n",
              "      <th>date</th>\n",
              "      <th></th>\n",
              "    </tr>\n",
              "  </thead>\n",
              "  <tbody>\n",
              "    <tr>\n",
              "      <th>1978-01-01</th>\n",
              "      <td>5985.7</td>\n",
              "    </tr>\n",
              "    <tr>\n",
              "      <th>1978-02-01</th>\n",
              "      <td>6040.6</td>\n",
              "    </tr>\n",
              "    <tr>\n",
              "      <th>1978-03-01</th>\n",
              "      <td>6054.2</td>\n",
              "    </tr>\n",
              "    <tr>\n",
              "      <th>1978-04-01</th>\n",
              "      <td>6038.3</td>\n",
              "    </tr>\n",
              "    <tr>\n",
              "      <th>1978-05-01</th>\n",
              "      <td>6031.3</td>\n",
              "    </tr>\n",
              "    <tr>\n",
              "      <th>...</th>\n",
              "      <td>...</td>\n",
              "    </tr>\n",
              "    <tr>\n",
              "      <th>1990-11-01</th>\n",
              "      <td>7941.2</td>\n",
              "    </tr>\n",
              "    <tr>\n",
              "      <th>1990-12-01</th>\n",
              "      <td>7668.8</td>\n",
              "    </tr>\n",
              "    <tr>\n",
              "      <th>1991-01-01</th>\n",
              "      <td>7739.3</td>\n",
              "    </tr>\n",
              "    <tr>\n",
              "      <th>1991-02-01</th>\n",
              "      <td>7746.5</td>\n",
              "    </tr>\n",
              "    <tr>\n",
              "      <th>1991-03-01</th>\n",
              "      <td>7750.5</td>\n",
              "    </tr>\n",
              "  </tbody>\n",
              "</table>\n",
              "<p>159 rows × 1 columns</p>\n",
              "</div>"
            ],
            "text/plain": [
              "           people_employed\n",
              "date                      \n",
              "1978-01-01          5985.7\n",
              "1978-02-01          6040.6\n",
              "1978-03-01          6054.2\n",
              "1978-04-01          6038.3\n",
              "1978-05-01          6031.3\n",
              "...                    ...\n",
              "1990-11-01          7941.2\n",
              "1990-12-01          7668.8\n",
              "1991-01-01          7739.3\n",
              "1991-02-01          7746.5\n",
              "1991-03-01          7750.5\n",
              "\n",
              "[159 rows x 1 columns]"
            ]
          },
          "metadata": {
            "tags": []
          },
          "execution_count": 314
        }
      ]
    },
    {
      "cell_type": "code",
      "metadata": {
        "id": "00cy_ZzfGo3M",
        "colab_type": "code",
        "colab": {}
      },
      "source": [
        "# Take the first and seasonal differences and drop NaNs\n",
        "aus_employment_diff = aus_employment.diff().diff(12).dropna()"
      ],
      "execution_count": 0,
      "outputs": []
    },
    {
      "cell_type": "markdown",
      "metadata": {
        "id": "8mzjpRrmHVUH",
        "colab_type": "text"
      },
      "source": [
        "The DataFrame `aus_employment` and the functions `plot_acf()` and `plot_pacf()` are available in your environment."
      ]
    },
    {
      "cell_type": "code",
      "metadata": {
        "id": "qZ9F7ZIUHaiy",
        "colab_type": "code",
        "colab": {}
      },
      "source": [
        "aus_employment_diff = aus_employment_diff.fillna('mean')"
      ],
      "execution_count": 0,
      "outputs": []
    },
    {
      "cell_type": "code",
      "metadata": {
        "id": "6GVNJ1c2GfiL",
        "colab_type": "code",
        "colab": {
          "base_uri": "https://localhost:8080/",
          "height": 390
        },
        "outputId": "a65892bd-728b-4441-c602-6d3e4b50c5a0"
      },
      "source": [
        "# Create the figure \n",
        "fig, (ax1, ax2) = plt.subplots(2,1,figsize=(8,6))\n",
        "\n",
        "# Plot the ACF on ax1\n",
        "plot_acf(aus_employment_diff, lags=11, zero=False, ax=ax1)\n",
        "\n",
        "# Plot the PACF on ax2\n",
        "plot_pacf(aus_employment_diff, lags=11, zero=False, ax=ax2)\n",
        "\n",
        "plt.show()"
      ],
      "execution_count": 317,
      "outputs": [
        {
          "output_type": "display_data",
          "data": {
            "image/png": "[encoded data removed]",
            "text/plain": [
              "<Figure size 576x432 with 2 Axes>"
            ]
          },
          "metadata": {
            "tags": []
          }
        }
      ]
    },
    {
      "cell_type": "code",
      "metadata": {
        "id": "tp36NloKG25e",
        "colab_type": "code",
        "colab": {
          "base_uri": "https://localhost:8080/",
          "height": 390
        },
        "outputId": "8c213a8e-13c8-4282-92ba-72e5da7a348a"
      },
      "source": [
        "# Make list of lags\n",
        "lags = [12, 24, 36, 48, 60]\n",
        "\n",
        "# Create the figure \n",
        "fig, (ax1, ax2) = plt.subplots(2,1,figsize=(8,6))\n",
        "\n",
        "# Plot the ACF on ax1\n",
        "plot_acf(aus_employment_diff, lags=lags, ax=ax1)\n",
        "\n",
        "# Plot the PACF on ax2\n",
        "plot_pacf(aus_employment_diff, lags=lags, ax=ax2)\n",
        "\n",
        "plt.show()"
      ],
      "execution_count": 318,
      "outputs": [
        {
          "output_type": "display_data",
          "data": {
            "image/png": "[encoded data removed]",
            "text/plain": [
              "<Figure size 576x432 with 2 Axes>"
            ]
          },
          "metadata": {
            "tags": []
          }
        }
      ]
    },
    {
      "cell_type": "markdown",
      "metadata": {
        "id": "Oc0uw8IRH2T2",
        "colab_type": "text"
      },
      "source": [
        "####SARIMA vs ARIMA forecasts\n",
        "\n",
        "In this exercise, you will see the effect of using a SARIMA model instead of an ARIMA model on your forecasts of seasonal time series."
      ]
    },
    {
      "cell_type": "code",
      "metadata": {
        "id": "PA3t7qK4GS_B",
        "colab_type": "code",
        "colab": {
          "base_uri": "https://localhost:8080/",
          "height": 173
        },
        "outputId": "734bfdae-e3cc-4550-f664-69d1d87971fa"
      },
      "source": [
        "wisconsin_test = pd.DataFrame([date, people_employed]).T\n",
        "wisconsin_test = wisconsin_test.rename({0:'date', 1:'people_employed'}, axis=1)\n",
        "wisconsin_test = wisconsin_test.set_index('date')\n",
        "wisconsin_test = wisconsin_test.fillna('mean')\n",
        "wisconsin_test[:3]"
      ],
      "execution_count": 326,
      "outputs": [
        {
          "output_type": "execute_result",
          "data": {
            "text/html": [
              "<div>\n",
              "<style scoped>\n",
              "    .dataframe tbody tr th:only-of-type {\n",
              "        vertical-align: middle;\n",
              "    }\n",
              "\n",
              "    .dataframe tbody tr th {\n",
              "        vertical-align: top;\n",
              "    }\n",
              "\n",
              "    .dataframe thead th {\n",
              "        text-align: right;\n",
              "    }\n",
              "</style>\n",
              "<table border=\"1\" class=\"dataframe\">\n",
              "  <thead>\n",
              "    <tr style=\"text-align: right;\">\n",
              "      <th></th>\n",
              "      <th>people_employed</th>\n",
              "    </tr>\n",
              "    <tr>\n",
              "      <th>date</th>\n",
              "      <th></th>\n",
              "    </tr>\n",
              "  </thead>\n",
              "  <tbody>\n",
              "    <tr>\n",
              "      <th>1973-10-01</th>\n",
              "      <td>374.5</td>\n",
              "    </tr>\n",
              "    <tr>\n",
              "      <th>1973-11-01</th>\n",
              "      <td>380.2</td>\n",
              "    </tr>\n",
              "    <tr>\n",
              "      <th>1973-12-01</th>\n",
              "      <td>384.6</td>\n",
              "    </tr>\n",
              "  </tbody>\n",
              "</table>\n",
              "</div>"
            ],
            "text/plain": [
              "            people_employed\n",
              "date                       \n",
              "1973-10-01            374.5\n",
              "1973-11-01            380.2\n",
              "1973-12-01            384.6"
            ]
          },
          "metadata": {
            "tags": []
          },
          "execution_count": 326
        }
      ]
    },
    {
      "cell_type": "code",
      "metadata": {
        "id": "4jxqEMN2JHAv",
        "colab_type": "code",
        "colab": {}
      },
      "source": [
        "wisconsin_test = np.asarray(wisconsin_test)"
      ],
      "execution_count": 0,
      "outputs": []
    },
    {
      "cell_type": "code",
      "metadata": {
        "id": "vuupZUnsIwXk",
        "colab_type": "code",
        "colab": {
          "base_uri": "https://localhost:8080/",
          "height": 476
        },
        "outputId": "ea4d39c4-f49c-4403-b344-16fd9812dc64"
      },
      "source": [
        "# Instantiate the model\n",
        "model = SARIMAX(wisconsin_test, order=(3, 1, 2))\n",
        "\n",
        "# Fit the model\n",
        "arima_results = model.fit()\n",
        "\n",
        "# Print summary\n",
        "print(arima_results.summary())"
      ],
      "execution_count": 340,
      "outputs": [
        {
          "output_type": "stream",
          "text": [
            "                           Statespace Model Results                           \n",
            "==============================================================================\n",
            "Dep. Variable:                      y   No. Observations:                   25\n",
            "Model:               SARIMAX(3, 1, 2)   Log Likelihood                 -81.286\n",
            "Date:                Sat, 18 Jan 2020   AIC                            174.572\n",
            "Time:                        10:23:42   BIC                            181.640\n",
            "Sample:                             0   HQIC                           176.447\n",
            "                                 - 25                                         \n",
            "Covariance Type:                  opg                                         \n",
            "==============================================================================\n",
            "                 coef    std err          z      P>|z|      [0.025      0.975]\n",
            "------------------------------------------------------------------------------\n",
            "ar.L1         -0.0648      0.687     -0.094      0.925      -1.411       1.281\n",
            "ar.L2          0.4366      0.622      0.702      0.483      -0.782       1.655\n",
            "ar.L3         -0.4984      0.488     -1.021      0.307      -1.455       0.459\n",
            "ma.L1          0.3291      6.375      0.052      0.959     -12.166      12.824\n",
            "ma.L2         -0.6638      3.832     -0.173      0.862      -8.174       6.847\n",
            "sigma2        46.9141    263.720      0.178      0.859    -469.967     563.796\n",
            "===================================================================================\n",
            "Ljung-Box (Q):                         nan   Jarque-Bera (JB):                56.98\n",
            "Prob(Q):                               nan   Prob(JB):                         0.00\n",
            "Heteroskedasticity (H):               0.23   Skew:                            -2.54\n",
            "Prob(H) (two-sided):                  0.06   Kurtosis:                         8.59\n",
            "===================================================================================\n",
            "\n",
            "Warnings:\n",
            "[1] Covariance matrix calculated using the outer product of gradients (complex-step).\n"
          ],
          "name": "stdout"
        }
      ]
    },
    {
      "cell_type": "code",
      "metadata": {
        "id": "2gFMowD1IW45",
        "colab_type": "code",
        "colab": {
          "base_uri": "https://localhost:8080/",
          "height": 442
        },
        "outputId": "9418445e-915d-4fb5-d985-9413575a1c7c"
      },
      "source": [
        "# Create a SARIMAX model\n",
        "model = SARIMAX(wisconsin_test, order=(0, 1, 1), seasonal_order=(1, 1, 1, 12))\n",
        "start_params = np.r_[[0] * (model.k_params - 1), 1]\n",
        "\n",
        "# Fit the model\n",
        "sarima_results = model.fit(start_params=start_params)\n",
        "\n",
        "# Print the results summary\n",
        "print(sarima_results.summary())"
      ],
      "execution_count": 341,
      "outputs": [
        {
          "output_type": "stream",
          "text": [
            "                                 Statespace Model Results                                 \n",
            "==========================================================================================\n",
            "Dep. Variable:                                  y   No. Observations:                   25\n",
            "Model:             SARIMAX(0, 1, 1)x(1, 1, 1, 12)   Log Likelihood                 -18.495\n",
            "Date:                            Sat, 18 Jan 2020   AIC                             44.990\n",
            "Time:                                    10:23:44   BIC                             46.929\n",
            "Sample:                                         0   HQIC                            44.272\n",
            "                                             - 25                                         \n",
            "Covariance Type:                              opg                                         \n",
            "==============================================================================\n",
            "                 coef    std err          z      P>|z|      [0.025      0.975]\n",
            "------------------------------------------------------------------------------\n",
            "ma.L1          0.9936     20.245      0.049      0.961     -38.686      40.673\n",
            "ar.S.L12      -0.9794    105.968     -0.009      0.993    -208.672     206.713\n",
            "ma.S.L12      -0.6989   2.32e+04  -3.01e-05      1.000   -4.55e+04    4.55e+04\n",
            "sigma2         0.0162    361.680   4.49e-05      1.000    -708.863     708.895\n",
            "===================================================================================\n",
            "Ljung-Box (Q):                         nan   Jarque-Bera (JB):                 0.90\n",
            "Prob(Q):                               nan   Prob(JB):                         0.64\n",
            "Heteroskedasticity (H):               1.44   Skew:                            -0.29\n",
            "Prob(H) (two-sided):                  0.73   Kurtosis:                         1.79\n",
            "===================================================================================\n",
            "\n",
            "Warnings:\n",
            "[1] Covariance matrix calculated using the outer product of gradients (complex-step).\n"
          ],
          "name": "stdout"
        }
      ]
    },
    {
      "cell_type": "markdown",
      "metadata": {
        "id": "wlLv-LDbKV06",
        "colab_type": "text"
      },
      "source": [
        "The fitted ARIMA results object and the fitted SARIMA results object are available in your environment as `arima_results` and `sarima_results`."
      ]
    },
    {
      "cell_type": "code",
      "metadata": {
        "id": "Wno3WUadKdli",
        "colab_type": "code",
        "colab": {}
      },
      "source": [
        "# Create ARIMA mean forecast\n",
        "arima_pred = arima_results.get_forecast(steps=25)\n",
        "arima_mean = arima_pred.predicted_mean\n",
        "\n",
        "# Create SARIMA mean forecast\n",
        "sarima_pred = sarima_results.get_forecast(steps=25)\n",
        "sarima_mean = sarima_pred.predicted_mean"
      ],
      "execution_count": 0,
      "outputs": []
    },
    {
      "cell_type": "code",
      "metadata": {
        "id": "-NYfT_YoK5ew",
        "colab_type": "code",
        "colab": {
          "base_uri": "https://localhost:8080/",
          "height": 265
        },
        "outputId": "2aed67c5-b19a-44ec-f28e-04b8b85157a9"
      },
      "source": [
        "# Plot mean ARIMA and SARIMA predictions and observed\n",
        "plt.plot(dates, sarima_mean, label='SARIMA')\n",
        "plt.plot(dates, arima_mean, label='ARIMA')\n",
        "plt.plot(wisconsin_test, label='observed')\n",
        "plt.legend()\n",
        "plt.show()"
      ],
      "execution_count": 357,
      "outputs": [
        {
          "output_type": "display_data",
          "data": {
            "image/png": "[encoded data removed]",
            "text/plain": [
              "<Figure size 432x288 with 1 Axes>"
            ]
          },
          "metadata": {
            "tags": []
          }
        }
      ]
    },
    {
      "cell_type": "markdown",
      "metadata": {
        "id": "X_hju3OnM1Uy",
        "colab_type": "text"
      },
      "source": [
        "###Automation and saving\n"
      ]
    },
    {
      "cell_type": "markdown",
      "metadata": {
        "id": "U8YLp7XkM5FM",
        "colab_type": "text"
      },
      "source": [
        "####Automated model selection\n",
        "The `pmdarima` package is a powerful tool to help you choose the model orders. You can use the information you already have from the identification step to narrow down the model orders which you choose by automation."
      ]
    },
    {
      "cell_type": "code",
      "metadata": {
        "id": "FCklmMElWHH9",
        "colab_type": "code",
        "colab": {}
      },
      "source": [
        "# Import pmdarima as pm\n",
        "import pmdarima as pm"
      ],
      "execution_count": 0,
      "outputs": []
    },
    {
      "cell_type": "code",
      "metadata": {
        "id": "0iLozEb3M8tt",
        "colab_type": "code",
        "colab": {}
      },
      "source": [
        "# different from original dataset\n",
        "df1, df2, df3 = df, df, df"
      ],
      "execution_count": 0,
      "outputs": []
    },
    {
      "cell_type": "markdown",
      "metadata": {
        "id": "ezyNNze1Wp1a",
        "colab_type": "text"
      },
      "source": [
        "- Model the time series `df1` with period 7 days and set first order seasonal differencing and no non-seasonal differencing."
      ]
    },
    {
      "cell_type": "code",
      "metadata": {
        "id": "wc5B9n1nKXki",
        "colab_type": "code",
        "colab": {
          "base_uri": "https://localhost:8080/",
          "height": 479
        },
        "outputId": "54f6451b-327e-4784-afcc-e6a35ce57464"
      },
      "source": [
        "# Create auto_arima model\n",
        "model1 = pm.auto_arima(df1,\n",
        "                      seasonal=True, m=7,\n",
        "                      d=0, D=1, \n",
        "                 \t  max_p=2, max_q=2,\n",
        "                      trace=True,\n",
        "                      error_action='ignore',\n",
        "                      suppress_warnings=True)         "
      ],
      "execution_count": 367,
      "outputs": [
        {
          "output_type": "stream",
          "text": [
            "Fit ARIMA: order=(2, 0, 2) seasonal_order=(1, 1, 1, 7); AIC=2830.042, BIC=2869.248, Fit time=10.949 seconds\n",
            "Fit ARIMA: order=(0, 0, 0) seasonal_order=(0, 1, 0, 7); AIC=3710.444, BIC=3720.245, Fit time=0.077 seconds\n",
            "Fit ARIMA: order=(1, 0, 0) seasonal_order=(1, 1, 0, 7); AIC=3399.768, BIC=3419.371, Fit time=0.822 seconds\n",
            "Fit ARIMA: order=(0, 0, 1) seasonal_order=(0, 1, 1, 7); AIC=2997.065, BIC=3016.668, Fit time=3.200 seconds\n",
            "Near non-invertible roots for order (0, 0, 1)(0, 1, 1, 7); setting score to inf (at least one inverse root too close to the border of the unit circle: 1.000)\n",
            "Fit ARIMA: order=(0, 0, 0) seasonal_order=(0, 1, 0, 7); AIC=3708.444, BIC=3713.345, Fit time=0.083 seconds\n",
            "Fit ARIMA: order=(2, 0, 2) seasonal_order=(0, 1, 1, 7); AIC=2862.782, BIC=2897.087, Fit time=10.410 seconds\n",
            "Near non-invertible roots for order (2, 0, 2)(0, 1, 1, 7); setting score to inf (at least one inverse root too close to the border of the unit circle: 0.997)\n",
            "Fit ARIMA: order=(2, 0, 2) seasonal_order=(1, 1, 0, 7); AIC=3175.542, BIC=3209.847, Fit time=7.688 seconds\n",
            "Fit ARIMA: order=(2, 0, 2) seasonal_order=(2, 1, 1, 7); AIC=2834.699, BIC=2878.806, Fit time=21.517 seconds\n",
            "Near non-invertible roots for order (2, 0, 2)(2, 1, 1, 7); setting score to inf (at least one inverse root too close to the border of the unit circle: 1.000)\n",
            "Fit ARIMA: order=(2, 0, 2) seasonal_order=(1, 1, 2, 7); AIC=2832.700, BIC=2876.806, Fit time=20.178 seconds\n",
            "Near non-invertible roots for order (2, 0, 2)(1, 1, 2, 7); setting score to inf (at least one inverse root too close to the border of the unit circle: 1.000)\n",
            "Fit ARIMA: order=(2, 0, 2) seasonal_order=(0, 1, 0, 7); AIC=3678.440, BIC=3707.844, Fit time=2.521 seconds\n",
            "Fit ARIMA: order=(2, 0, 2) seasonal_order=(0, 1, 2, 7); AIC=2830.131, BIC=2869.337, Fit time=16.599 seconds\n",
            "Near non-invertible roots for order (2, 0, 2)(0, 1, 2, 7); setting score to inf (at least one inverse root too close to the border of the unit circle: 0.999)\n",
            "Fit ARIMA: order=(2, 0, 2) seasonal_order=(2, 1, 0, 7); AIC=3114.185, BIC=3153.391, Fit time=19.476 seconds\n",
            "Fit ARIMA: order=(2, 0, 2) seasonal_order=(2, 1, 2, 7); AIC=2834.447, BIC=2883.454, Fit time=20.972 seconds\n",
            "Near non-invertible roots for order (2, 0, 2)(2, 1, 2, 7); setting score to inf (at least one inverse root too close to the border of the unit circle: 1.000)\n",
            "Fit ARIMA: order=(1, 0, 2) seasonal_order=(1, 1, 1, 7); AIC=2839.399, BIC=2873.704, Fit time=6.212 seconds\n",
            "Near non-invertible roots for order (1, 0, 2)(1, 1, 1, 7); setting score to inf (at least one inverse root too close to the border of the unit circle: 1.000)\n",
            "Fit ARIMA: order=(2, 0, 1) seasonal_order=(1, 1, 1, 7); AIC=2908.007, BIC=2942.312, Fit time=6.875 seconds\n",
            "Near non-invertible roots for order (2, 0, 1)(1, 1, 1, 7); setting score to inf (at least one inverse root too close to the border of the unit circle: 0.999)\n",
            "Fit ARIMA: order=(1, 0, 1) seasonal_order=(1, 1, 1, 7); AIC=2978.106, BIC=3007.510, Fit time=6.516 seconds\n",
            "Near non-invertible roots for order (1, 0, 1)(1, 1, 1, 7); setting score to inf (at least one inverse root too close to the border of the unit circle: 1.000)\n",
            "Total fit time: 154.115 seconds\n"
          ],
          "name": "stdout"
        }
      ]
    },
    {
      "cell_type": "code",
      "metadata": {
        "id": "OgTxKNxHXarG",
        "colab_type": "code",
        "colab": {
          "base_uri": "https://localhost:8080/",
          "height": 510
        },
        "outputId": "5a7e6d1a-98ee-42a2-9339-5ddd2439e4af"
      },
      "source": [
        "# Print model summary\n",
        "print(model1.summary())"
      ],
      "execution_count": 368,
      "outputs": [
        {
          "output_type": "stream",
          "text": [
            "                                 Statespace Model Results                                \n",
            "=========================================================================================\n",
            "Dep. Variable:                                 y   No. Observations:                 1000\n",
            "Model:             SARIMAX(2, 0, 2)x(1, 1, 1, 7)   Log Likelihood               -1407.021\n",
            "Date:                           Sat, 18 Jan 2020   AIC                           2830.042\n",
            "Time:                                   11:18:28   BIC                           2869.248\n",
            "Sample:                                        0   HQIC                          2844.948\n",
            "                                          - 1000                                         \n",
            "Covariance Type:                             opg                                         \n",
            "==============================================================================\n",
            "                 coef    std err          z      P>|z|      [0.025      0.975]\n",
            "------------------------------------------------------------------------------\n",
            "intercept     -0.0004      0.001     -0.560      0.575      -0.002       0.001\n",
            "ar.L1          0.4887      0.064      7.646      0.000       0.363       0.614\n",
            "ar.L2         -0.2091      0.060     -3.501      0.000      -0.326      -0.092\n",
            "ma.L1         -0.7218      0.051    -14.095      0.000      -0.822      -0.621\n",
            "ma.L2          0.6591      0.048     13.820      0.000       0.566       0.753\n",
            "ar.S.L7       -0.0312      0.037     -0.838      0.402      -0.104       0.042\n",
            "ma.S.L7       -0.9987      0.108     -9.224      0.000      -1.211      -0.787\n",
            "sigma2         0.9626      0.102      9.453      0.000       0.763       1.162\n",
            "===================================================================================\n",
            "Ljung-Box (Q):                       25.45   Jarque-Bera (JB):                 5.35\n",
            "Prob(Q):                              0.96   Prob(JB):                         0.07\n",
            "Heteroskedasticity (H):               0.97   Skew:                            -0.11\n",
            "Prob(H) (two-sided):                  0.76   Kurtosis:                         3.28\n",
            "===================================================================================\n",
            "\n",
            "Warnings:\n",
            "[1] Covariance matrix calculated using the outer product of gradients (complex-step).\n"
          ],
          "name": "stdout"
        }
      ]
    },
    {
      "cell_type": "markdown",
      "metadata": {
        "id": "QMPybHLNWvXa",
        "colab_type": "text"
      },
      "source": [
        "- Create a model to fit `df2`. Set the non-seasonal differencing to 1, the trend to a constant and set no seasonality."
      ]
    },
    {
      "cell_type": "code",
      "metadata": {
        "id": "K4kHTV08Wy1x",
        "colab_type": "code",
        "colab": {
          "base_uri": "https://localhost:8080/",
          "height": 224
        },
        "outputId": "1fc5c94c-986c-42e7-d97a-25df659173e2"
      },
      "source": [
        "# Create model\n",
        "model2 = pm.auto_arima(df2,\n",
        "                      seasonal=False, \n",
        "                      d=1, \n",
        "                      trend='c',\n",
        "                 \t  max_p=2, max_q=2,\n",
        "                      trace=True,\n",
        "                      error_action='ignore',\n",
        "                      suppress_warnings=True) "
      ],
      "execution_count": 369,
      "outputs": [
        {
          "output_type": "stream",
          "text": [
            "Fit ARIMA: order=(2, 1, 2) seasonal_order=(0, 0, 0, 0); AIC=2966.509, BIC=2995.949, Fit time=0.512 seconds\n",
            "Fit ARIMA: order=(0, 1, 0) seasonal_order=(0, 0, 0, 0); AIC=3844.292, BIC=3854.105, Fit time=0.042 seconds\n",
            "Fit ARIMA: order=(1, 1, 0) seasonal_order=(0, 0, 0, 0); AIC=3256.791, BIC=3271.511, Fit time=0.120 seconds\n",
            "Fit ARIMA: order=(0, 1, 1) seasonal_order=(0, 0, 0, 0); AIC=3002.406, BIC=3017.126, Fit time=0.931 seconds\n",
            "Near non-invertible roots for order (0, 1, 1)(0, 0, 0, 0); setting score to inf (at least one inverse root too close to the border of the unit circle: 1.000)\n",
            "Fit ARIMA: order=(0, 1, 0) seasonal_order=(0, 0, 0, 0); AIC=3844.292, BIC=3854.105, Fit time=0.042 seconds\n",
            "Fit ARIMA: order=(1, 1, 2) seasonal_order=(0, 0, 0, 0); AIC=2978.738, BIC=3003.272, Fit time=0.548 seconds\n",
            "Fit ARIMA: order=(2, 1, 1) seasonal_order=(0, 0, 0, 0); AIC=2964.761, BIC=2989.295, Fit time=0.347 seconds\n",
            "Fit ARIMA: order=(1, 1, 1) seasonal_order=(0, 0, 0, 0); AIC=2977.099, BIC=2996.726, Fit time=0.400 seconds\n",
            "Fit ARIMA: order=(2, 1, 0) seasonal_order=(0, 0, 0, 0); AIC=3001.112, BIC=3020.739, Fit time=0.155 seconds\n",
            "Total fit time: 3.108 seconds\n"
          ],
          "name": "stdout"
        }
      ]
    },
    {
      "cell_type": "code",
      "metadata": {
        "id": "O2YvuMTdXfev",
        "colab_type": "code",
        "colab": {
          "base_uri": "https://localhost:8080/",
          "height": 459
        },
        "outputId": "33691017-ef1c-4c26-b157-96f9ce300fb3"
      },
      "source": [
        "# Print model summary\n",
        "print(model2.summary())"
      ],
      "execution_count": 370,
      "outputs": [
        {
          "output_type": "stream",
          "text": [
            "                           Statespace Model Results                           \n",
            "==============================================================================\n",
            "Dep. Variable:                      y   No. Observations:                 1000\n",
            "Model:               SARIMAX(2, 1, 1)   Log Likelihood               -1477.380\n",
            "Date:                Sat, 18 Jan 2020   AIC                           2964.761\n",
            "Time:                        11:18:31   BIC                           2989.295\n",
            "Sample:                             0   HQIC                          2974.086\n",
            "                               - 1000                                         \n",
            "Covariance Type:                  opg                                         \n",
            "==============================================================================\n",
            "                 coef    std err          z      P>|z|      [0.025      0.975]\n",
            "------------------------------------------------------------------------------\n",
            "intercept     -0.0011      0.021     -0.050      0.960      -0.042       0.040\n",
            "ar.L1         -0.7058      0.051    -13.721      0.000      -0.807      -0.605\n",
            "ar.L2         -0.2901      0.044     -6.580      0.000      -0.377      -0.204\n",
            "ma.L1         -0.3802      0.051     -7.425      0.000      -0.481      -0.280\n",
            "sigma2         1.1259      0.050     22.423      0.000       1.027       1.224\n",
            "===================================================================================\n",
            "Ljung-Box (Q):                       91.96   Jarque-Bera (JB):                 1.31\n",
            "Prob(Q):                              0.00   Prob(JB):                         0.52\n",
            "Heteroskedasticity (H):               1.00   Skew:                            -0.09\n",
            "Prob(H) (two-sided):                  0.98   Kurtosis:                         3.04\n",
            "===================================================================================\n",
            "\n",
            "Warnings:\n",
            "[1] Covariance matrix calculated using the outer product of gradients (complex-step).\n"
          ],
          "name": "stdout"
        }
      ]
    },
    {
      "cell_type": "markdown",
      "metadata": {
        "id": "wobGzqKtW7sM",
        "colab_type": "text"
      },
      "source": [
        "- Fit a SARIMAX(p,1,q)(P,1,Q)7 model to the data setting `start_p, start_q, max_p, max_q, max_P` and `max_Q `to 1."
      ]
    },
    {
      "cell_type": "code",
      "metadata": {
        "id": "zWo96F0gKXQy",
        "colab_type": "code",
        "colab": {
          "base_uri": "https://localhost:8080/",
          "height": 326
        },
        "outputId": "3cf60ca3-421d-4eda-89d9-76137cb4b3ed"
      },
      "source": [
        "# Create model for SARIMAX(p,1,q)(P,1,Q)7\n",
        "model3 = pm.auto_arima(df3,\n",
        "                      seasonal=True, m=7,\n",
        "                      d=1, D=1, \n",
        "                      start_p=1, start_q=1,\n",
        "                      max_p=1, max_q=1,\n",
        "                      max_P=1, max_Q=1,\n",
        "                      trace=True,\n",
        "                      error_action='ignore',\n",
        "                      suppress_warnings=True) "
      ],
      "execution_count": 371,
      "outputs": [
        {
          "output_type": "stream",
          "text": [
            "Fit ARIMA: order=(1, 1, 1) seasonal_order=(1, 1, 1, 7); AIC=2986.001, BIC=3015.400, Fit time=8.438 seconds\n",
            "Fit ARIMA: order=(0, 1, 0) seasonal_order=(0, 1, 0, 7); AIC=4542.535, BIC=4552.335, Fit time=0.081 seconds\n",
            "Fit ARIMA: order=(1, 1, 0) seasonal_order=(1, 1, 0, 7); AIC=3637.944, BIC=3657.543, Fit time=0.794 seconds\n",
            "Fit ARIMA: order=(0, 1, 1) seasonal_order=(0, 1, 1, 7); AIC=3048.426, BIC=3068.025, Fit time=5.857 seconds\n",
            "Near non-invertible roots for order (0, 1, 1)(0, 1, 1, 7); setting score to inf (at least one inverse root too close to the border of the unit circle: 0.997)\n",
            "Fit ARIMA: order=(0, 1, 0) seasonal_order=(0, 1, 0, 7); AIC=4540.536, BIC=4545.436, Fit time=0.067 seconds\n",
            "Fit ARIMA: order=(1, 1, 1) seasonal_order=(0, 1, 1, 7); AIC=3005.451, BIC=3029.950, Fit time=5.451 seconds\n",
            "Near non-invertible roots for order (1, 1, 1)(0, 1, 1, 7); setting score to inf (at least one inverse root too close to the border of the unit circle: 0.997)\n",
            "Fit ARIMA: order=(1, 1, 1) seasonal_order=(1, 1, 0, 7); AIC=3401.505, BIC=3426.003, Fit time=1.302 seconds\n",
            "Fit ARIMA: order=(1, 1, 1) seasonal_order=(0, 1, 0, 7); AIC=3733.182, BIC=3752.781, Fit time=0.544 seconds\n",
            "Fit ARIMA: order=(0, 1, 1) seasonal_order=(1, 1, 1, 7); AIC=3030.386, BIC=3054.884, Fit time=5.722 seconds\n",
            "Near non-invertible roots for order (0, 1, 1)(1, 1, 1, 7); setting score to inf (at least one inverse root too close to the border of the unit circle: 0.999)\n",
            "Fit ARIMA: order=(1, 1, 0) seasonal_order=(1, 1, 1, 7); AIC=3274.153, BIC=3298.652, Fit time=4.345 seconds\n",
            "Near non-invertible roots for order (1, 1, 0)(1, 1, 1, 7); setting score to inf (at least one inverse root too close to the border of the unit circle: 0.999)\n",
            "Fit ARIMA: order=(0, 1, 0) seasonal_order=(1, 1, 1, 7); AIC=3858.501, BIC=3878.100, Fit time=2.173 seconds\n",
            "Near non-invertible roots for order (0, 1, 0)(1, 1, 1, 7); setting score to inf (at least one inverse root too close to the border of the unit circle: 0.999)\n",
            "Total fit time: 34.789 seconds\n"
          ],
          "name": "stdout"
        }
      ]
    },
    {
      "cell_type": "code",
      "metadata": {
        "id": "9Q3l56JEXix3",
        "colab_type": "code",
        "colab": {
          "base_uri": "https://localhost:8080/",
          "height": 476
        },
        "outputId": "4330e6d7-e47f-4063-b79f-49ddecfcbc94"
      },
      "source": [
        "# Print model summary\n",
        "print(model3.summary())"
      ],
      "execution_count": 372,
      "outputs": [
        {
          "output_type": "stream",
          "text": [
            "                                 Statespace Model Results                                \n",
            "=========================================================================================\n",
            "Dep. Variable:                                 y   No. Observations:                 1000\n",
            "Model:             SARIMAX(1, 1, 1)x(1, 1, 1, 7)   Log Likelihood               -1487.001\n",
            "Date:                           Sat, 18 Jan 2020   AIC                           2986.001\n",
            "Time:                                   11:19:06   BIC                           3015.400\n",
            "Sample:                                        0   HQIC                          2997.179\n",
            "                                          - 1000                                         \n",
            "Covariance Type:                             opg                                         \n",
            "==============================================================================\n",
            "                 coef    std err          z      P>|z|      [0.025      0.975]\n",
            "------------------------------------------------------------------------------\n",
            "intercept  -2.848e-05      0.000     -0.137      0.891      -0.000       0.000\n",
            "ar.L1         -0.3618      0.034    -10.669      0.000      -0.428      -0.295\n",
            "ma.L1         -0.7568      0.023    -32.261      0.000      -0.803      -0.711\n",
            "ar.S.L7       -0.1152      0.034     -3.360      0.001      -0.182      -0.048\n",
            "ma.S.L7       -0.9975      0.050    -19.865      0.000      -1.096      -0.899\n",
            "sigma2         1.1323      0.065     17.495      0.000       1.005       1.259\n",
            "===================================================================================\n",
            "Ljung-Box (Q):                      114.48   Jarque-Bera (JB):                 1.70\n",
            "Prob(Q):                              0.00   Prob(JB):                         0.43\n",
            "Heteroskedasticity (H):               0.96   Skew:                            -0.05\n",
            "Prob(H) (two-sided):                  0.72   Kurtosis:                         3.18\n",
            "===================================================================================\n",
            "\n",
            "Warnings:\n",
            "[1] Covariance matrix calculated using the outer product of gradients (complex-step).\n"
          ],
          "name": "stdout"
        }
      ]
    },
    {
      "cell_type": "markdown",
      "metadata": {
        "id": "bO34DQpVXFhk",
        "colab_type": "text"
      },
      "source": [
        "####Saving and updating models\n"
      ]
    },
    {
      "cell_type": "code",
      "metadata": {
        "id": "UVlsT5bPXI5T",
        "colab_type": "code",
        "colab": {}
      },
      "source": [
        "# Import joblib\n",
        "import joblib\n",
        "\n",
        "# Set model name\n",
        "filename = \"candy_model.pkl\"\n",
        "\n",
        "# Pickle it\n",
        "joblib.dump(model, filename)"
      ],
      "execution_count": 0,
      "outputs": []
    },
    {
      "cell_type": "markdown",
      "metadata": {
        "id": "FpofeSrKXMIs",
        "colab_type": "text"
      },
      "source": [
        "- Use the `joblib` package to load the model back in as `loaded_model`."
      ]
    },
    {
      "cell_type": "code",
      "metadata": {
        "id": "5nnYK_-3XI_E",
        "colab_type": "code",
        "colab": {}
      },
      "source": [
        "# Import\n",
        "import joblib\n",
        "\n",
        "# Set model name\n",
        "filename = \"candy_model.pkl\"\n",
        "\n",
        "# Load the model back in\n",
        "loaded_model = joblib.load(filename)"
      ],
      "execution_count": 0,
      "outputs": []
    },
    {
      "cell_type": "markdown",
      "metadata": {
        "id": "SkWzuaX5XQ29",
        "colab_type": "text"
      },
      "source": [
        "- Update the loaded model with the data `df_new`."
      ]
    },
    {
      "cell_type": "code",
      "metadata": {
        "id": "7ad-3CSTXR5_",
        "colab_type": "code",
        "colab": {}
      },
      "source": [
        "# Update the model\n",
        "loaded_model.update(df_new)"
      ],
      "execution_count": 0,
      "outputs": []
    },
    {
      "cell_type": "markdown",
      "metadata": {
        "id": "Ct7aA2IGXVAe",
        "colab_type": "text"
      },
      "source": [
        "###SARIMA and Box-Jenkins\n"
      ]
    },
    {
      "cell_type": "markdown",
      "metadata": {
        "id": "R7m549NPXlhS",
        "colab_type": "text"
      },
      "source": [
        "####SARIMA model diagnostics\n"
      ]
    },
    {
      "cell_type": "markdown",
      "metadata": {
        "id": "_fJIpnXNX5TS",
        "colab_type": "text"
      },
      "source": [
        "Usually the next step would be to find the order of differencing and other model orders. However, this time it's already been done for you. The time series is best fit by a $SARIMA(1, 1, 1)(0, 1, 1)_{12}$ model with an added constant."
      ]
    },
    {
      "cell_type": "code",
      "metadata": {
        "id": "ob8QtwsNYARD",
        "colab_type": "code",
        "colab": {}
      },
      "source": [
        "co2 = pd.read_csv('co2.csv', index_col='date', parse_dates=True)"
      ],
      "execution_count": 0,
      "outputs": []
    },
    {
      "cell_type": "code",
      "metadata": {
        "id": "kviE0Jh4ZoD4",
        "colab_type": "code",
        "colab": {
          "base_uri": "https://localhost:8080/",
          "height": 173
        },
        "outputId": "e0975d22-f601-48b5-c3b1-e28a888b8d4f"
      },
      "source": [
        "co2[:3]"
      ],
      "execution_count": 375,
      "outputs": [
        {
          "output_type": "execute_result",
          "data": {
            "text/html": [
              "<div>\n",
              "<style scoped>\n",
              "    .dataframe tbody tr th:only-of-type {\n",
              "        vertical-align: middle;\n",
              "    }\n",
              "\n",
              "    .dataframe tbody tr th {\n",
              "        vertical-align: top;\n",
              "    }\n",
              "\n",
              "    .dataframe thead th {\n",
              "        text-align: right;\n",
              "    }\n",
              "</style>\n",
              "<table border=\"1\" class=\"dataframe\">\n",
              "  <thead>\n",
              "    <tr style=\"text-align: right;\">\n",
              "      <th></th>\n",
              "      <th>CO2_ppm</th>\n",
              "    </tr>\n",
              "    <tr>\n",
              "      <th>date</th>\n",
              "      <th></th>\n",
              "    </tr>\n",
              "  </thead>\n",
              "  <tbody>\n",
              "    <tr>\n",
              "      <th>1958-03-01</th>\n",
              "      <td>315.71</td>\n",
              "    </tr>\n",
              "    <tr>\n",
              "      <th>1958-04-01</th>\n",
              "      <td>317.45</td>\n",
              "    </tr>\n",
              "    <tr>\n",
              "      <th>1958-05-01</th>\n",
              "      <td>317.50</td>\n",
              "    </tr>\n",
              "  </tbody>\n",
              "</table>\n",
              "</div>"
            ],
            "text/plain": [
              "            CO2_ppm\n",
              "date               \n",
              "1958-03-01   315.71\n",
              "1958-04-01   317.45\n",
              "1958-05-01   317.50"
            ]
          },
          "metadata": {
            "tags": []
          },
          "execution_count": 375
        }
      ]
    },
    {
      "cell_type": "markdown",
      "metadata": {
        "id": "cBouBMvAZvp7",
        "colab_type": "text"
      },
      "source": [
        "The DataFrame, `co2`, and the `SARIMAX` model class are available in your environment."
      ]
    },
    {
      "cell_type": "code",
      "metadata": {
        "id": "s7o-OnJTZt-4",
        "colab_type": "code",
        "colab": {}
      },
      "source": [
        "# Import model class\n",
        "from statsmodels.tsa.statespace.sarimax import SARIMAX\n",
        "\n",
        "# Create model object\n",
        "model = SARIMAX(co2, \n",
        "                order=(1, 1, 1),  \n",
        "                seasonal_order=(0, 1, 1, 12), \n",
        "                trend='c')\n",
        "# Fit model\n",
        "results = model.fit()"
      ],
      "execution_count": 0,
      "outputs": []
    },
    {
      "cell_type": "code",
      "metadata": {
        "id": "ukID9HBWYAGU",
        "colab_type": "code",
        "colab": {
          "base_uri": "https://localhost:8080/",
          "height": 465
        },
        "outputId": "c2459bd6-56d7-4d51-902f-0be9f226864c"
      },
      "source": [
        "results.summary()"
      ],
      "execution_count": 377,
      "outputs": [
        {
          "output_type": "execute_result",
          "data": {
            "text/html": [
              "<table class=\"simpletable\">\n",
              "<caption>Statespace Model Results</caption>\n",
              "<tr>\n",
              "  <th>Dep. Variable:</th>               <td>CO2_ppm</td>            <th>  No. Observations:  </th>    <td>727</td>  \n",
              "</tr>\n",
              "<tr>\n",
              "  <th>Model:</th>           <td>SARIMAX(1, 1, 1)x(0, 1, 1, 12)</td> <th>  Log Likelihood     </th> <td>-179.718</td>\n",
              "</tr>\n",
              "<tr>\n",
              "  <th>Date:</th>                   <td>Sat, 18 Jan 2020</td>        <th>  AIC                </th>  <td>369.437</td>\n",
              "</tr>\n",
              "<tr>\n",
              "  <th>Time:</th>                       <td>11:26:30</td>            <th>  BIC                </th>  <td>392.291</td>\n",
              "</tr>\n",
              "<tr>\n",
              "  <th>Sample:</th>                    <td>03-01-1958</td>           <th>  HQIC               </th>  <td>378.263</td>\n",
              "</tr>\n",
              "<tr>\n",
              "  <th></th>                          <td>- 09-01-2018</td>          <th>                     </th>     <td> </td>   \n",
              "</tr>\n",
              "<tr>\n",
              "  <th>Covariance Type:</th>               <td>opg</td>              <th>                     </th>     <td> </td>   \n",
              "</tr>\n",
              "</table>\n",
              "<table class=\"simpletable\">\n",
              "<tr>\n",
              "      <td></td>         <th>coef</th>     <th>std err</th>      <th>z</th>      <th>P>|z|</th>  <th>[0.025</th>    <th>0.975]</th>  \n",
              "</tr>\n",
              "<tr>\n",
              "  <th>intercept</th> <td>    0.0017</td> <td>    0.001</td> <td>    2.805</td> <td> 0.005</td> <td>    0.001</td> <td>    0.003</td>\n",
              "</tr>\n",
              "<tr>\n",
              "  <th>ar.L1</th>     <td>    0.2414</td> <td>    0.078</td> <td>    3.075</td> <td> 0.002</td> <td>    0.088</td> <td>    0.395</td>\n",
              "</tr>\n",
              "<tr>\n",
              "  <th>ma.L1</th>     <td>   -0.6081</td> <td>    0.065</td> <td>   -9.297</td> <td> 0.000</td> <td>   -0.736</td> <td>   -0.480</td>\n",
              "</tr>\n",
              "<tr>\n",
              "  <th>ma.S.L12</th>  <td>   -0.8820</td> <td>    0.019</td> <td>  -45.500</td> <td> 0.000</td> <td>   -0.920</td> <td>   -0.844</td>\n",
              "</tr>\n",
              "<tr>\n",
              "  <th>sigma2</th>    <td>    0.0944</td> <td>    0.005</td> <td>   20.747</td> <td> 0.000</td> <td>    0.086</td> <td>    0.103</td>\n",
              "</tr>\n",
              "</table>\n",
              "<table class=\"simpletable\">\n",
              "<tr>\n",
              "  <th>Ljung-Box (Q):</th>          <td>46.99</td> <th>  Jarque-Bera (JB):  </th> <td>6.19</td>\n",
              "</tr>\n",
              "<tr>\n",
              "  <th>Prob(Q):</th>                <td>0.21</td>  <th>  Prob(JB):          </th> <td>0.05</td>\n",
              "</tr>\n",
              "<tr>\n",
              "  <th>Heteroskedasticity (H):</th> <td>1.13</td>  <th>  Skew:              </th> <td>0.00</td>\n",
              "</tr>\n",
              "<tr>\n",
              "  <th>Prob(H) (two-sided):</th>    <td>0.33</td>  <th>  Kurtosis:          </th> <td>3.46</td>\n",
              "</tr>\n",
              "</table><br/><br/>Warnings:<br/>[1] Covariance matrix calculated using the outer product of gradients (complex-step)."
            ],
            "text/plain": [
              "<class 'statsmodels.iolib.summary.Summary'>\n",
              "\"\"\"\n",
              "                                 Statespace Model Results                                 \n",
              "==========================================================================================\n",
              "Dep. Variable:                            CO2_ppm   No. Observations:                  727\n",
              "Model:             SARIMAX(1, 1, 1)x(0, 1, 1, 12)   Log Likelihood                -179.718\n",
              "Date:                            Sat, 18 Jan 2020   AIC                            369.437\n",
              "Time:                                    11:26:30   BIC                            392.291\n",
              "Sample:                                03-01-1958   HQIC                           378.263\n",
              "                                     - 09-01-2018                                         \n",
              "Covariance Type:                              opg                                         \n",
              "==============================================================================\n",
              "                 coef    std err          z      P>|z|      [0.025      0.975]\n",
              "------------------------------------------------------------------------------\n",
              "intercept      0.0017      0.001      2.805      0.005       0.001       0.003\n",
              "ar.L1          0.2414      0.078      3.075      0.002       0.088       0.395\n",
              "ma.L1         -0.6081      0.065     -9.297      0.000      -0.736      -0.480\n",
              "ma.S.L12      -0.8820      0.019    -45.500      0.000      -0.920      -0.844\n",
              "sigma2         0.0944      0.005     20.747      0.000       0.086       0.103\n",
              "===================================================================================\n",
              "Ljung-Box (Q):                       46.99   Jarque-Bera (JB):                 6.19\n",
              "Prob(Q):                              0.21   Prob(JB):                         0.05\n",
              "Heteroskedasticity (H):               1.13   Skew:                             0.00\n",
              "Prob(H) (two-sided):                  0.33   Kurtosis:                         3.46\n",
              "===================================================================================\n",
              "\n",
              "Warnings:\n",
              "[1] Covariance matrix calculated using the outer product of gradients (complex-step).\n",
              "\"\"\""
            ]
          },
          "metadata": {
            "tags": []
          },
          "execution_count": 377
        }
      ]
    },
    {
      "cell_type": "code",
      "metadata": {
        "id": "LyEvNDxIGEB_",
        "colab_type": "code",
        "colab": {
          "base_uri": "https://localhost:8080/",
          "height": 295
        },
        "outputId": "c5659c34-2096-438a-9820-584b58e32bc0"
      },
      "source": [
        "# Plot common diagnostics\n",
        "results.plot_diagnostics()\n",
        "plt.show()"
      ],
      "execution_count": 378,
      "outputs": [
        {
          "output_type": "display_data",
          "data": {
            "image/png": "[encoded data removed]",
            "text/plain": [
              "<Figure size 432x288 with 4 Axes>"
            ]
          },
          "metadata": {
            "tags": []
          }
        }
      ]
    },
    {
      "cell_type": "markdown",
      "metadata": {
        "id": "4L-rwxI_aFo1",
        "colab_type": "text"
      },
      "source": [
        "####SARIMA forecast\n",
        "\n",
        "In this exercise, you will forecast the $CO_{2}$ time series up to the year 2030 to find the $CO_{2}$ levels if nothing changes."
      ]
    },
    {
      "cell_type": "code",
      "metadata": {
        "id": "SZZfnGp1aBhd",
        "colab_type": "code",
        "colab": {}
      },
      "source": [
        "# Create forecast object\n",
        "forecast_object = results.get_forecast(steps=136)\n",
        "\n",
        "# Extract prediction mean\n",
        "mean = forecast_object.predicted_mean\n",
        "\n",
        "# Extract the confidence intervals\n",
        "conf_int = forecast_object.conf_int()\n",
        "\n",
        "# Extract the forecast dates\n",
        "dates = mean.index"
      ],
      "execution_count": 0,
      "outputs": []
    },
    {
      "cell_type": "code",
      "metadata": {
        "id": "eSjAVGZ0aSOQ",
        "colab_type": "code",
        "colab": {
          "base_uri": "https://localhost:8080/",
          "height": 265
        },
        "outputId": "257be7dc-0def-4e43-f1b0-51629622fde7"
      },
      "source": [
        "plt.figure()\n",
        "\n",
        "# Plot past CO2 levels\n",
        "plt.plot(co2.index, co2, label='past')\n",
        "\n",
        "# Plot the prediction means as line\n",
        "plt.plot(dates, mean, label='predicted')\n",
        "\n",
        "# Shade between the confidence intervals\n",
        "plt.fill_between(dates, conf_int.iloc[:,0], conf_int.iloc[:,1], alpha=0.2)\n",
        "\n",
        "# Plot legend and show figure\n",
        "plt.legend()\n",
        "plt.show()"
      ],
      "execution_count": 380,
      "outputs": [
        {
          "output_type": "display_data",
          "data": {
            "image/png": "[encoded data removed]",
            "text/plain": [
              "<Figure size 432x288 with 1 Axes>"
            ]
          },
          "metadata": {
            "tags": []
          }
        }
      ]
    },
    {
      "cell_type": "code",
      "metadata": {
        "id": "IIUbMq4eai4G",
        "colab_type": "code",
        "colab": {
          "base_uri": "https://localhost:8080/",
          "height": 85
        },
        "outputId": "5cc1c7dd-b1c3-470e-ab6c-c79c50400d07"
      },
      "source": [
        "# Print last predicted mean\n",
        "print(mean.iloc[-1])\n",
        "\n",
        "# Print last confidence interval\n",
        "print(conf_int.iloc[-1])"
      ],
      "execution_count": 381,
      "outputs": [
        {
          "output_type": "stream",
          "text": [
            "438.1950947128102\n",
            "lower CO2_ppm    432.111725\n",
            "upper CO2_ppm    444.278464\n",
            "Name: 2030-01-01 00:00:00, dtype: float64\n"
          ],
          "name": "stdout"
        }
      ]
    }
  ]
}